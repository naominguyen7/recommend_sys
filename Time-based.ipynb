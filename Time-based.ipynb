{
 "cells": [
  {
   "cell_type": "code",
   "execution_count": 1,
   "metadata": {
    "ExecuteTime": {
     "end_time": "2020-06-21T09:58:47.632462Z",
     "start_time": "2020-06-21T09:58:46.482975Z"
    }
   },
   "outputs": [
    {
     "name": "stderr",
     "output_type": "stream",
     "text": [
      "//anaconda3/lib/python3.7/site-packages/lightfm/_lightfm_fast.py:9: UserWarning: LightFM was compiled without OpenMP support. Only a single thread will be used.\n",
      "  warnings.warn('LightFM was compiled without OpenMP support. '\n"
     ]
    }
   ],
   "source": [
    "%load_ext autoreload\n",
    "%autoreload 2\n",
    "%matplotlib inline\n",
    "import pandas as pd, numpy as np\n",
    "import matplotlib.pyplot as plt\n",
    "\n",
    "from lightfm import LightFM\n",
    "from lightfm.evaluation import precision_at_k\n",
    "from lightfm.evaluation import auc_score"
   ]
  },
  {
   "cell_type": "code",
   "execution_count": 2,
   "metadata": {
    "ExecuteTime": {
     "end_time": "2020-06-21T09:58:49.604336Z",
     "start_time": "2020-06-21T09:58:47.634963Z"
    }
   },
   "outputs": [
    {
     "data": {
      "text/html": [
       "<div>\n",
       "<style scoped>\n",
       "    .dataframe tbody tr th:only-of-type {\n",
       "        vertical-align: middle;\n",
       "    }\n",
       "\n",
       "    .dataframe tbody tr th {\n",
       "        vertical-align: top;\n",
       "    }\n",
       "\n",
       "    .dataframe thead th {\n",
       "        text-align: right;\n",
       "    }\n",
       "</style>\n",
       "<table border=\"1\" class=\"dataframe\">\n",
       "  <thead>\n",
       "    <tr style=\"text-align: right;\">\n",
       "      <th></th>\n",
       "      <th>timestamp</th>\n",
       "      <th>visitorid</th>\n",
       "      <th>event</th>\n",
       "      <th>itemid</th>\n",
       "      <th>transactionid</th>\n",
       "      <th>score</th>\n",
       "    </tr>\n",
       "  </thead>\n",
       "  <tbody>\n",
       "    <tr>\n",
       "      <th>1462974</th>\n",
       "      <td>1430622004384</td>\n",
       "      <td>693516</td>\n",
       "      <td>addtocart</td>\n",
       "      <td>297662</td>\n",
       "      <td>NaN</td>\n",
       "      <td>2</td>\n",
       "    </tr>\n",
       "    <tr>\n",
       "      <th>1464806</th>\n",
       "      <td>1430622011289</td>\n",
       "      <td>829044</td>\n",
       "      <td>view</td>\n",
       "      <td>60987</td>\n",
       "      <td>NaN</td>\n",
       "      <td>1</td>\n",
       "    </tr>\n",
       "    <tr>\n",
       "      <th>1463000</th>\n",
       "      <td>1430622013048</td>\n",
       "      <td>652699</td>\n",
       "      <td>view</td>\n",
       "      <td>252860</td>\n",
       "      <td>NaN</td>\n",
       "      <td>1</td>\n",
       "    </tr>\n",
       "    <tr>\n",
       "      <th>1465287</th>\n",
       "      <td>1430622024154</td>\n",
       "      <td>1125936</td>\n",
       "      <td>view</td>\n",
       "      <td>33661</td>\n",
       "      <td>NaN</td>\n",
       "      <td>1</td>\n",
       "    </tr>\n",
       "    <tr>\n",
       "      <th>1462955</th>\n",
       "      <td>1430622026228</td>\n",
       "      <td>693516</td>\n",
       "      <td>view</td>\n",
       "      <td>297662</td>\n",
       "      <td>NaN</td>\n",
       "      <td>1</td>\n",
       "    </tr>\n",
       "  </tbody>\n",
       "</table>\n",
       "</div>"
      ],
      "text/plain": [
       "             timestamp  visitorid      event  itemid  transactionid  score\n",
       "1462974  1430622004384     693516  addtocart  297662            NaN      2\n",
       "1464806  1430622011289     829044       view   60987            NaN      1\n",
       "1463000  1430622013048     652699       view  252860            NaN      1\n",
       "1465287  1430622024154    1125936       view   33661            NaN      1\n",
       "1462955  1430622026228     693516       view  297662            NaN      1"
      ]
     },
     "execution_count": 2,
     "metadata": {},
     "output_type": "execute_result"
    }
   ],
   "source": [
    "event_df = pd.read_csv(\"events.csv.zip\")\n",
    "event_df = event_df.sort_values('timestamp')\n",
    "score_map = {'view':1, 'addtocart':2, 'transaction':3}\n",
    "event_df['score'] = event_df.event.map(score_map)\n",
    "event_df.head()"
   ]
  },
  {
   "cell_type": "code",
   "execution_count": 3,
   "metadata": {
    "ExecuteTime": {
     "end_time": "2020-06-21T09:58:49.622853Z",
     "start_time": "2020-06-21T09:58:49.606206Z"
    }
   },
   "outputs": [
    {
     "data": {
      "text/plain": [
       "(2756101, 6)"
      ]
     },
     "execution_count": 3,
     "metadata": {},
     "output_type": "execute_result"
    }
   ],
   "source": [
    "event_df.shape"
   ]
  },
  {
   "cell_type": "code",
   "execution_count": 4,
   "metadata": {
    "ExecuteTime": {
     "end_time": "2020-06-21T09:58:49.641403Z",
     "start_time": "2020-06-21T09:58:49.624606Z"
    }
   },
   "outputs": [],
   "source": [
    "def get_median_time_lapse(ts_series):\n",
    "    if len(ts_series) < 5:\n",
    "        return None\n",
    "    res = ts_series - ts_series.shift()\n",
    "    res = res[1:]\n",
    "    return np.median(res)\n",
    "# event_df[:300000].groupby('visitorid').timestamp.apply(get_median_time_lapse).hist(bins=100)"
   ]
  },
  {
   "cell_type": "markdown",
   "metadata": {},
   "source": [
    "# How frequent are purchases?"
   ]
  },
  {
   "cell_type": "code",
   "execution_count": 5,
   "metadata": {
    "ExecuteTime": {
     "end_time": "2020-06-21T09:58:49.691563Z",
     "start_time": "2020-06-21T09:58:49.671401Z"
    }
   },
   "outputs": [
    {
     "name": "stdout",
     "output_type": "stream",
     "text": [
      "dt_object = 2018-12-13 20:41:13\n",
      "type(dt_object) = <class 'datetime.datetime'>\n"
     ]
    }
   ],
   "source": [
    "from datetime import datetime\n",
    "\n",
    "timestamp = 1545730073 - 1e6\n",
    "dt_object = datetime.fromtimestamp(timestamp)\n",
    "\n",
    "print(\"dt_object =\", dt_object)\n",
    "print(\"type(dt_object) =\", type(dt_object))"
   ]
  },
  {
   "cell_type": "code",
   "execution_count": 6,
   "metadata": {
    "ExecuteTime": {
     "end_time": "2020-06-21T09:58:50.549050Z",
     "start_time": "2020-06-21T09:58:50.516531Z"
    }
   },
   "outputs": [
    {
     "data": {
      "text/plain": [
       "(Timestamp('2015-05-03 03:00:04.384000'),\n",
       " Timestamp('2015-09-18 02:59:47.788000'))"
      ]
     },
     "execution_count": 6,
     "metadata": {},
     "output_type": "execute_result"
    }
   ],
   "source": [
    "pd.to_datetime(event_df.timestamp.min(), unit='ms'), pd.to_datetime(event_df.timestamp.max(), unit='ms')"
   ]
  },
  {
   "cell_type": "markdown",
   "metadata": {},
   "source": [
    "# Remove customers only views and views too often (20+ views)"
   ]
  },
  {
   "cell_type": "code",
   "execution_count": 7,
   "metadata": {
    "ExecuteTime": {
     "end_time": "2020-06-21T09:58:54.322894Z",
     "start_time": "2020-06-21T09:58:50.966553Z"
    }
   },
   "outputs": [
    {
     "data": {
      "text/html": [
       "<div>\n",
       "<style scoped>\n",
       "    .dataframe tbody tr th:only-of-type {\n",
       "        vertical-align: middle;\n",
       "    }\n",
       "\n",
       "    .dataframe tbody tr th {\n",
       "        vertical-align: top;\n",
       "    }\n",
       "\n",
       "    .dataframe thead tr th {\n",
       "        text-align: left;\n",
       "    }\n",
       "\n",
       "    .dataframe thead tr:last-of-type th {\n",
       "        text-align: right;\n",
       "    }\n",
       "</style>\n",
       "<table border=\"1\" class=\"dataframe\">\n",
       "  <thead>\n",
       "    <tr>\n",
       "      <th></th>\n",
       "      <th colspan=\"2\" halign=\"left\">view</th>\n",
       "      <th colspan=\"2\" halign=\"left\">addtocart</th>\n",
       "      <th colspan=\"2\" halign=\"left\">transaction</th>\n",
       "    </tr>\n",
       "    <tr>\n",
       "      <th></th>\n",
       "      <th>sum</th>\n",
       "      <th>mean</th>\n",
       "      <th>sum</th>\n",
       "      <th>mean</th>\n",
       "      <th>sum</th>\n",
       "      <th>mean</th>\n",
       "    </tr>\n",
       "    <tr>\n",
       "      <th>visitorid</th>\n",
       "      <th></th>\n",
       "      <th></th>\n",
       "      <th></th>\n",
       "      <th></th>\n",
       "      <th></th>\n",
       "      <th></th>\n",
       "    </tr>\n",
       "  </thead>\n",
       "  <tbody>\n",
       "    <tr>\n",
       "      <th>0</th>\n",
       "      <td>3.0</td>\n",
       "      <td>1.0</td>\n",
       "      <td>0.0</td>\n",
       "      <td>0.0</td>\n",
       "      <td>0.0</td>\n",
       "      <td>0.0</td>\n",
       "    </tr>\n",
       "    <tr>\n",
       "      <th>1</th>\n",
       "      <td>1.0</td>\n",
       "      <td>1.0</td>\n",
       "      <td>0.0</td>\n",
       "      <td>0.0</td>\n",
       "      <td>0.0</td>\n",
       "      <td>0.0</td>\n",
       "    </tr>\n",
       "    <tr>\n",
       "      <th>2</th>\n",
       "      <td>8.0</td>\n",
       "      <td>1.0</td>\n",
       "      <td>0.0</td>\n",
       "      <td>0.0</td>\n",
       "      <td>0.0</td>\n",
       "      <td>0.0</td>\n",
       "    </tr>\n",
       "    <tr>\n",
       "      <th>3</th>\n",
       "      <td>1.0</td>\n",
       "      <td>1.0</td>\n",
       "      <td>0.0</td>\n",
       "      <td>0.0</td>\n",
       "      <td>0.0</td>\n",
       "      <td>0.0</td>\n",
       "    </tr>\n",
       "    <tr>\n",
       "      <th>4</th>\n",
       "      <td>1.0</td>\n",
       "      <td>1.0</td>\n",
       "      <td>0.0</td>\n",
       "      <td>0.0</td>\n",
       "      <td>0.0</td>\n",
       "      <td>0.0</td>\n",
       "    </tr>\n",
       "  </tbody>\n",
       "</table>\n",
       "</div>"
      ],
      "text/plain": [
       "          view      addtocart      transaction     \n",
       "           sum mean       sum mean         sum mean\n",
       "visitorid                                          \n",
       "0          3.0  1.0       0.0  0.0         0.0  0.0\n",
       "1          1.0  1.0       0.0  0.0         0.0  0.0\n",
       "2          8.0  1.0       0.0  0.0         0.0  0.0\n",
       "3          1.0  1.0       0.0  0.0         0.0  0.0\n",
       "4          1.0  1.0       0.0  0.0         0.0  0.0"
      ]
     },
     "execution_count": 7,
     "metadata": {},
     "output_type": "execute_result"
    }
   ],
   "source": [
    "for v in event_df.event.unique():\n",
    "    event_df[v] = event_df.event == v\n",
    "actions_by_user = event_df.groupby(\"visitorid\")[['view', 'addtocart','transaction']].agg([sum, 'mean'])\n",
    "actions_by_user.head()"
   ]
  },
  {
   "cell_type": "code",
   "execution_count": 8,
   "metadata": {
    "ExecuteTime": {
     "end_time": "2020-06-21T09:58:54.965613Z",
     "start_time": "2020-06-21T09:58:54.324876Z"
    }
   },
   "outputs": [
    {
     "name": "stdout",
     "output_type": "stream",
     "text": [
      "[ 3.          7.         13.56410256]\n"
     ]
    }
   ],
   "source": [
    "median_view_buy_ratio = actions_by_user[actions_by_user['transaction']['sum']>0]\n",
    "median_view_buy_ratio = median_view_buy_ratio['view']['sum'] / median_view_buy_ratio['transaction']['sum']\n",
    "print(np.percentile(median_view_buy_ratio,[50, 75, 90]))\n",
    "del median_view_buy_ratio"
   ]
  },
  {
   "cell_type": "code",
   "execution_count": 9,
   "metadata": {
    "ExecuteTime": {
     "end_time": "2020-06-21T09:58:55.015020Z",
     "start_time": "2020-06-21T09:58:54.968349Z"
    }
   },
   "outputs": [
    {
     "data": {
      "text/plain": [
       "0.00545694319124142"
      ]
     },
     "execution_count": 9,
     "metadata": {},
     "output_type": "execute_result"
    }
   ],
   "source": [
    "views_by_user = actions_by_user['view']\n",
    "(views_by_user[views_by_user['mean']==1]['sum']>13).mean()"
   ]
  },
  {
   "cell_type": "code",
   "execution_count": 10,
   "metadata": {
    "ExecuteTime": {
     "end_time": "2020-06-21T09:58:55.967889Z",
     "start_time": "2020-06-21T09:58:55.018129Z"
    }
   },
   "outputs": [
    {
     "data": {
      "text/plain": [
       "<matplotlib.axes._subplots.AxesSubplot at 0x12579a550>"
      ]
     },
     "execution_count": 10,
     "metadata": {},
     "output_type": "execute_result"
    },
    {
     "data": {
      "image/png": "[encoded data removed]",
      "text/plain": [
       "<Figure size 432x288 with 1 Axes>"
      ]
     },
     "metadata": {
      "needs_background": "light"
     },
     "output_type": "display_data"
    }
   ],
   "source": [
    "plt.yscale('log')\n",
    "views_by_user[views_by_user['mean']==1]['sum'].hist(bins=50)"
   ]
  },
  {
   "cell_type": "code",
   "execution_count": 11,
   "metadata": {
    "ExecuteTime": {
     "end_time": "2020-06-21T09:58:56.748728Z",
     "start_time": "2020-06-21T09:58:55.969561Z"
    }
   },
   "outputs": [
    {
     "name": "stdout",
     "output_type": "stream",
     "text": [
      "Before:  (2756101, 9)\n",
      "After:  (2558598, 9)\n"
     ]
    }
   ],
   "source": [
    "print('Before: ', event_df.shape)\n",
    "event_df = event_df[~event_df.visitorid.isin(views_by_user[(views_by_user['sum']>13)&(views_by_user['mean']==1)].index.values)]\n",
    "print('After: ', event_df.shape)"
   ]
  },
  {
   "cell_type": "code",
   "execution_count": 12,
   "metadata": {
    "ExecuteTime": {
     "end_time": "2020-06-21T09:58:56.801913Z",
     "start_time": "2020-06-21T09:58:56.750673Z"
    }
   },
   "outputs": [
    {
     "data": {
      "text/plain": [
       "4948"
      ]
     },
     "execution_count": 12,
     "metadata": {},
     "output_type": "execute_result"
    }
   ],
   "source": [
    "from gc import collect\n",
    "collect()"
   ]
  },
  {
   "cell_type": "markdown",
   "metadata": {},
   "source": [
    "# Remove customers never buys but view/add-to-cart too often"
   ]
  },
  {
   "cell_type": "code",
   "execution_count": 13,
   "metadata": {
    "ExecuteTime": {
     "end_time": "2020-06-21T09:58:59.560579Z",
     "start_time": "2020-06-21T09:58:56.803559Z"
    }
   },
   "outputs": [],
   "source": [
    "actions_by_user = event_df.groupby(\"visitorid\")[['view', 'addtocart','transaction']].agg([sum, 'mean'])\n",
    "actions_by_user['non_transaction'] = actions_by_user['view']['sum'] + actions_by_user['addtocart']['sum']"
   ]
  },
  {
   "cell_type": "code",
   "execution_count": 14,
   "metadata": {
    "ExecuteTime": {
     "end_time": "2020-06-21T09:58:59.698318Z",
     "start_time": "2020-06-21T09:58:59.563411Z"
    }
   },
   "outputs": [
    {
     "name": "stdout",
     "output_type": "stream",
     "text": [
      "[ 4.  8. 15.]\n"
     ]
    }
   ],
   "source": [
    "nontrans_trans_ratio = actions_by_user[actions_by_user['transaction']['sum']>0]\n",
    "nontrans_trans_ratio = nontrans_trans_ratio['non_transaction'] / nontrans_trans_ratio['transaction']['sum']\n",
    "print(np.percentile(nontrans_trans_ratio,[50, 75, 90]))\n",
    "del nontrans_trans_ratio"
   ]
  },
  {
   "cell_type": "code",
   "execution_count": 15,
   "metadata": {
    "ExecuteTime": {
     "end_time": "2020-06-21T09:59:00.455209Z",
     "start_time": "2020-06-21T09:58:59.700885Z"
    }
   },
   "outputs": [
    {
     "data": {
      "text/plain": [
       "<matplotlib.axes._subplots.AxesSubplot at 0x11e672940>"
      ]
     },
     "execution_count": 15,
     "metadata": {},
     "output_type": "execute_result"
    },
    {
     "data": {
      "image/png": "[encoded data removed]",
      "text/plain": [
       "<Figure size 432x288 with 1 Axes>"
      ]
     },
     "metadata": {
      "needs_background": "light"
     },
     "output_type": "display_data"
    }
   ],
   "source": [
    "plt.yscale('log')\n",
    "actions_by_user[actions_by_user['transaction']['sum']==0].non_transaction.hist(bins=50)"
   ]
  },
  {
   "cell_type": "code",
   "execution_count": 16,
   "metadata": {
    "ExecuteTime": {
     "end_time": "2020-06-21T09:59:00.518087Z",
     "start_time": "2020-06-21T09:59:00.457073Z"
    }
   },
   "outputs": [
    {
     "data": {
      "text/plain": [
       "0.0010018784320278422"
      ]
     },
     "execution_count": 16,
     "metadata": {},
     "output_type": "execute_result"
    }
   ],
   "source": [
    "(actions_by_user[actions_by_user['transaction']['sum']==0].non_transaction>20).mean()"
   ]
  },
  {
   "cell_type": "code",
   "execution_count": 17,
   "metadata": {
    "ExecuteTime": {
     "end_time": "2020-06-21T09:59:01.251238Z",
     "start_time": "2020-06-21T09:59:00.520653Z"
    }
   },
   "outputs": [
    {
     "name": "stdout",
     "output_type": "stream",
     "text": [
      "Before:  (2558598, 9)\n",
      "After:  (2515925, 9)\n"
     ]
    }
   ],
   "source": [
    "print('Before: ', event_df.shape)\n",
    "event_df = event_df[~event_df.visitorid.isin(actions_by_user[(actions_by_user['transaction']['sum']==0)&(actions_by_user['non_transaction']>39)].index.values)]\n",
    "print('After: ', event_df.shape)\n"
   ]
  },
  {
   "cell_type": "code",
   "execution_count": 18,
   "metadata": {
    "ExecuteTime": {
     "end_time": "2020-06-21T09:59:01.310123Z",
     "start_time": "2020-06-21T09:59:01.252983Z"
    }
   },
   "outputs": [
    {
     "data": {
      "text/plain": [
       "3278"
      ]
     },
     "execution_count": 18,
     "metadata": {},
     "output_type": "execute_result"
    }
   ],
   "source": [
    "collect()"
   ]
  },
  {
   "cell_type": "markdown",
   "metadata": {},
   "source": [
    "# Remove too infrequent users/items"
   ]
  },
  {
   "cell_type": "code",
   "execution_count": 19,
   "metadata": {
    "ExecuteTime": {
     "end_time": "2020-06-21T09:59:01.469386Z",
     "start_time": "2020-06-21T09:59:01.312033Z"
    },
    "scrolled": true
   },
   "outputs": [
    {
     "data": {
      "text/plain": [
       "timestamp              0\n",
       "visitorid              0\n",
       "event                  0\n",
       "itemid                 0\n",
       "transactionid    2493468\n",
       "score                  0\n",
       "addtocart              0\n",
       "view                   0\n",
       "transaction            0\n",
       "dtype: int64"
      ]
     },
     "execution_count": 19,
     "metadata": {},
     "output_type": "execute_result"
    }
   ],
   "source": [
    "event_df.isnull().sum()"
   ]
  },
  {
   "cell_type": "code",
   "execution_count": 20,
   "metadata": {
    "ExecuteTime": {
     "end_time": "2020-06-21T09:59:02.050118Z",
     "start_time": "2020-06-21T09:59:01.470806Z"
    }
   },
   "outputs": [
    {
     "data": {
      "text/plain": [
       "0.9473497697999217"
      ]
     },
     "execution_count": 20,
     "metadata": {},
     "output_type": "execute_result"
    }
   ],
   "source": [
    "visitor_score = event_df.groupby('visitorid').score.count()\n",
    "(visitor_score<5).mean()"
   ]
  },
  {
   "cell_type": "code",
   "execution_count": 21,
   "metadata": {
    "ExecuteTime": {
     "end_time": "2020-06-21T09:59:02.243385Z",
     "start_time": "2020-06-21T09:59:02.053064Z"
    }
   },
   "outputs": [
    {
     "data": {
      "text/plain": [
       "0.6187950030934485"
      ]
     },
     "execution_count": 21,
     "metadata": {},
     "output_type": "execute_result"
    }
   ],
   "source": [
    "item_score = event_df.groupby('itemid').score.count()\n",
    "(item_score<5).mean()"
   ]
  },
  {
   "cell_type": "code",
   "execution_count": 22,
   "metadata": {
    "ExecuteTime": {
     "end_time": "2020-06-21T09:59:05.126565Z",
     "start_time": "2020-06-21T09:59:02.245305Z"
    }
   },
   "outputs": [
    {
     "name": "stdout",
     "output_type": "stream",
     "text": [
      "Before:  (2515925, 9)\n",
      "After:  (671145, 9)\n",
      "Before:  (671145, 9)\n",
      "After:  (596591, 9)\n",
      "Before:  (596591, 9)\n",
      "After:  (563066, 9)\n",
      "Before:  (563066, 9)\n",
      "After:  (555000, 9)\n",
      "Before:  (555000, 9)\n",
      "After:  (550261, 9)\n",
      "Before:  (550261, 9)\n",
      "After:  (549008, 9)\n",
      "Before:  (549008, 9)\n",
      "After:  (548192, 9)\n",
      "Before:  (548192, 9)\n",
      "After:  (547913, 9)\n",
      "Before:  (547913, 9)\n",
      "After:  (547747, 9)\n",
      "Before:  (547747, 9)\n",
      "After:  (547678, 9)\n",
      "Before:  (547678, 9)\n",
      "After:  (547609, 9)\n",
      "Before:  (547609, 9)\n",
      "After:  (547572, 9)\n",
      "Before:  (547572, 9)\n",
      "After:  (547532, 9)\n",
      "Before:  (547532, 9)\n",
      "After:  (547526, 9)\n",
      "Before:  (547526, 9)\n",
      "After:  (547524, 9)\n",
      "Before:  (547524, 9)\n",
      "After:  (547524, 9)\n"
     ]
    }
   ],
   "source": [
    "b = 1e10\n",
    "a = event_df.shape[0]\n",
    "thres_v = 4\n",
    "thres_i = 4\n",
    "while a < b:\n",
    "    b = a\n",
    "    visitor_score = event_df.groupby('visitorid').score.count()\n",
    "    item_score = event_df.groupby('itemid').score.count()\n",
    "    print('Before: ', event_df.shape)\n",
    "    event_df = event_df[event_df.visitorid.isin(visitor_score.index.values[visitor_score>thres_v])&\n",
    "                        event_df.itemid.isin(item_score.index.values[item_score>thres_i])\n",
    "                       ]\n",
    "    print('After: ', event_df.shape)\n",
    "    a = event_df.shape[0]"
   ]
  },
  {
   "cell_type": "code",
   "execution_count": 23,
   "metadata": {
    "ExecuteTime": {
     "end_time": "2020-06-21T09:59:05.145864Z",
     "start_time": "2020-06-21T09:59:05.128166Z"
    }
   },
   "outputs": [
    {
     "data": {
      "text/plain": [
       "(5, 5)"
      ]
     },
     "execution_count": 23,
     "metadata": {},
     "output_type": "execute_result"
    }
   ],
   "source": [
    "visitor_score.min(), item_score.min()"
   ]
  },
  {
   "cell_type": "code",
   "execution_count": 24,
   "metadata": {
    "ExecuteTime": {
     "end_time": "2020-06-21T09:59:05.657001Z",
     "start_time": "2020-06-21T09:59:05.147638Z"
    }
   },
   "outputs": [
    {
     "data": {
      "text/plain": [
       "<matplotlib.axes._subplots.AxesSubplot at 0x120a100b8>"
      ]
     },
     "execution_count": 24,
     "metadata": {},
     "output_type": "execute_result"
    },
    {
     "data": {
      "image/png": "[encoded data removed]",
      "text/plain": [
       "<Figure size 432x288 with 1 Axes>"
      ]
     },
     "metadata": {
      "needs_background": "light"
     },
     "output_type": "display_data"
    }
   ],
   "source": [
    "event_df.timestamp.value_counts().sort_index().plot()"
   ]
  },
  {
   "cell_type": "code",
   "execution_count": 25,
   "metadata": {
    "ExecuteTime": {
     "end_time": "2020-06-21T09:59:05.676693Z",
     "start_time": "2020-06-21T09:59:05.658734Z"
    }
   },
   "outputs": [],
   "source": [
    "def get_largest_score(df):\n",
    "    df = df.sort_values(['score','timestamp'], ascending=False)\n",
    "    res = pd.Series({'score': df.iloc[0].score,\n",
    "                     'timestamp': df.iloc[0].timestamp\n",
    "                    })\n",
    "    return res\n",
    "\n",
    "def dedup(df):\n",
    "    print('Before:', df.shape)\n",
    "    df = df.groupby(['visitorid', 'itemid']).apply(get_largest_score).reset_index()\n",
    "    df['event'] = df.score.map({v:k for k, v in score_map.items()})\n",
    "    print('After:', df.shape)\n",
    "    return df"
   ]
  },
  {
   "cell_type": "code",
   "execution_count": 26,
   "metadata": {
    "ExecuteTime": {
     "end_time": "2020-06-21T09:59:05.734525Z",
     "start_time": "2020-06-21T09:59:05.678039Z"
    }
   },
   "outputs": [
    {
     "name": "stdout",
     "output_type": "stream",
     "text": [
      "Before: (9, 9)\n",
      "After: (7, 5)\n"
     ]
    },
    {
     "data": {
      "text/html": [
       "<div>\n",
       "<style scoped>\n",
       "    .dataframe tbody tr th:only-of-type {\n",
       "        vertical-align: middle;\n",
       "    }\n",
       "\n",
       "    .dataframe tbody tr th {\n",
       "        vertical-align: top;\n",
       "    }\n",
       "\n",
       "    .dataframe thead th {\n",
       "        text-align: right;\n",
       "    }\n",
       "</style>\n",
       "<table border=\"1\" class=\"dataframe\">\n",
       "  <thead>\n",
       "    <tr style=\"text-align: right;\">\n",
       "      <th></th>\n",
       "      <th>visitorid</th>\n",
       "      <th>itemid</th>\n",
       "      <th>score</th>\n",
       "      <th>timestamp</th>\n",
       "      <th>event</th>\n",
       "    </tr>\n",
       "  </thead>\n",
       "  <tbody>\n",
       "    <tr>\n",
       "      <th>0</th>\n",
       "      <td>979664</td>\n",
       "      <td>54805</td>\n",
       "      <td>1</td>\n",
       "      <td>1430622459202</td>\n",
       "      <td>view</td>\n",
       "    </tr>\n",
       "    <tr>\n",
       "      <th>1</th>\n",
       "      <td>979664</td>\n",
       "      <td>91998</td>\n",
       "      <td>1</td>\n",
       "      <td>1430622154356</td>\n",
       "      <td>view</td>\n",
       "    </tr>\n",
       "    <tr>\n",
       "      <th>2</th>\n",
       "      <td>979664</td>\n",
       "      <td>338222</td>\n",
       "      <td>2</td>\n",
       "      <td>1430622085008</td>\n",
       "      <td>addtocart</td>\n",
       "    </tr>\n",
       "    <tr>\n",
       "      <th>3</th>\n",
       "      <td>979664</td>\n",
       "      <td>346597</td>\n",
       "      <td>1</td>\n",
       "      <td>1433052824778</td>\n",
       "      <td>view</td>\n",
       "    </tr>\n",
       "    <tr>\n",
       "      <th>4</th>\n",
       "      <td>979664</td>\n",
       "      <td>355594</td>\n",
       "      <td>1</td>\n",
       "      <td>1430622591111</td>\n",
       "      <td>view</td>\n",
       "    </tr>\n",
       "    <tr>\n",
       "      <th>5</th>\n",
       "      <td>979664</td>\n",
       "      <td>430965</td>\n",
       "      <td>1</td>\n",
       "      <td>1430622231863</td>\n",
       "      <td>view</td>\n",
       "    </tr>\n",
       "    <tr>\n",
       "      <th>6</th>\n",
       "      <td>979664</td>\n",
       "      <td>454393</td>\n",
       "      <td>1</td>\n",
       "      <td>1430622312158</td>\n",
       "      <td>view</td>\n",
       "    </tr>\n",
       "  </tbody>\n",
       "</table>\n",
       "</div>"
      ],
      "text/plain": [
       "   visitorid  itemid  score      timestamp      event\n",
       "0     979664   54805      1  1430622459202       view\n",
       "1     979664   91998      1  1430622154356       view\n",
       "2     979664  338222      2  1430622085008  addtocart\n",
       "3     979664  346597      1  1433052824778       view\n",
       "4     979664  355594      1  1430622591111       view\n",
       "5     979664  430965      1  1430622231863       view\n",
       "6     979664  454393      1  1430622312158       view"
      ]
     },
     "execution_count": 26,
     "metadata": {},
     "output_type": "execute_result"
    }
   ],
   "source": [
    "dedup(event_df[event_df.visitorid==979664])"
   ]
  },
  {
   "cell_type": "code",
   "execution_count": 27,
   "metadata": {
    "ExecuteTime": {
     "end_time": "2020-06-21T09:59:05.794599Z",
     "start_time": "2020-06-21T09:59:05.737010Z"
    }
   },
   "outputs": [
    {
     "data": {
      "text/plain": [
       "20"
      ]
     },
     "execution_count": 27,
     "metadata": {},
     "output_type": "execute_result"
    }
   ],
   "source": [
    "collect()"
   ]
  },
  {
   "cell_type": "markdown",
   "metadata": {},
   "source": [
    "# Final "
   ]
  },
  {
   "cell_type": "code",
   "execution_count": 28,
   "metadata": {
    "ExecuteTime": {
     "end_time": "2020-06-21T10:08:35.873225Z",
     "start_time": "2020-06-21T09:59:05.797146Z"
    }
   },
   "outputs": [
    {
     "name": "stdout",
     "output_type": "stream",
     "text": [
      "Before: (383266, 9)\n",
      "After: (201287, 5)\n",
      "Before: (164258, 9)\n",
      "After: (86554, 5)\n"
     ]
    }
   ],
   "source": [
    "# thres = event_df.timestamp.min()+2.6e9\n",
    "# train = event_df[event_df.timestamp<thres]\n",
    "# train = dedup(train)\n",
    "# test = event_df[(event_df.timestamp>=thres) & (event_df.timestamp<thres+4e8)]\n",
    "# test = dedup(test)\n",
    "\n",
    "\n",
    "thres = int(0.7*len(event_df))\n",
    "train = event_df[:thres]\n",
    "train = dedup(train)\n",
    "test = event_df[thres:]\n",
    "test = dedup(test)\n",
    "train['dataset'] = 'train'\n",
    "test['dataset'] = 'test'\n",
    "combine_df = pd.concat((train, test))"
   ]
  },
  {
   "cell_type": "code",
   "execution_count": 29,
   "metadata": {
    "ExecuteTime": {
     "end_time": "2020-06-21T10:08:35.960237Z",
     "start_time": "2020-06-21T10:08:35.875139Z"
    },
    "scrolled": true
   },
   "outputs": [
    {
     "data": {
      "text/plain": [
       "visitorid    55020\n",
       "itemid       28810\n",
       "dtype: int64"
      ]
     },
     "metadata": {},
     "output_type": "display_data"
    }
   ],
   "source": [
    "collect()\n",
    "display(combine_df[['visitorid', 'itemid']].nunique())"
   ]
  },
  {
   "cell_type": "markdown",
   "metadata": {},
   "source": [
    "## Without filter"
   ]
  },
  {
   "cell_type": "code",
   "execution_count": 30,
   "metadata": {
    "ExecuteTime": {
     "end_time": "2020-06-21T10:08:37.024334Z",
     "start_time": "2020-06-21T10:08:35.962448Z"
    }
   },
   "outputs": [],
   "source": [
    "from helpers import df_to_matrix\n",
    "\n",
    "\n",
    "train, test, uid_to_idx, idx_to_uid,\\\n",
    "mid_to_idx, idx_to_mid = df_to_matrix(combine_df, 'visitorid', 'itemid')"
   ]
  },
  {
   "cell_type": "code",
   "execution_count": 31,
   "metadata": {
    "ExecuteTime": {
     "end_time": "2020-06-21T10:08:37.050919Z",
     "start_time": "2020-06-21T10:08:37.027223Z"
    },
    "scrolled": true
   },
   "outputs": [
    {
     "data": {
      "text/plain": [
       "(<55020x28810 sparse matrix of type '<class 'numpy.float64'>'\n",
       " \twith 201287 stored elements in Compressed Sparse Row format>,\n",
       " <55020x28810 sparse matrix of type '<class 'numpy.float64'>'\n",
       " \twith 86554 stored elements in Compressed Sparse Row format>)"
      ]
     },
     "execution_count": 31,
     "metadata": {},
     "output_type": "execute_result"
    }
   ],
   "source": [
    "train, test"
   ]
  },
  {
   "cell_type": "code",
   "execution_count": 60,
   "metadata": {
    "ExecuteTime": {
     "end_time": "2020-06-18T09:14:09.120191Z",
     "start_time": "2020-06-18T08:19:17.265760Z"
    },
    "scrolled": true
   },
   "outputs": [
    {
     "name": "stdout",
     "output_type": "stream",
     "text": [
      "+------------+------------+------------+------------+------------+\n",
      "|   Epoch    | train p@3  |  test p@3  | train r@100 | test r@100 |\n",
      "+============+============+============+============+============+\n",
      "|     5      |  0.00405   |  0.03469   |  0.17352   |  0.05070   |\n",
      "+------------+------------+------------+------------+------------+\n",
      "|     7      |  0.00501   |  0.04500   |  0.26769   |  0.05219   |\n",
      "+------------+------------+------------+------------+------------+\n",
      "|     9      |  0.00430   |  0.04807   |  0.33662   |  0.05463   |\n",
      "+------------+------------+------------+------------+------------+\n",
      "|     11     |  0.00555   |  0.05056   |  0.38935   |  0.05740   |\n",
      "+------------+------------+------------+------------+------------+\n",
      "|     13     |  0.00615   |  0.05292   |  0.43102   |  0.05849   |\n",
      "+------------+------------+------------+------------+------------+\n",
      "|     15     |  0.00635   |  0.05484   |  0.46501   |  0.06007   |\n",
      "+------------+------------+------------+------------+------------+\n",
      "|     17     |  0.00608   |  0.05714   |  0.49228   |  0.06166   |\n",
      "+------------+------------+------------+------------+------------+\n",
      "|     19     |  0.00676   |  0.05904   |  0.51484   |  0.06314   |\n",
      "+------------+------------+------------+------------+------------+\n",
      "|     21     |  0.00654   |  0.06124   |  0.53521   |  0.06479   |\n",
      "+------------+------------+------------+------------+------------+\n",
      "|     23     |  0.00639   |  0.06255   |  0.55070   |  0.06576   |\n",
      "+------------+------------+------------+------------+------------+\n",
      "|     25     |  0.00639   |  0.06432   |  0.56486   |  0.06692   |\n",
      "+------------+------------+------------+------------+------------+\n",
      "|     27     |  0.00688   |  0.06568   |  0.58008   |  0.06806   |\n",
      "+------------+------------+------------+------------+------------+\n",
      "|     29     |  0.00678   |  0.06712   |  0.59173   |  0.06936   |\n",
      "+------------+------------+------------+------------+------------+\n",
      "|     31     |  0.00701   |  0.06883   |  0.60238   |  0.07056   |\n",
      "+------------+------------+------------+------------+------------+\n",
      "|     33     |  0.00732   |  0.06995   |  0.61369   |  0.07189   |\n",
      "+------------+------------+------------+------------+------------+\n",
      "|     35     |  0.00732   |  0.07170   |  0.62283   |  0.07194   |\n",
      "+------------+------------+------------+------------+------------+\n",
      "|     37     |  0.00708   |  0.07199   |  0.63246   |  0.07290   |\n",
      "+------------+------------+------------+------------+------------+\n",
      "|     39     |  0.00711   |  0.07306   |  0.64136   |  0.07298   |\n",
      "+------------+------------+------------+------------+------------+\n",
      "|     41     |  0.00726   |  0.07448   |  0.64927   |  0.07401   |\n",
      "+------------+------------+------------+------------+------------+\n",
      "|     43     |  0.00710   |  0.07633   |  0.65794   |  0.07460   |\n",
      "+------------+------------+------------+------------+------------+\n",
      "|     45     |  0.00706   |  0.07616   |  0.66440   |  0.07544   |\n",
      "+------------+------------+------------+------------+------------+\n",
      "|     47     |  0.00752   |  0.07753   |  0.66962   |  0.07566   |\n",
      "+------------+------------+------------+------------+------------+\n",
      "|     49     |  0.00743   |  0.07881   |  0.67642   |  0.07596   |\n",
      "+------------+------------+------------+------------+------------+\n",
      "|     51     |  0.00770   |  0.07880   |  0.68274   |  0.07688   |\n",
      "+------------+------------+------------+------------+------------+\n",
      "|     53     |  0.00758   |  0.07974   |  0.68780   |  0.07795   |\n",
      "+------------+------------+------------+------------+------------+\n"
     ]
    },
    {
     "ename": "ValueError",
     "evalue": "too many values to unpack (expected 3)",
     "output_type": "error",
     "traceback": [
      "\u001b[0;31m---------------------------------------\u001b[0m",
      "\u001b[0;31mValueError\u001b[0mTraceback (most recent call last)",
      "\u001b[0;32m<ipython-input-60-651167b5fac1>\u001b[0m in \u001b[0;36m<module>\u001b[0;34m\u001b[0m\n\u001b[1;32m      6\u001b[0m \u001b[0;34m\u001b[0m\u001b[0m\n\u001b[1;32m      7\u001b[0m model, train_patk, test_patk = patk_learning_curve(\n\u001b[0;32m----> 8\u001b[0;31m     \u001b[0mmodel\u001b[0m\u001b[0;34m,\u001b[0m \u001b[0mtrain\u001b[0m\u001b[0;34m,\u001b[0m \u001b[0mtest\u001b[0m\u001b[0;34m,\u001b[0m \u001b[0miterarray\u001b[0m\u001b[0;34m,\u001b[0m \u001b[0mnum_threads\u001b[0m\u001b[0;34m=\u001b[0m\u001b[0;36m8\u001b[0m\u001b[0;34m\u001b[0m\u001b[0;34m\u001b[0m\u001b[0m\n\u001b[0m\u001b[1;32m      9\u001b[0m )\n\u001b[1;32m     10\u001b[0m \u001b[0;34m\u001b[0m\u001b[0m\n",
      "\u001b[0;31mValueError\u001b[0m: too many values to unpack (expected 3)"
     ]
    }
   ],
   "source": [
    "from helpers import patk_learning_curve, plot_patk\n",
    "model = LightFM(loss='warp', random_state=2016, no_components=8)\n",
    "\n",
    "\n",
    "iterarray = range(5, 55, 2)\n",
    "\n",
    "model, train_precisions, test_precisions, train_recalls, test_recalls = patk_learning_curve(\n",
    "    model, train, test, iterarray, num_threads=8\n",
    ")\n",
    "\n",
    "train_auc = auc_score(model, train).mean()\n",
    "test_auc = auc_score(model, test).mean()\n",
    "\n",
    "print('AUC: train %.2f, test %.2f.' % (train_auc, test_auc))\n",
    "\n",
    "# 19 6.2 12.6"
   ]
  },
  {
   "cell_type": "code",
   "execution_count": null,
   "metadata": {
    "ExecuteTime": {
     "end_time": "2020-06-18T09:14:09.122497Z",
     "start_time": "2020-06-18T08:10:00.465Z"
    }
   },
   "outputs": [],
   "source": [
    "from helpers import patk_learning_curve, plot_patk\n",
    "import seaborn as sns\n",
    "import matplotlib.pyplot as plt\n",
    "# Plot train on left\n",
    "ax = plt.subplot(1, 2, 1)\n",
    "fig = ax.get_figure();\n",
    "sns.despine(fig);\n",
    "plot_patk(iterarray, train_patk,\n",
    "         'Train', k=5)\n",
    "\n",
    "# Plot test on right\n",
    "ax = plt.subplot(1, 2, 2)\n",
    "fig = ax.get_figure();\n",
    "sns.despine(fig);\n",
    "plot_patk(iterarray, test_patk,\n",
    "         'Test', k=5)\n",
    "\n",
    "plt.tight_layout();\n"
   ]
  },
  {
   "cell_type": "markdown",
   "metadata": {},
   "source": [
    "## Filter only in test"
   ]
  },
  {
   "cell_type": "code",
   "execution_count": 33,
   "metadata": {
    "ExecuteTime": {
     "end_time": "2020-06-21T10:08:37.097057Z",
     "start_time": "2020-06-21T10:08:37.075713Z"
    }
   },
   "outputs": [
    {
     "data": {
      "text/plain": [
       "(287841, 6)"
      ]
     },
     "execution_count": 33,
     "metadata": {},
     "output_type": "execute_result"
    }
   ],
   "source": [
    "combine_df.shape"
   ]
  },
  {
   "cell_type": "code",
   "execution_count": 34,
   "metadata": {
    "ExecuteTime": {
     "end_time": "2020-06-21T10:08:37.376022Z",
     "start_time": "2020-06-21T10:08:37.098997Z"
    }
   },
   "outputs": [
    {
     "data": {
      "text/plain": [
       "(<19776x23962 sparse matrix of type '<class 'numpy.float64'>'\n",
       " \twith 29799 stored elements in Compressed Sparse Row format>,\n",
       " <19776x23962 sparse matrix of type '<class 'numpy.float64'>'\n",
       " \twith 86554 stored elements in Compressed Sparse Row format>)"
      ]
     },
     "execution_count": 34,
     "metadata": {},
     "output_type": "execute_result"
    }
   ],
   "source": [
    "from helpers import df_to_matrix\n",
    "train1, test1, uid_to_idx1, idx_to_uid1,\\\n",
    "mid_to_idx1, idx_to_mid1 = df_to_matrix(combine_df, 'visitorid', 'itemid', filter_in_test=True)\n",
    "train1, test1"
   ]
  },
  {
   "cell_type": "code",
   "execution_count": 35,
   "metadata": {
    "ExecuteTime": {
     "end_time": "2020-06-21T10:27:47.979693Z",
     "start_time": "2020-06-21T10:08:37.377919Z"
    }
   },
   "outputs": [
    {
     "name": "stdout",
     "output_type": "stream",
     "text": [
      "+------------+------------+------------+------------+------------+\n",
      "|   Epoch    | train p@3  |  test p@3  | train r@100 | test r@100 |\n",
      "+============+============+============+============+============+\n",
      "|     5      |  0.00543   |  0.02608   |  0.16212   |  0.05023   |\n",
      "+------------+------------+------------+------------+------------+\n",
      "|     7      |  0.00539   |  0.03642   |  0.25341   |  0.05510   |\n",
      "+------------+------------+------------+------------+------------+\n",
      "|     9      |  0.00440   |  0.04213   |  0.33790   |  0.05905   |\n",
      "+------------+------------+------------+------------+------------+\n",
      "|     11     |  0.00445   |  0.04346   |  0.44107   |  0.06361   |\n",
      "+------------+------------+------------+------------+------------+\n",
      "|     13     |  0.00474   |  0.04536   |  0.55563   |  0.06991   |\n",
      "+------------+------------+------------+------------+------------+\n",
      "|     15     |  0.00490   |  0.04784   |  0.66682   |  0.07698   |\n",
      "+------------+------------+------------+------------+------------+\n",
      "|     17     |  0.00494   |  0.04917   |  0.75249   |  0.08297   |\n",
      "+------------+------------+------------+------------+------------+\n",
      "|     19     |  0.00502   |  0.05183   |  0.81597   |  0.08702   |\n",
      "+------------+------------+------------+------------+------------+\n",
      "|     21     |  0.00475   |  0.05240   |  0.85256   |  0.08970   |\n",
      "+------------+------------+------------+------------+------------+\n",
      "|     23     |  0.00470   |  0.05323   |  0.87613   |  0.09060   |\n",
      "+------------+------------+------------+------------+------------+\n",
      "|     25     |  0.00469   |  0.05602   |  0.89140   |  0.09128   |\n",
      "+------------+------------+------------+------------+------------+\n",
      "|     27     |  0.00448   |  0.05659   |  0.90614   |  0.09192   |\n",
      "+------------+------------+------------+------------+------------+\n",
      "|     29     |  0.00490   |  0.05824   |  0.91673   |  0.09264   |\n",
      "+------------+------------+------------+------------+------------+\n",
      "|     31     |  0.00499   |  0.06211   |  0.92589   |  0.09239   |\n",
      "+------------+------------+------------+------------+------------+\n",
      "|     33     |  0.00517   |  0.06401   |  0.93321   |  0.09303   |\n",
      "+------------+------------+------------+------------+------------+\n",
      "|     35     |  0.00516   |  0.06503   |  0.93782   |  0.09224   |\n",
      "+------------+------------+------------+------------+------------+\n",
      "|     37     |  0.00536   |  0.06827   |  0.94334   |  0.09200   |\n",
      "+------------+------------+------------+------------+------------+\n",
      "|     39     |  0.00529   |  0.06769   |  0.94660   |  0.09203   |\n",
      "+------------+------------+------------+------------+------------+\n",
      "|     41     |  0.00526   |  0.06865   |  0.94940   |  0.09168   |\n",
      "+------------+------------+------------+------------+------------+\n",
      "|     43     |  0.00563   |  0.07118   |  0.95236   |  0.09181   |\n",
      "+------------+------------+------------+------------+------------+\n",
      "|     45     |  0.00580   |  0.07537   |  0.95433   |  0.09181   |\n",
      "+------------+------------+------------+------------+------------+\n",
      "|     47     |  0.00602   |  0.07772   |  0.95725   |  0.09143   |\n",
      "+------------+------------+------------+------------+------------+\n",
      "|     49     |  0.00607   |  0.08083   |  0.95991   |  0.09114   |\n",
      "+------------+------------+------------+------------+------------+\n",
      "|     51     |  0.00625   |  0.08222   |  0.96076   |  0.09059   |\n",
      "+------------+------------+------------+------------+------------+\n",
      "|     53     |  0.00635   |  0.08470   |  0.96280   |  0.09057   |\n",
      "+------------+------------+------------+------------+------------+\n",
      "AUC: train 1.00, test 0.58.\n"
     ]
    }
   ],
   "source": [
    "from helpers import patk_learning_curve, plot_patk\n",
    "model = LightFM(loss='warp', random_state=2016, no_components=8, max_sampled=15)\n",
    "\n",
    "\n",
    "iterarray = range(5, 55, 2)\n",
    "\n",
    "model, train_precisions, test_precisions, train_recalls, test_recalls = patk_learning_curve(\n",
    "    model, train1, test1, iterarray, num_threads=8\n",
    ")\n",
    "\n",
    "train_auc = auc_score(model, train1).mean()\n",
    "test_auc = auc_score(model, test1).mean()\n",
    "\n",
    "print('AUC: train %.2f, test %.2f.' % (train_auc, test_auc))"
   ]
  },
  {
   "cell_type": "code",
   "execution_count": 36,
   "metadata": {
    "ExecuteTime": {
     "end_time": "2020-06-21T10:27:48.006887Z",
     "start_time": "2020-06-21T10:27:47.981883Z"
    }
   },
   "outputs": [],
   "source": [
    "import pickle\n",
    "\n",
    "with open('full_model_only_in_test.pickle', 'wb') as fle:\n",
    "    pickle.dump(model, fle, protocol=pickle.HIGHEST_PROTOCOL)"
   ]
  },
  {
   "cell_type": "markdown",
   "metadata": {},
   "source": [
    "## Filter in both"
   ]
  },
  {
   "cell_type": "code",
   "execution_count": 64,
   "metadata": {
    "ExecuteTime": {
     "end_time": "2020-06-18T10:07:20.456951Z",
     "start_time": "2020-06-18T10:07:20.250646Z"
    }
   },
   "outputs": [
    {
     "name": "stderr",
     "output_type": "stream",
     "text": [
      "/Users/macintoshhd/recommend_sys/helpers.py:230: FutureWarning: Method .as_matrix will be removed in a future version. Use .values instead.\n",
      "  I = df[row_name][df.dataset==ds].apply(map_ids, args=[rid_to_idx]).as_matrix()\n",
      "/Users/macintoshhd/recommend_sys/helpers.py:231: FutureWarning: Method .as_matrix will be removed in a future version. Use .values instead.\n",
      "  J = df[col_name][df.dataset==ds].apply(map_ids, args=[cid_to_idx]).as_matrix()\n"
     ]
    },
    {
     "data": {
      "text/plain": [
       "(<5254x18566 sparse matrix of type '<class 'numpy.float64'>'\n",
       " \twith 29799 stored elements in Compressed Sparse Row format>,\n",
       " <5254x18566 sparse matrix of type '<class 'numpy.float64'>'\n",
       " \twith 20616 stored elements in Compressed Sparse Row format>)"
      ]
     },
     "execution_count": 64,
     "metadata": {},
     "output_type": "execute_result"
    }
   ],
   "source": [
    "train2, test2, uid_to_idx2, idx_to_uid2,\\\n",
    "mid_to_idx2, idx_to_mid2 = df_to_matrix(combine_df, 'visitorid', 'itemid', filter_in_test=True,\n",
    "                                        filter_in_train= True\n",
    "                                       )\n",
    "train2, test2"
   ]
  },
  {
   "cell_type": "code",
   "execution_count": 65,
   "metadata": {
    "ExecuteTime": {
     "end_time": "2020-06-18T10:13:46.253155Z",
     "start_time": "2020-06-18T10:07:23.009953Z"
    },
    "scrolled": true
   },
   "outputs": [
    {
     "name": "stdout",
     "output_type": "stream",
     "text": [
      "+------------+------------+------------+------------+------------+\n",
      "|   Epoch    | train p@3  |  test p@3  | train r@100 | test r@100 |\n",
      "+============+============+============+============+============+\n",
      "|     5      |  0.00615   |  0.02227   |  0.15592   |  0.06729   |\n",
      "+------------+------------+------------+------------+------------+\n",
      "|     7      |  0.00882   |  0.03692   |  0.23897   |  0.08430   |\n",
      "+------------+------------+------------+------------+------------+\n",
      "|     9      |  0.01015   |  0.04600   |  0.32354   |  0.10166   |\n",
      "+------------+------------+------------+------------+------------+\n",
      "|     11     |  0.01155   |  0.05183   |  0.42420   |  0.12301   |\n",
      "+------------+------------+------------+------------+------------+\n",
      "|     13     |  0.01320   |  0.05494   |  0.53537   |  0.14633   |\n",
      "+------------+------------+------------+------------+------------+\n",
      "|     15     |  0.01377   |  0.05792   |  0.66192   |  0.18151   |\n",
      "+------------+------------+------------+------------+------------+\n",
      "|     17     |  0.01453   |  0.05976   |  0.76110   |  0.20714   |\n",
      "+------------+------------+------------+------------+------------+\n",
      "|     19     |  0.01472   |  0.06141   |  0.82560   |  0.22507   |\n",
      "+------------+------------+------------+------------+------------+\n",
      "|     21     |  0.01548   |  0.06325   |  0.86537   |  0.23367   |\n",
      "+------------+------------+------------+------------+------------+\n",
      "|     23     |  0.01605   |  0.06535   |  0.88745   |  0.24042   |\n",
      "+------------+------------+------------+------------+------------+\n",
      "|     25     |  0.01611   |  0.06617   |  0.90367   |  0.24322   |\n",
      "+------------+------------+------------+------------+------------+\n",
      "|     27     |  0.01726   |  0.07055   |  0.91587   |  0.24870   |\n",
      "+------------+------------+------------+------------+------------+\n",
      "|     29     |  0.01776   |  0.07226   |  0.92303   |  0.25004   |\n",
      "+------------+------------+------------+------------+------------+\n",
      "|     31     |  0.01795   |  0.07328   |  0.93098   |  0.25119   |\n",
      "+------------+------------+------------+------------+------------+\n",
      "|     33     |  0.01916   |  0.07708   |  0.93700   |  0.25208   |\n",
      "+------------+------------+------------+------------+------------+\n",
      "|     35     |  0.01948   |  0.07937   |  0.94016   |  0.25277   |\n",
      "+------------+------------+------------+------------+------------+\n",
      "|     37     |  0.02018   |  0.08102   |  0.94464   |  0.25381   |\n",
      "+------------+------------+------------+------------+------------+\n",
      "|     39     |  0.02094   |  0.08635   |  0.94799   |  0.25519   |\n",
      "+------------+------------+------------+------------+------------+\n",
      "|     41     |  0.02157   |  0.08876   |  0.95146   |  0.25567   |\n",
      "+------------+------------+------------+------------+------------+\n",
      "|     43     |  0.02132   |  0.08946   |  0.95338   |  0.25690   |\n",
      "+------------+------------+------------+------------+------------+\n",
      "|     45     |  0.02271   |  0.09345   |  0.95570   |  0.25778   |\n",
      "+------------+------------+------------+------------+------------+\n",
      "|     47     |  0.02379   |  0.09662   |  0.95798   |  0.25740   |\n",
      "+------------+------------+------------+------------+------------+\n",
      "|     49     |  0.02500   |  0.10126   |  0.96041   |  0.25779   |\n",
      "+------------+------------+------------+------------+------------+\n",
      "|     51     |  0.02576   |  0.10348   |  0.96139   |  0.25856   |\n",
      "+------------+------------+------------+------------+------------+\n",
      "|     53     |  0.02690   |  0.10544   |  0.96297   |  0.25869   |\n",
      "+------------+------------+------------+------------+------------+\n",
      "AUC: train 1.00, test 0.64.\n"
     ]
    }
   ],
   "source": [
    "from helpers import patk_learning_curve, plot_patk\n",
    "model = LightFM(loss='warp', random_state=2016, no_components=8, max_sampled=15)\n",
    "\n",
    "\n",
    "iterarray = range(5, 55, 2)\n",
    "\n",
    "model, train_precisions, test_precisions, train_recalls, test_recalls = patk_learning_curve(\n",
    "    model, train2, test2, iterarray, num_threads=8\n",
    ")\n",
    "\n",
    "train_auc = auc_score(model, train2).mean()\n",
    "test_auc = auc_score(model, test2).mean()\n",
    "\n",
    "print('AUC: train %.2f, test %.2f.' % (train_auc, test_auc))\n",
    "# AUC: train 0.94, test 0.63. 15 rounds 4 comps"
   ]
  },
  {
   "cell_type": "code",
   "execution_count": 66,
   "metadata": {
    "ExecuteTime": {
     "end_time": "2020-06-18T10:50:10.900889Z",
     "start_time": "2020-06-18T10:50:10.804368Z"
    }
   },
   "outputs": [],
   "source": [
    "with open('full_model_only_in_both.pickle', 'wb') as fle:\n",
    "    pickle.dump(model, fle, protocol=pickle.HIGHEST_PROTOCOL)"
   ]
  },
  {
   "cell_type": "markdown",
   "metadata": {},
   "source": [
    "# Add item features"
   ]
  },
  {
   "cell_type": "code",
   "execution_count": 44,
   "metadata": {
    "ExecuteTime": {
     "end_time": "2020-06-18T17:16:19.368932Z",
     "start_time": "2020-06-18T17:15:58.346742Z"
    }
   },
   "outputs": [
    {
     "name": "stdout",
     "output_type": "stream",
     "text": [
      "(1638642, 4)\n"
     ]
    },
    {
     "data": {
      "text/html": [
       "<div>\n",
       "<style scoped>\n",
       "    .dataframe tbody tr th:only-of-type {\n",
       "        vertical-align: middle;\n",
       "    }\n",
       "\n",
       "    .dataframe tbody tr th {\n",
       "        vertical-align: top;\n",
       "    }\n",
       "\n",
       "    .dataframe thead th {\n",
       "        text-align: right;\n",
       "    }\n",
       "</style>\n",
       "<table border=\"1\" class=\"dataframe\">\n",
       "  <thead>\n",
       "    <tr style=\"text-align: right;\">\n",
       "      <th></th>\n",
       "      <th>timestamp</th>\n",
       "      <th>itemid</th>\n",
       "      <th>property</th>\n",
       "      <th>value</th>\n",
       "    </tr>\n",
       "  </thead>\n",
       "  <tbody>\n",
       "    <tr>\n",
       "      <th>2</th>\n",
       "      <td>1439089200000</td>\n",
       "      <td>395014</td>\n",
       "      <td>400</td>\n",
       "      <td>n552.000 639502 n720.000 424566</td>\n",
       "    </tr>\n",
       "    <tr>\n",
       "      <th>18</th>\n",
       "      <td>1437274800000</td>\n",
       "      <td>49337</td>\n",
       "      <td>0</td>\n",
       "      <td>n36.000 1186610 119932 717520 903287 98606 632...</td>\n",
       "    </tr>\n",
       "    <tr>\n",
       "      <th>20</th>\n",
       "      <td>1439694000000</td>\n",
       "      <td>48696</td>\n",
       "      <td>566</td>\n",
       "      <td>n480.000 639502 189174</td>\n",
       "    </tr>\n",
       "    <tr>\n",
       "      <th>22</th>\n",
       "      <td>1434250800000</td>\n",
       "      <td>269797</td>\n",
       "      <td>159</td>\n",
       "      <td>519769</td>\n",
       "    </tr>\n",
       "    <tr>\n",
       "      <th>27</th>\n",
       "      <td>1435460400000</td>\n",
       "      <td>334428</td>\n",
       "      <td>216</td>\n",
       "      <td>637368 190776</td>\n",
       "    </tr>\n",
       "  </tbody>\n",
       "</table>\n",
       "</div>"
      ],
      "text/plain": [
       "        timestamp  itemid property  \\\n",
       "2   1439089200000  395014      400   \n",
       "18  1437274800000   49337        0   \n",
       "20  1439694000000   48696      566   \n",
       "22  1434250800000  269797      159   \n",
       "27  1435460400000  334428      216   \n",
       "\n",
       "                                                value  \n",
       "2                     n552.000 639502 n720.000 424566  \n",
       "18  n36.000 1186610 119932 717520 903287 98606 632...  \n",
       "20                             n480.000 639502 189174  \n",
       "22                                             519769  \n",
       "27                                      637368 190776  "
      ]
     },
     "execution_count": 44,
     "metadata": {},
     "output_type": "execute_result"
    }
   ],
   "source": [
    "item_df = []\n",
    "for f in ['item_properties_part1.csv.zip', 'item_properties_part2.csv.zip']:\n",
    "    df = pd.read_csv(f)\n",
    "    df = df[df.itemid.isin(mid_to_idx1.keys())]\n",
    "    item_df.append(df)\n",
    "item_df = pd.concat(item_df)\n",
    "print(item_df.shape)\n",
    "item_df.head()"
   ]
  },
  {
   "cell_type": "code",
   "execution_count": 129,
   "metadata": {
    "ExecuteTime": {
     "end_time": "2020-06-18T18:39:23.261912Z",
     "start_time": "2020-06-18T18:39:19.992442Z"
    },
    "scrolled": true
   },
   "outputs": [
    {
     "data": {
      "text/plain": [
       "((679026, 4), (679026, 4), 23962)"
      ]
     },
     "execution_count": 129,
     "metadata": {},
     "output_type": "execute_result"
    }
   ],
   "source": [
    "train_thres = combine_df[combine_df.dataset=='test'].timestamp.min()\n",
    "item_df = item_df.sort_values(['itemid', 'property', 'timestamp'])\n",
    "item_train_df = item_df.groupby(['itemid', 'property']).first().reset_index()\n",
    "item_test_df = pd.concat((item_df[item_df.timestamp < train_thres].groupby(['itemid', 'property']).last().reset_index(),\n",
    "                          item_train_df[item_train_df.timestamp >= train_thres]\n",
    "                         ))\n",
    "item_train_df.shape, item_test_df.shape, len(mid_to_idx1.keys())"
   ]
  },
  {
   "cell_type": "code",
   "execution_count": 130,
   "metadata": {
    "ExecuteTime": {
     "end_time": "2020-06-18T18:39:31.933905Z",
     "start_time": "2020-06-18T18:39:23.265447Z"
    }
   },
   "outputs": [
    {
     "data": {
      "text/plain": [
       "((23962, 976), (23962, 976), 23962)"
      ]
     },
     "execution_count": 130,
     "metadata": {},
     "output_type": "execute_result"
    }
   ],
   "source": [
    "def fill_item_features_w_fake_properties(item_df):\n",
    "    fake_itemid = []\n",
    "    fake_timestamp = []\n",
    "    fake_property = []\n",
    "    fake_value = []\n",
    "    all_items_with_property = set(item_df.itemid)\n",
    "    for itx in mid_to_idx1.keys():\n",
    "        if itx not in all_items_with_property:\n",
    "            fake_itemid.insert(0, itx)\n",
    "            fake_timestamp.insert(0, 0)\n",
    "            fake_property.insert(0, 888)\n",
    "            fake_value.insert(0, 0)\n",
    "\n",
    "    fake_property_dict = {'itemid':fake_itemid, 'timestamp':fake_timestamp, 'property':fake_property,\n",
    "                         'value':fake_value}\n",
    "\n",
    "    fake_df = pd.DataFrame(fake_property_dict, columns=item_df.columns.values)\n",
    "    filtered_items = pd.concat([item_df, fake_df])\n",
    "    filtered_items['itemid'] = filtered_items['itemid'].apply(lambda x: mid_to_idx1[x])\n",
    "    filtered_items.sort_values(by='itemid', inplace=True)\n",
    "    item_to_property_matrix = filtered_items.pivot(index='itemid', columns='property', values='value')\n",
    "    return item_to_property_matrix\n",
    "item_train_df = fill_item_features_w_fake_properties(item_train_df)\n",
    "item_test_df = fill_item_features_w_fake_properties(item_test_df)\n",
    "item_train_df.shape, item_test_df.shape, len(mid_to_idx1.keys())"
   ]
  },
  {
   "cell_type": "code",
   "execution_count": 131,
   "metadata": {
    "ExecuteTime": {
     "end_time": "2020-06-18T18:39:56.891694Z",
     "start_time": "2020-06-18T18:39:31.937767Z"
    }
   },
   "outputs": [],
   "source": [
    "def check_numerical(x):\n",
    "    if not pd.isnull(x):\n",
    "        t = x.split()\n",
    "        if (len(t)==1) & (t[0].startswith('n')):\n",
    "            return True\n",
    "        else:\n",
    "            return False\n",
    "    return True\n",
    "cols_by_num_values = item_train_df.astype(str).applymap(check_numerical).mean()\n",
    "numerical_propeties = set(cols_by_num_values[cols_by_num_values==1].index.values)"
   ]
  },
  {
   "cell_type": "code",
   "execution_count": 132,
   "metadata": {
    "ExecuteTime": {
     "end_time": "2020-06-18T18:39:58.544538Z",
     "start_time": "2020-06-18T18:39:56.894228Z"
    }
   },
   "outputs": [
    {
     "data": {
      "text/plain": [
       "['227', '6', '678', '698', '839', 'available', '790', 'categoryid']"
      ]
     },
     "execution_count": 132,
     "metadata": {},
     "output_type": "execute_result"
    }
   ],
   "source": [
    "dense_properties = item_train_df.isnull().mean()\n",
    "dense_properties = set(dense_properties[dense_properties<.5].index.values)\n",
    "\n",
    "categorical_properties = item_train_df.nunique()\n",
    "categorical_properties = set(categorical_properties[(categorical_properties<200)&(categorical_properties>1)].index.values)\n",
    "\n",
    "useful_item_properties = dense_properties&(categorical_properties|numerical_propeties)\n",
    "useful_item_properties = ['227', '6', '678', '698', '839', 'available', '790', 'categoryid']\n",
    "useful_item_properties"
   ]
  },
  {
   "cell_type": "code",
   "execution_count": 133,
   "metadata": {
    "ExecuteTime": {
     "end_time": "2020-06-18T18:39:58.599444Z",
     "start_time": "2020-06-18T18:39:58.547484Z"
    }
   },
   "outputs": [
    {
     "data": {
      "text/plain": [
       "itemid\n",
       "0        False\n",
       "1        False\n",
       "2        False\n",
       "3        False\n",
       "4        False\n",
       "         ...  \n",
       "23957    False\n",
       "23958    False\n",
       "23959    False\n",
       "23960    False\n",
       "23961    False\n",
       "Name: 790, Length: 23962, dtype: bool"
      ]
     },
     "execution_count": 133,
     "metadata": {},
     "output_type": "execute_result"
    }
   ],
   "source": [
    "item_train_df['790'].str[1:].astype(float)==0"
   ]
  },
  {
   "cell_type": "code",
   "execution_count": 134,
   "metadata": {
    "ExecuteTime": {
     "end_time": "2020-06-18T18:39:58.633016Z",
     "start_time": "2020-06-18T18:39:58.602944Z"
    }
   },
   "outputs": [
    {
     "data": {
      "text/plain": [
       "(23962, 8)"
      ]
     },
     "execution_count": 134,
     "metadata": {},
     "output_type": "execute_result"
    }
   ],
   "source": [
    "t.shape"
   ]
  },
  {
   "cell_type": "code",
   "execution_count": 135,
   "metadata": {
    "ExecuteTime": {
     "end_time": "2020-06-18T18:40:00.724930Z",
     "start_time": "2020-06-18T18:39:58.636394Z"
    }
   },
   "outputs": [
    {
     "data": {
      "text/plain": [
       "itemid\n",
       "0         True\n",
       "1         True\n",
       "2         True\n",
       "3         True\n",
       "4         True\n",
       "         ...  \n",
       "23957     True\n",
       "23958     True\n",
       "23959     True\n",
       "23960     True\n",
       "23961    False\n",
       "Length: 23962, dtype: bool"
      ]
     },
     "execution_count": 135,
     "metadata": {},
     "output_type": "execute_result"
    }
   ],
   "source": [
    "item_train_df.any(axis=1)"
   ]
  },
  {
   "cell_type": "code",
   "execution_count": 136,
   "metadata": {
    "ExecuteTime": {
     "end_time": "2020-06-18T18:40:00.775716Z",
     "start_time": "2020-06-18T18:40:00.730498Z"
    }
   },
   "outputs": [],
   "source": [
    "def fix_categoryid(x):\n",
    "    if pd.isna(x):\n",
    "        return\n",
    "    return str(int(x))\n",
    "\n",
    "category_tree = pd.read_csv('category_tree.csv')\n",
    "category_tree = category_tree.applymap(fix_categoryid)\n",
    "category_tree.set_index('categoryid', inplace=True)"
   ]
  },
  {
   "cell_type": "code",
   "execution_count": 137,
   "metadata": {
    "ExecuteTime": {
     "end_time": "2020-06-18T18:40:01.320143Z",
     "start_time": "2020-06-18T18:40:00.777811Z"
    }
   },
   "outputs": [
    {
     "data": {
      "text/plain": [
       "893"
      ]
     },
     "execution_count": 137,
     "metadata": {},
     "output_type": "execute_result"
    }
   ],
   "source": [
    "collect()"
   ]
  },
  {
   "cell_type": "code",
   "execution_count": 140,
   "metadata": {
    "ExecuteTime": {
     "end_time": "2020-06-18T18:40:55.202120Z",
     "start_time": "2020-06-18T18:40:52.167455Z"
    },
    "scrolled": true
   },
   "outputs": [
    {
     "name": "stderr",
     "output_type": "stream",
     "text": [
      "//anaconda3/lib/python3.7/site-packages/ipykernel_launcher.py:24: SettingWithCopyWarning: \n",
      "A value is trying to be set on a copy of a slice from a DataFrame.\n",
      "Try using .loc[row_indexer,col_indexer] = value instead\n",
      "\n",
      "See the caveats in the documentation: https://pandas.pydata.org/pandas-docs/stable/user_guide/indexing.html#returning-a-view-versus-a-copy\n",
      "//anaconda3/lib/python3.7/site-packages/ipykernel_launcher.py:25: SettingWithCopyWarning: \n",
      "A value is trying to be set on a copy of a slice from a DataFrame.\n",
      "Try using .loc[row_indexer,col_indexer] = value instead\n",
      "\n",
      "See the caveats in the documentation: https://pandas.pydata.org/pandas-docs/stable/user_guide/indexing.html#returning-a-view-versus-a-copy\n",
      "//anaconda3/lib/python3.7/site-packages/ipykernel_launcher.py:26: SettingWithCopyWarning: \n",
      "A value is trying to be set on a copy of a slice from a DataFrame.\n",
      "Try using .loc[row_indexer,col_indexer] = value instead\n",
      "\n",
      "See the caveats in the documentation: https://pandas.pydata.org/pandas-docs/stable/user_guide/indexing.html#returning-a-view-versus-a-copy\n"
     ]
    },
    {
     "data": {
      "text/html": [
       "<div>\n",
       "<style scoped>\n",
       "    .dataframe tbody tr th:only-of-type {\n",
       "        vertical-align: middle;\n",
       "    }\n",
       "\n",
       "    .dataframe tbody tr th {\n",
       "        vertical-align: top;\n",
       "    }\n",
       "\n",
       "    .dataframe thead th {\n",
       "        text-align: right;\n",
       "    }\n",
       "</style>\n",
       "<table border=\"1\" class=\"dataframe\">\n",
       "  <thead>\n",
       "    <tr style=\"text-align: right;\">\n",
       "      <th></th>\n",
       "      <th>790</th>\n",
       "      <th>category_1051</th>\n",
       "      <th>category_1219</th>\n",
       "      <th>227_977762</th>\n",
       "      <th>227_rare</th>\n",
       "      <th>6_977762</th>\n",
       "      <th>6_rare</th>\n",
       "      <th>678_rare</th>\n",
       "      <th>698_977762</th>\n",
       "      <th>698_rare</th>\n",
       "      <th>...</th>\n",
       "      <th>category_261</th>\n",
       "      <th>category_187</th>\n",
       "      <th>category_1255</th>\n",
       "      <th>category_1025</th>\n",
       "      <th>category_1271</th>\n",
       "      <th>category_587</th>\n",
       "      <th>category_457</th>\n",
       "      <th>category_35</th>\n",
       "      <th>category_1529</th>\n",
       "      <th>category_1356</th>\n",
       "    </tr>\n",
       "    <tr>\n",
       "      <th>itemid</th>\n",
       "      <th></th>\n",
       "      <th></th>\n",
       "      <th></th>\n",
       "      <th></th>\n",
       "      <th></th>\n",
       "      <th></th>\n",
       "      <th></th>\n",
       "      <th></th>\n",
       "      <th></th>\n",
       "      <th></th>\n",
       "      <th></th>\n",
       "      <th></th>\n",
       "      <th></th>\n",
       "      <th></th>\n",
       "      <th></th>\n",
       "      <th></th>\n",
       "      <th></th>\n",
       "      <th></th>\n",
       "      <th></th>\n",
       "      <th></th>\n",
       "      <th></th>\n",
       "    </tr>\n",
       "  </thead>\n",
       "  <tbody>\n",
       "    <tr>\n",
       "      <th>0</th>\n",
       "      <td>0.606925</td>\n",
       "      <td>True</td>\n",
       "      <td>False</td>\n",
       "      <td>1</td>\n",
       "      <td>0</td>\n",
       "      <td>1</td>\n",
       "      <td>0</td>\n",
       "      <td>1</td>\n",
       "      <td>1</td>\n",
       "      <td>0</td>\n",
       "      <td>...</td>\n",
       "      <td>False</td>\n",
       "      <td>False</td>\n",
       "      <td>False</td>\n",
       "      <td>False</td>\n",
       "      <td>False</td>\n",
       "      <td>False</td>\n",
       "      <td>False</td>\n",
       "      <td>False</td>\n",
       "      <td>False</td>\n",
       "      <td>False</td>\n",
       "    </tr>\n",
       "    <tr>\n",
       "      <th>1</th>\n",
       "      <td>0.610063</td>\n",
       "      <td>True</td>\n",
       "      <td>False</td>\n",
       "      <td>1</td>\n",
       "      <td>0</td>\n",
       "      <td>1</td>\n",
       "      <td>0</td>\n",
       "      <td>1</td>\n",
       "      <td>1</td>\n",
       "      <td>0</td>\n",
       "      <td>...</td>\n",
       "      <td>False</td>\n",
       "      <td>False</td>\n",
       "      <td>False</td>\n",
       "      <td>False</td>\n",
       "      <td>False</td>\n",
       "      <td>False</td>\n",
       "      <td>False</td>\n",
       "      <td>False</td>\n",
       "      <td>False</td>\n",
       "      <td>False</td>\n",
       "    </tr>\n",
       "    <tr>\n",
       "      <th>2</th>\n",
       "      <td>0.594922</td>\n",
       "      <td>True</td>\n",
       "      <td>False</td>\n",
       "      <td>1</td>\n",
       "      <td>0</td>\n",
       "      <td>1</td>\n",
       "      <td>0</td>\n",
       "      <td>1</td>\n",
       "      <td>1</td>\n",
       "      <td>0</td>\n",
       "      <td>...</td>\n",
       "      <td>False</td>\n",
       "      <td>False</td>\n",
       "      <td>False</td>\n",
       "      <td>False</td>\n",
       "      <td>False</td>\n",
       "      <td>False</td>\n",
       "      <td>False</td>\n",
       "      <td>False</td>\n",
       "      <td>False</td>\n",
       "      <td>False</td>\n",
       "    </tr>\n",
       "    <tr>\n",
       "      <th>3</th>\n",
       "      <td>0.600302</td>\n",
       "      <td>True</td>\n",
       "      <td>False</td>\n",
       "      <td>1</td>\n",
       "      <td>0</td>\n",
       "      <td>1</td>\n",
       "      <td>0</td>\n",
       "      <td>1</td>\n",
       "      <td>1</td>\n",
       "      <td>0</td>\n",
       "      <td>...</td>\n",
       "      <td>False</td>\n",
       "      <td>False</td>\n",
       "      <td>False</td>\n",
       "      <td>False</td>\n",
       "      <td>False</td>\n",
       "      <td>False</td>\n",
       "      <td>False</td>\n",
       "      <td>False</td>\n",
       "      <td>False</td>\n",
       "      <td>False</td>\n",
       "    </tr>\n",
       "    <tr>\n",
       "      <th>4</th>\n",
       "      <td>0.530827</td>\n",
       "      <td>False</td>\n",
       "      <td>True</td>\n",
       "      <td>0</td>\n",
       "      <td>1</td>\n",
       "      <td>0</td>\n",
       "      <td>1</td>\n",
       "      <td>1</td>\n",
       "      <td>0</td>\n",
       "      <td>1</td>\n",
       "      <td>...</td>\n",
       "      <td>False</td>\n",
       "      <td>False</td>\n",
       "      <td>False</td>\n",
       "      <td>False</td>\n",
       "      <td>False</td>\n",
       "      <td>False</td>\n",
       "      <td>False</td>\n",
       "      <td>False</td>\n",
       "      <td>False</td>\n",
       "      <td>False</td>\n",
       "    </tr>\n",
       "  </tbody>\n",
       "</table>\n",
       "<p>5 rows × 1680 columns</p>\n",
       "</div>"
      ],
      "text/plain": [
       "             790  category_1051  category_1219  227_977762  227_rare  \\\n",
       "itemid                                                                 \n",
       "0       0.606925           True          False           1         0   \n",
       "1       0.610063           True          False           1         0   \n",
       "2       0.594922           True          False           1         0   \n",
       "3       0.600302           True          False           1         0   \n",
       "4       0.530827          False           True           0         1   \n",
       "\n",
       "        6_977762  6_rare  678_rare  698_977762  698_rare  ...  category_261  \\\n",
       "itemid                                                    ...                 \n",
       "0              1       0         1           1         0  ...         False   \n",
       "1              1       0         1           1         0  ...         False   \n",
       "2              1       0         1           1         0  ...         False   \n",
       "3              1       0         1           1         0  ...         False   \n",
       "4              0       1         1           0         1  ...         False   \n",
       "\n",
       "        category_187  category_1255  category_1025  category_1271  \\\n",
       "itemid                                                              \n",
       "0              False          False          False          False   \n",
       "1              False          False          False          False   \n",
       "2              False          False          False          False   \n",
       "3              False          False          False          False   \n",
       "4              False          False          False          False   \n",
       "\n",
       "        category_587  category_457  category_35  category_1529  category_1356  \n",
       "itemid                                                                         \n",
       "0              False         False        False          False          False  \n",
       "1              False         False        False          False          False  \n",
       "2              False         False        False          False          False  \n",
       "3              False         False        False          False          False  \n",
       "4              False         False        False          False          False  \n",
       "\n",
       "[5 rows x 1680 columns]"
      ]
     },
     "execution_count": 140,
     "metadata": {},
     "output_type": "execute_result"
    }
   ],
   "source": [
    "# def search_tree(cate):\n",
    "#     if pd.isna(cate):\n",
    "#         return\n",
    "#     if cate=='rare':\n",
    "#         return\n",
    "#     return category_tree.parentid.loc[cate]\n",
    "# cat_cols = ['227', '6', '678', '698', '839', 'available']\n",
    "# from sklearn.preprocessing import MinMaxScaler\n",
    "# from feature_engine import categorical_encoders as ce\n",
    "# t = item_train_df['790'].str[1:].astype(float)+1\n",
    "# scaler = MinMaxScaler()\n",
    "# scaler.fit(t.fillna(1).apply(np.log).values.reshape(-1, 1))\n",
    "\n",
    "# t = item_train_df[useful_item_properties].fillna('rare')\n",
    "# encoder = ce.RareLabelCategoricalEncoder(tol=0.03, n_categories=2,\n",
    "#                                          variables= cat_cols,\n",
    "#                                          replace_with='rare', return_object=True)\n",
    "# encoder.fit(t)\n",
    "\n",
    "uniq_cat = set(category_tree.index.values)|set(category_tree.parentid.dropna())\n",
    "\n",
    "def prep_item_property(item_to_property_matrix):\n",
    "    item_to_property_matrix = item_to_property_matrix[useful_item_properties]\n",
    "    item_to_property_matrix['categoryid'] = item_to_property_matrix['categoryid'].apply(fix_categoryid)\n",
    "    item_to_property_matrix['790'] = (item_to_property_matrix['790'].str[1:].astype(float) + 1).fillna(1).apply(np.log)\n",
    "    item_to_property_matrix['790'] = scaler.transform(item_to_property_matrix['790'].values.reshape(-1, 1)).reshape(-1)\n",
    "    \n",
    "    item_to_property_matrix = encoder.transform(item_to_property_matrix.fillna('rare'))\n",
    "    item_to_property_matrix_one_hot_sparse = pd.get_dummies(item_to_property_matrix, \n",
    "                                                        columns = ['categoryid']+cat_cols,\n",
    "                                                            prefix = ['category']+ cat_cols\n",
    "                                                       )\n",
    "    item_to_property_matrix = item_to_property_matrix.rename(columns={'categoryid':'categoryid0'})\n",
    "    for i in range(1,5):\n",
    "        item_to_property_matrix['categoryid'+str(i)] = item_to_property_matrix['categoryid'+str(i-1)].apply(search_tree)\n",
    "    for cat in uniq_cat:\n",
    "        item_to_property_matrix_one_hot_sparse['category_' + cat] = (item_to_property_matrix[['categoryid'+str(i) for i in range(0, 5)]]==cat).any(axis=1)   \n",
    "    return item_to_property_matrix_one_hot_sparse\n",
    "prep_item_property(item_train_df.head(5))\n"
   ]
  },
  {
   "cell_type": "code",
   "execution_count": 141,
   "metadata": {
    "ExecuteTime": {
     "end_time": "2020-06-18T18:41:55.580811Z",
     "start_time": "2020-06-18T18:41:18.785529Z"
    },
    "scrolled": true
   },
   "outputs": [
    {
     "name": "stderr",
     "output_type": "stream",
     "text": [
      "//anaconda3/lib/python3.7/site-packages/ipykernel_launcher.py:24: SettingWithCopyWarning: \n",
      "A value is trying to be set on a copy of a slice from a DataFrame.\n",
      "Try using .loc[row_indexer,col_indexer] = value instead\n",
      "\n",
      "See the caveats in the documentation: https://pandas.pydata.org/pandas-docs/stable/user_guide/indexing.html#returning-a-view-versus-a-copy\n",
      "//anaconda3/lib/python3.7/site-packages/ipykernel_launcher.py:25: SettingWithCopyWarning: \n",
      "A value is trying to be set on a copy of a slice from a DataFrame.\n",
      "Try using .loc[row_indexer,col_indexer] = value instead\n",
      "\n",
      "See the caveats in the documentation: https://pandas.pydata.org/pandas-docs/stable/user_guide/indexing.html#returning-a-view-versus-a-copy\n",
      "//anaconda3/lib/python3.7/site-packages/ipykernel_launcher.py:26: SettingWithCopyWarning: \n",
      "A value is trying to be set on a copy of a slice from a DataFrame.\n",
      "Try using .loc[row_indexer,col_indexer] = value instead\n",
      "\n",
      "See the caveats in the documentation: https://pandas.pydata.org/pandas-docs/stable/user_guide/indexing.html#returning-a-view-versus-a-copy\n",
      "//anaconda3/lib/python3.7/site-packages/ipykernel_launcher.py:24: SettingWithCopyWarning: \n",
      "A value is trying to be set on a copy of a slice from a DataFrame.\n",
      "Try using .loc[row_indexer,col_indexer] = value instead\n",
      "\n",
      "See the caveats in the documentation: https://pandas.pydata.org/pandas-docs/stable/user_guide/indexing.html#returning-a-view-versus-a-copy\n",
      "//anaconda3/lib/python3.7/site-packages/ipykernel_launcher.py:25: SettingWithCopyWarning: \n",
      "A value is trying to be set on a copy of a slice from a DataFrame.\n",
      "Try using .loc[row_indexer,col_indexer] = value instead\n",
      "\n",
      "See the caveats in the documentation: https://pandas.pydata.org/pandas-docs/stable/user_guide/indexing.html#returning-a-view-versus-a-copy\n",
      "//anaconda3/lib/python3.7/site-packages/ipykernel_launcher.py:26: SettingWithCopyWarning: \n",
      "A value is trying to be set on a copy of a slice from a DataFrame.\n",
      "Try using .loc[row_indexer,col_indexer] = value instead\n",
      "\n",
      "See the caveats in the documentation: https://pandas.pydata.org/pandas-docs/stable/user_guide/indexing.html#returning-a-view-versus-a-copy\n"
     ]
    },
    {
     "data": {
      "text/html": [
       "<div>\n",
       "<style scoped>\n",
       "    .dataframe tbody tr th:only-of-type {\n",
       "        vertical-align: middle;\n",
       "    }\n",
       "\n",
       "    .dataframe tbody tr th {\n",
       "        vertical-align: top;\n",
       "    }\n",
       "\n",
       "    .dataframe thead th {\n",
       "        text-align: right;\n",
       "    }\n",
       "</style>\n",
       "<table border=\"1\" class=\"dataframe\">\n",
       "  <thead>\n",
       "    <tr style=\"text-align: right;\">\n",
       "      <th></th>\n",
       "      <th>790</th>\n",
       "      <th>category_0</th>\n",
       "      <th>category_1</th>\n",
       "      <th>category_1001</th>\n",
       "      <th>category_1002</th>\n",
       "      <th>category_1003</th>\n",
       "      <th>category_1006</th>\n",
       "      <th>category_1007</th>\n",
       "      <th>category_1008</th>\n",
       "      <th>category_1011</th>\n",
       "      <th>...</th>\n",
       "      <th>category_1590</th>\n",
       "      <th>category_1551</th>\n",
       "      <th>category_1644</th>\n",
       "      <th>category_923</th>\n",
       "      <th>category_275</th>\n",
       "      <th>category_1311</th>\n",
       "      <th>category_187</th>\n",
       "      <th>category_1025</th>\n",
       "      <th>category_1271</th>\n",
       "      <th>category_587</th>\n",
       "    </tr>\n",
       "    <tr>\n",
       "      <th>itemid</th>\n",
       "      <th></th>\n",
       "      <th></th>\n",
       "      <th></th>\n",
       "      <th></th>\n",
       "      <th></th>\n",
       "      <th></th>\n",
       "      <th></th>\n",
       "      <th></th>\n",
       "      <th></th>\n",
       "      <th></th>\n",
       "      <th></th>\n",
       "      <th></th>\n",
       "      <th></th>\n",
       "      <th></th>\n",
       "      <th></th>\n",
       "      <th></th>\n",
       "      <th></th>\n",
       "      <th></th>\n",
       "      <th></th>\n",
       "      <th></th>\n",
       "      <th></th>\n",
       "    </tr>\n",
       "  </thead>\n",
       "  <tbody>\n",
       "    <tr>\n",
       "      <th>0</th>\n",
       "      <td>0.605523</td>\n",
       "      <td>False</td>\n",
       "      <td>False</td>\n",
       "      <td>False</td>\n",
       "      <td>False</td>\n",
       "      <td>False</td>\n",
       "      <td>False</td>\n",
       "      <td>False</td>\n",
       "      <td>False</td>\n",
       "      <td>False</td>\n",
       "      <td>...</td>\n",
       "      <td>False</td>\n",
       "      <td>False</td>\n",
       "      <td>False</td>\n",
       "      <td>False</td>\n",
       "      <td>False</td>\n",
       "      <td>False</td>\n",
       "      <td>False</td>\n",
       "      <td>False</td>\n",
       "      <td>False</td>\n",
       "      <td>False</td>\n",
       "    </tr>\n",
       "    <tr>\n",
       "      <th>1</th>\n",
       "      <td>0.610837</td>\n",
       "      <td>False</td>\n",
       "      <td>False</td>\n",
       "      <td>False</td>\n",
       "      <td>False</td>\n",
       "      <td>False</td>\n",
       "      <td>False</td>\n",
       "      <td>False</td>\n",
       "      <td>False</td>\n",
       "      <td>False</td>\n",
       "      <td>...</td>\n",
       "      <td>False</td>\n",
       "      <td>False</td>\n",
       "      <td>False</td>\n",
       "      <td>False</td>\n",
       "      <td>False</td>\n",
       "      <td>False</td>\n",
       "      <td>False</td>\n",
       "      <td>False</td>\n",
       "      <td>False</td>\n",
       "      <td>False</td>\n",
       "    </tr>\n",
       "    <tr>\n",
       "      <th>2</th>\n",
       "      <td>0.594922</td>\n",
       "      <td>False</td>\n",
       "      <td>False</td>\n",
       "      <td>False</td>\n",
       "      <td>False</td>\n",
       "      <td>False</td>\n",
       "      <td>False</td>\n",
       "      <td>False</td>\n",
       "      <td>False</td>\n",
       "      <td>False</td>\n",
       "      <td>...</td>\n",
       "      <td>False</td>\n",
       "      <td>False</td>\n",
       "      <td>False</td>\n",
       "      <td>False</td>\n",
       "      <td>False</td>\n",
       "      <td>False</td>\n",
       "      <td>False</td>\n",
       "      <td>False</td>\n",
       "      <td>False</td>\n",
       "      <td>False</td>\n",
       "    </tr>\n",
       "    <tr>\n",
       "      <th>3</th>\n",
       "      <td>0.600302</td>\n",
       "      <td>False</td>\n",
       "      <td>False</td>\n",
       "      <td>False</td>\n",
       "      <td>False</td>\n",
       "      <td>False</td>\n",
       "      <td>False</td>\n",
       "      <td>False</td>\n",
       "      <td>False</td>\n",
       "      <td>False</td>\n",
       "      <td>...</td>\n",
       "      <td>False</td>\n",
       "      <td>False</td>\n",
       "      <td>False</td>\n",
       "      <td>False</td>\n",
       "      <td>False</td>\n",
       "      <td>False</td>\n",
       "      <td>False</td>\n",
       "      <td>False</td>\n",
       "      <td>False</td>\n",
       "      <td>False</td>\n",
       "    </tr>\n",
       "    <tr>\n",
       "      <th>4</th>\n",
       "      <td>0.518839</td>\n",
       "      <td>False</td>\n",
       "      <td>False</td>\n",
       "      <td>False</td>\n",
       "      <td>False</td>\n",
       "      <td>False</td>\n",
       "      <td>False</td>\n",
       "      <td>False</td>\n",
       "      <td>False</td>\n",
       "      <td>False</td>\n",
       "      <td>...</td>\n",
       "      <td>False</td>\n",
       "      <td>False</td>\n",
       "      <td>False</td>\n",
       "      <td>False</td>\n",
       "      <td>False</td>\n",
       "      <td>False</td>\n",
       "      <td>False</td>\n",
       "      <td>False</td>\n",
       "      <td>False</td>\n",
       "      <td>False</td>\n",
       "    </tr>\n",
       "  </tbody>\n",
       "</table>\n",
       "<p>5 rows × 1685 columns</p>\n",
       "</div>"
      ],
      "text/plain": [
       "             790  category_0  category_1  category_1001  category_1002  \\\n",
       "itemid                                                                   \n",
       "0       0.605523       False       False          False          False   \n",
       "1       0.610837       False       False          False          False   \n",
       "2       0.594922       False       False          False          False   \n",
       "3       0.600302       False       False          False          False   \n",
       "4       0.518839       False       False          False          False   \n",
       "\n",
       "        category_1003  category_1006  category_1007  category_1008  \\\n",
       "itemid                                                               \n",
       "0               False          False          False          False   \n",
       "1               False          False          False          False   \n",
       "2               False          False          False          False   \n",
       "3               False          False          False          False   \n",
       "4               False          False          False          False   \n",
       "\n",
       "        category_1011  ...  category_1590  category_1551  category_1644  \\\n",
       "itemid                 ...                                                \n",
       "0               False  ...          False          False          False   \n",
       "1               False  ...          False          False          False   \n",
       "2               False  ...          False          False          False   \n",
       "3               False  ...          False          False          False   \n",
       "4               False  ...          False          False          False   \n",
       "\n",
       "        category_923  category_275  category_1311  category_187  \\\n",
       "itemid                                                            \n",
       "0              False         False          False         False   \n",
       "1              False         False          False         False   \n",
       "2              False         False          False         False   \n",
       "3              False         False          False         False   \n",
       "4              False         False          False         False   \n",
       "\n",
       "        category_1025  category_1271  category_587  \n",
       "itemid                                              \n",
       "0               False          False         False  \n",
       "1               False          False         False  \n",
       "2               False          False         False  \n",
       "3               False          False         False  \n",
       "4               False          False         False  \n",
       "\n",
       "[5 rows x 1685 columns]"
      ]
     },
     "execution_count": 141,
     "metadata": {},
     "output_type": "execute_result"
    }
   ],
   "source": [
    "item_train_df = prep_item_property(item_train_df)\n",
    "item_test_df = prep_item_property(item_test_df)\n",
    "item_test_df.head()"
   ]
  },
  {
   "cell_type": "code",
   "execution_count": 142,
   "metadata": {
    "ExecuteTime": {
     "end_time": "2020-06-18T18:42:16.093137Z",
     "start_time": "2020-06-18T18:42:10.269347Z"
    },
    "scrolled": true
   },
   "outputs": [
    {
     "data": {
      "text/plain": [
       "790              11975.454882\n",
       "category_0          16.000000\n",
       "category_1          62.000000\n",
       "category_1001       15.000000\n",
       "category_1002       41.000000\n",
       "                     ...     \n",
       "category_1311        0.000000\n",
       "category_187        78.000000\n",
       "category_1025        0.000000\n",
       "category_1271        0.000000\n",
       "category_587       173.000000\n",
       "Length: 1685, dtype: float64"
      ]
     },
     "execution_count": 142,
     "metadata": {},
     "output_type": "execute_result"
    }
   ],
   "source": [
    "item_train_df.sum()"
   ]
  },
  {
   "cell_type": "code",
   "execution_count": 145,
   "metadata": {
    "ExecuteTime": {
     "end_time": "2020-06-18T18:44:36.404050Z",
     "start_time": "2020-06-18T18:44:19.090937Z"
    }
   },
   "outputs": [
    {
     "data": {
      "text/plain": [
       "((23962, 1077), (23962, 1077))"
      ]
     },
     "execution_count": 145,
     "metadata": {},
     "output_type": "execute_result"
    }
   ],
   "source": [
    "for c in item_train_df.columns:\n",
    "    if (item_train_df[c].sum() == 0)&(item_test_df[c].sum() == 0):\n",
    "        del item_train_df[c], item_test_df[c]\n",
    "    elif (item_train_df[c].mean() == 1)&(item_test_df[c].mean() == 1):\n",
    "        del item_train_df[c], item_test_df[c]\n",
    "item_train_df.shape, item_test_df.shape"
   ]
  },
  {
   "cell_type": "code",
   "execution_count": 146,
   "metadata": {
    "ExecuteTime": {
     "end_time": "2020-06-18T18:44:53.664118Z",
     "start_time": "2020-06-18T18:44:53.640280Z"
    }
   },
   "outputs": [],
   "source": [
    "from lightfm import LightFM\n",
    "import scipy.sparse as sp\n",
    "from scipy.sparse import vstack\n"
   ]
  },
  {
   "cell_type": "code",
   "execution_count": 150,
   "metadata": {
    "ExecuteTime": {
     "end_time": "2020-06-18T19:00:19.042071Z",
     "start_time": "2020-06-18T19:00:18.688380Z"
    }
   },
   "outputs": [],
   "source": [
    "item_train_df = item_train_df.fillna(0).astype(np.float16)\n",
    "item_test_df = item_test_df.fillna(0).astype(np.float16)"
   ]
  },
  {
   "cell_type": "code",
   "execution_count": null,
   "metadata": {},
   "outputs": [],
   "source": []
  },
  {
   "cell_type": "code",
   "execution_count": 148,
   "metadata": {
    "ExecuteTime": {
     "end_time": "2020-06-18T18:45:24.980058Z",
     "start_time": "2020-06-18T18:44:58.843881Z"
    }
   },
   "outputs": [
    {
     "name": "stderr",
     "output_type": "stream",
     "text": [
      "//anaconda3/lib/python3.7/site-packages/ipykernel_launcher.py:6: DeprecationWarning: scipy.eye is deprecated and will be removed in SciPy 2.0.0, use numpy.eye instead\n",
      "  \n",
      "//anaconda3/lib/python3.7/site-packages/ipykernel_launcher.py:7: DeprecationWarning: scipy.hstack is deprecated and will be removed in SciPy 2.0.0, use numpy.hstack instead\n",
      "  import sys\n"
     ]
    },
    {
     "data": {
      "text/plain": [
       "((23962, 25039), (23962, 25039))"
      ]
     },
     "execution_count": 148,
     "metadata": {},
     "output_type": "execute_result"
    }
   ],
   "source": [
    "from scipy.sparse import csr_matrix\n",
    "import scipy as sp\n",
    "\n",
    "def stack_one_hot_enc(mx):\n",
    "    eye = sp.eye(mx.shape[0], mx.shape[0])#.tocsr()\n",
    "    item_features_concat = sp.hstack((eye, mx))\n",
    "    item_features_concat = csr_matrix(item_features_concat)\n",
    "    return item_features_concat\n",
    "item_train_mx = stack_one_hot_enc(item_train_df)\n",
    "item_test_mx = stack_one_hot_enc(item_test_df)\n",
    "item_train_mx.shape,item_test_mx.shape"
   ]
  },
  {
   "cell_type": "code",
   "execution_count": 152,
   "metadata": {
    "ExecuteTime": {
     "end_time": "2020-06-18T19:08:25.944250Z",
     "start_time": "2020-06-18T19:01:10.835434Z"
    }
   },
   "outputs": [
    {
     "name": "stdout",
     "output_type": "stream",
     "text": [
      "+------------+------------+------------+------------+------------+\n",
      "|   Epoch    | train p@3  |  test p@3  | train r@100 | test r@100 |\n",
      "+============+============+============+============+============+\n",
      "|     5      |  0.00019   |  0.00945   |  0.22816   |  0.00568   |\n",
      "+------------+------------+------------+------------+------------+\n",
      "|     7      |  0.00008   |  0.01313   |  0.31122   |  0.00613   |\n",
      "+------------+------------+------------+------------+------------+\n",
      "|     9      |  0.00007   |  0.01637   |  0.36719   |  0.00604   |\n",
      "+------------+------------+------------+------------+------------+\n",
      "|     11     |  0.00008   |  0.01846   |  0.40859   |  0.00583   |\n",
      "+------------+------------+------------+------------+------------+\n"
     ]
    },
    {
     "ename": "KeyboardInterrupt",
     "evalue": "",
     "output_type": "error",
     "traceback": [
      "\u001b[0;31m---------------------------------------------------------------------------\u001b[0m",
      "\u001b[0;31mKeyboardInterrupt\u001b[0m                         Traceback (most recent call last)",
      "\u001b[0;32m<ipython-input-152-1b24e2e35a61>\u001b[0m in \u001b[0;36m<module>\u001b[0;34m\u001b[0m\n\u001b[1;32m      7\u001b[0m model, train_precisions, test_precisions, train_recalls, test_recalls = patk_learning_curve(\n\u001b[1;32m      8\u001b[0m     \u001b[0mmodel\u001b[0m\u001b[0;34m,\u001b[0m \u001b[0mtrain1\u001b[0m\u001b[0;34m,\u001b[0m \u001b[0mtest1\u001b[0m\u001b[0;34m,\u001b[0m \u001b[0miterarray\u001b[0m\u001b[0;34m,\u001b[0m \u001b[0mnum_threads\u001b[0m\u001b[0;34m=\u001b[0m\u001b[0;36m8\u001b[0m\u001b[0;34m,\u001b[0m\u001b[0;34m\u001b[0m\u001b[0;34m\u001b[0m\u001b[0m\n\u001b[0;32m----> 9\u001b[0;31m     \u001b[0mitem_features_train\u001b[0m\u001b[0;34m=\u001b[0m\u001b[0mcsr_matrix\u001b[0m\u001b[0;34m(\u001b[0m\u001b[0mitem_train_df\u001b[0m\u001b[0;34m)\u001b[0m\u001b[0;34m,\u001b[0m \u001b[0mitem_features_test\u001b[0m\u001b[0;34m=\u001b[0m\u001b[0mcsr_matrix\u001b[0m\u001b[0;34m(\u001b[0m\u001b[0mitem_test_df\u001b[0m\u001b[0;34m)\u001b[0m\u001b[0;34m\u001b[0m\u001b[0;34m\u001b[0m\u001b[0m\n\u001b[0m\u001b[1;32m     10\u001b[0m )\n\u001b[1;32m     11\u001b[0m \u001b[0;34m\u001b[0m\u001b[0m\n",
      "\u001b[0;32m~/recommend_sys/helpers.py\u001b[0m in \u001b[0;36mpatk_learning_curve\u001b[0;34m(model, train, test, iterarray, user_features, item_features_train, item_features_test, k_precision, k_recall, **fit_params)\u001b[0m\n\u001b[1;32m     54\u001b[0m         precision_test = lightfm.evaluation.precision_at_k(model, test, \n\u001b[1;32m     55\u001b[0m                                                            \u001b[0mitem_features\u001b[0m\u001b[0;34m=\u001b[0m\u001b[0mitem_features_test\u001b[0m\u001b[0;34m,\u001b[0m\u001b[0;34m\u001b[0m\u001b[0;34m\u001b[0m\u001b[0m\n\u001b[0;32m---> 56\u001b[0;31m                                                            k=k_precision)\n\u001b[0m\u001b[1;32m     57\u001b[0m         precision_train = lightfm.evaluation.precision_at_k(model, train, \n\u001b[1;32m     58\u001b[0m                                                             \u001b[0mitem_features\u001b[0m\u001b[0;34m=\u001b[0m\u001b[0mitem_features_train\u001b[0m\u001b[0;34m,\u001b[0m\u001b[0;34m\u001b[0m\u001b[0;34m\u001b[0m\u001b[0m\n",
      "\u001b[0;32m//anaconda3/lib/python3.7/site-packages/lightfm/evaluation.py\u001b[0m in \u001b[0;36mprecision_at_k\u001b[0;34m(model, test_interactions, train_interactions, k, user_features, item_features, preserve_rows, num_threads, check_intersections)\u001b[0m\n\u001b[1;32m     67\u001b[0m                                \u001b[0mitem_features\u001b[0m\u001b[0;34m=\u001b[0m\u001b[0mitem_features\u001b[0m\u001b[0;34m,\u001b[0m\u001b[0;34m\u001b[0m\u001b[0;34m\u001b[0m\u001b[0m\n\u001b[1;32m     68\u001b[0m                                \u001b[0mnum_threads\u001b[0m\u001b[0;34m=\u001b[0m\u001b[0mnum_threads\u001b[0m\u001b[0;34m,\u001b[0m\u001b[0;34m\u001b[0m\u001b[0;34m\u001b[0m\u001b[0m\n\u001b[0;32m---> 69\u001b[0;31m                                \u001b[0mcheck_intersections\u001b[0m\u001b[0;34m=\u001b[0m\u001b[0mcheck_intersections\u001b[0m\u001b[0;34m,\u001b[0m\u001b[0;34m\u001b[0m\u001b[0;34m\u001b[0m\u001b[0m\n\u001b[0m\u001b[1;32m     70\u001b[0m                                )\n\u001b[1;32m     71\u001b[0m \u001b[0;34m\u001b[0m\u001b[0m\n",
      "\u001b[0;32m//anaconda3/lib/python3.7/site-packages/lightfm/lightfm.py\u001b[0m in \u001b[0;36mpredict_rank\u001b[0;34m(self, test_interactions, train_interactions, item_features, user_features, num_threads, check_intersections)\u001b[0m\n\u001b[1;32m    833\u001b[0m                       \u001b[0mranks\u001b[0m\u001b[0;34m.\u001b[0m\u001b[0mdata\u001b[0m\u001b[0;34m,\u001b[0m\u001b[0;34m\u001b[0m\u001b[0;34m\u001b[0m\u001b[0m\n\u001b[1;32m    834\u001b[0m                       \u001b[0mlightfm_data\u001b[0m\u001b[0;34m,\u001b[0m\u001b[0;34m\u001b[0m\u001b[0;34m\u001b[0m\u001b[0m\n\u001b[0;32m--> 835\u001b[0;31m                       num_threads)\n\u001b[0m\u001b[1;32m    836\u001b[0m \u001b[0;34m\u001b[0m\u001b[0m\n\u001b[1;32m    837\u001b[0m         \u001b[0;32mreturn\u001b[0m \u001b[0mranks\u001b[0m\u001b[0;34m\u001b[0m\u001b[0;34m\u001b[0m\u001b[0m\n",
      "\u001b[0;31mKeyboardInterrupt\u001b[0m: "
     ]
    }
   ],
   "source": [
    "from helpers import patk_learning_curve\n",
    "model = LightFM(loss='warp', random_state=2016, no_components=8, max_sampled=15)\n",
    "\n",
    "\n",
    "iterarray = range(5, 55, 2)\n",
    "\n",
    "model, train_precisions, test_precisions, train_recalls, test_recalls = patk_learning_curve(\n",
    "    model, train1, test1, iterarray, num_threads=8, \n",
    "    item_features_train=csr_matrix(item_train_df), item_features_test=csr_matrix(item_test_df)\n",
    ")\n",
    "\n",
    "train_auc = auc_score(model, train1).mean()\n",
    "test_auc = auc_score(model, test1).mean()\n",
    "\n",
    "print('AUC: train %.2f, test %.2f.' % (train_auc, test_auc))"
   ]
  },
  {
   "cell_type": "markdown",
   "metadata": {},
   "source": [
    "# Time-based"
   ]
  },
  {
   "cell_type": "code",
   "execution_count": 37,
   "metadata": {
    "ExecuteTime": {
     "end_time": "2020-06-21T10:27:48.173938Z",
     "start_time": "2020-06-21T10:27:48.008725Z"
    }
   },
   "outputs": [
    {
     "ename": "NameError",
     "evalue": "name 'item_df' is not defined",
     "output_type": "error",
     "traceback": [
      "\u001b[0;31m---------------------------------------------------------------------------\u001b[0m",
      "\u001b[0;31mNameError\u001b[0m                                 Traceback (most recent call last)",
      "\u001b[0;32m<ipython-input-37-3ca0ebfef0d2>\u001b[0m in \u001b[0;36m<module>\u001b[0;34m\u001b[0m\n\u001b[1;32m      1\u001b[0m \u001b[0mtime_test_thres\u001b[0m \u001b[0;34m=\u001b[0m \u001b[0;34m'2015-07-26 03:00:00'\u001b[0m\u001b[0;34m\u001b[0m\u001b[0;34m\u001b[0m\u001b[0m\n\u001b[1;32m      2\u001b[0m \u001b[0mevent_df\u001b[0m\u001b[0;34m[\u001b[0m\u001b[0;34m'timestamp'\u001b[0m\u001b[0;34m]\u001b[0m \u001b[0;34m=\u001b[0m \u001b[0mpd\u001b[0m\u001b[0;34m.\u001b[0m\u001b[0mto_datetime\u001b[0m\u001b[0;34m(\u001b[0m\u001b[0mevent_df\u001b[0m\u001b[0;34m[\u001b[0m\u001b[0;34m'timestamp'\u001b[0m\u001b[0;34m]\u001b[0m\u001b[0;34m,\u001b[0m \u001b[0munit\u001b[0m\u001b[0;34m=\u001b[0m\u001b[0;34m'ms'\u001b[0m\u001b[0;34m)\u001b[0m\u001b[0;34m\u001b[0m\u001b[0;34m\u001b[0m\u001b[0m\n\u001b[0;32m----> 3\u001b[0;31m \u001b[0mitem_df\u001b[0m\u001b[0;34m[\u001b[0m\u001b[0;34m'timestamp'\u001b[0m\u001b[0;34m]\u001b[0m \u001b[0;34m=\u001b[0m \u001b[0mpd\u001b[0m\u001b[0;34m.\u001b[0m\u001b[0mto_datetime\u001b[0m\u001b[0;34m(\u001b[0m\u001b[0mitem_df\u001b[0m\u001b[0;34m[\u001b[0m\u001b[0;34m'timestamp'\u001b[0m\u001b[0;34m]\u001b[0m\u001b[0;34m,\u001b[0m \u001b[0munit\u001b[0m\u001b[0;34m=\u001b[0m\u001b[0;34m'ms'\u001b[0m\u001b[0;34m)\u001b[0m\u001b[0;34m\u001b[0m\u001b[0;34m\u001b[0m\u001b[0m\n\u001b[0m\u001b[1;32m      4\u001b[0m \u001b[0mevent_df\u001b[0m\u001b[0;34m.\u001b[0m\u001b[0mhead\u001b[0m\u001b[0;34m(\u001b[0m\u001b[0;34m)\u001b[0m\u001b[0;34m\u001b[0m\u001b[0;34m\u001b[0m\u001b[0m\n",
      "\u001b[0;31mNameError\u001b[0m: name 'item_df' is not defined"
     ]
    }
   ],
   "source": [
    "time_test_thres = '2015-07-26 03:00:00'\n",
    "event_df['timestamp'] = pd.to_datetime(event_df['timestamp'], unit='ms')\n",
    "# item_df['timestamp'] = pd.to_datetime(item_df['timestamp'], unit='ms')\n",
    "event_df.head()"
   ]
  },
  {
   "cell_type": "code",
   "execution_count": 38,
   "metadata": {
    "ExecuteTime": {
     "end_time": "2020-06-21T10:41:32.903945Z",
     "start_time": "2020-06-21T10:41:32.873019Z"
    }
   },
   "outputs": [
    {
     "data": {
      "text/plain": [
       "Timestamp('2015-09-18 02:58:58.914000')"
      ]
     },
     "execution_count": 38,
     "metadata": {},
     "output_type": "execute_result"
    }
   ],
   "source": [
    "event_df['timestamp'].max()"
   ]
  },
  {
   "cell_type": "code",
   "execution_count": null,
   "metadata": {
    "ExecuteTime": {
     "start_time": "2020-06-21T10:42:14.974Z"
    }
   },
   "outputs": [
    {
     "name": "stdout",
     "output_type": "stream",
     "text": [
      "Before: (132321, 9)\n",
      "After: (71546, 5)\n",
      "Before: (2763, 9)\n",
      "After: (1699, 5)\n",
      "+------------+------------+------------+------------+------------+\n",
      "|   Epoch    | train p@3  |  test p@3  | train r@100 | test r@100 |\n",
      "+============+============+============+============+============+\n",
      "|     5      |  0.00660   |  0.03681   |  0.20880   |  0.07692   |\n",
      "+------------+------------+------------+------------+------------+\n",
      "|     7      |  0.01116   |  0.06135   |  0.28316   |  0.09473   |\n",
      "+------------+------------+------------+------------+------------+\n",
      "|     9      |  0.01218   |  0.06953   |  0.39642   |  0.12329   |\n",
      "+------------+------------+------------+------------+------------+\n",
      "|     11     |  0.01776   |  0.09816   |  0.53137   |  0.15558   |\n",
      "+------------+------------+------------+------------+------------+\n",
      "|     13     |  0.02232   |  0.13292   |  0.75160   |  0.22367   |\n",
      "+------------+------------+------------+------------+------------+\n",
      "|     15     |  0.02943   |  0.16053   |  0.90779   |  0.26684   |\n",
      "+------------+------------+------------+------------+------------+\n",
      "|     17     |  0.02943   |  0.18507   |  0.97052   |  0.28832   |\n",
      "+------------+------------+------------+------------+------------+\n",
      "|     19     |  0.03501   |  0.21984   |  0.98156   |  0.28821   |\n",
      "+------------+------------+------------+------------+------------+\n",
      "|     21     |  0.04363   |  0.26176   |  0.98316   |  0.28875   |\n",
      "+------------+------------+------------+------------+------------+\n",
      "|     23     |  0.05124   |  0.29039   |  0.98776   |  0.28825   |\n",
      "+------------+------------+------------+------------+------------+\n",
      "|     25     |  0.05530   |  0.32209   |  0.98776   |  0.28718   |\n",
      "+------------+------------+------------+------------+------------+\n",
      "|     27     |  0.05682   |  0.34663   |  0.98776   |  0.28655   |\n",
      "+------------+------------+------------+------------+------------+\n",
      "|     29     |  0.05682   |  0.36299   |  0.98776   |  0.28719   |\n",
      "+------------+------------+------------+------------+------------+\n",
      "|     31     |  0.06596   |  0.39775   |  0.98776   |  0.28636   |\n",
      "+------------+------------+------------+------------+------------+\n",
      "|     33     |  0.06748   |  0.40695   |  0.98776   |  0.28666   |\n",
      "+------------+------------+------------+------------+------------+\n",
      "|     35     |  0.06900   |  0.42025   |  0.98776   |  0.28585   |\n",
      "+------------+------------+------------+------------+------------+\n",
      "|     37     |  0.07255   |  0.44274   |  0.98776   |  0.28605   |\n",
      "+------------+------------+------------+------------+------------+\n",
      "|     39     |  0.07306   |  0.45194   |  0.98776   |  0.28605   |\n",
      "+------------+------------+------------+------------+------------+\n",
      "|     41     |  0.07560   |  0.46319   |  0.98776   |  0.28575   |\n",
      "+------------+------------+------------+------------+------------+\n",
      "|     43     |  0.07813   |  0.47444   |  0.98776   |  0.28575   |\n",
      "+------------+------------+------------+------------+------------+\n",
      "|     45     |  0.07864   |  0.48057   |  0.98776   |  0.28578   |\n",
      "+------------+------------+------------+------------+------------+\n",
      "|     47     |  0.08067   |  0.49591   |  0.98776   |  0.28515   |\n",
      "+------------+------------+------------+------------+------------+\n",
      "|     49     |  0.08016   |  0.49796   |  0.98776   |  0.28549   |\n",
      "+------------+------------+------------+------------+------------+\n",
      "|     51     |  0.08067   |  0.50511   |  0.98776   |  0.28518   |\n",
      "+------------+------------+------------+------------+------------+\n",
      "|     53     |  0.08270   |  0.51125   |  0.98787   |  0.28518   |\n",
      "+------------+------------+------------+------------+------------+\n",
      "AUC: train 1.00, test 0.49.\n",
      "\n",
      "Before: (131159, 9)\n",
      "After: (70849, 5)\n",
      "Before: (4602, 9)\n",
      "After: (2851, 5)\n",
      "+------------+------------+------------+------------+------------+\n",
      "|   Epoch    | train p@3  |  test p@3  | train r@100 | test r@100 |\n",
      "+============+============+============+============+============+\n",
      "|     5      |  0.00555   |  0.04752   |  0.20546   |  0.08481   |\n",
      "+------------+------------+------------+------------+------------+\n",
      "|     7      |  0.00914   |  0.07518   |  0.28575   |  0.10183   |\n",
      "+------------+------------+------------+------------+------------+\n",
      "|     9      |  0.01175   |  0.08865   |  0.40069   |  0.12990   |\n",
      "+------------+------------+------------+------------+------------+\n",
      "|     11     |  0.01175   |  0.09504   |  0.53399   |  0.16138   |\n",
      "+------------+------------+------------+------------+------------+\n",
      "|     13     |  0.01110   |  0.10355   |  0.72420   |  0.20856   |\n",
      "+------------+------------+------------+------------+------------+\n",
      "|     15     |  0.01208   |  0.11348   |  0.89787   |  0.24287   |\n",
      "+------------+------------+------------+------------+------------+\n",
      "|     17     |  0.01175   |  0.11348   |  0.96095   |  0.26020   |\n",
      "+------------+------------+------------+------------+------------+\n",
      "|     19     |  0.01371   |  0.12837   |  0.98150   |  0.26279   |\n",
      "+------------+------------+------------+------------+------------+\n",
      "|     21     |  0.01698   |  0.14397   |  0.98443   |  0.26274   |\n",
      "+------------+------------+------------+------------+------------+\n",
      "|     23     |  0.01730   |  0.15319   |  0.98611   |  0.26204   |\n",
      "+------------+------------+------------+------------+------------+\n",
      "|     25     |  0.01926   |  0.16525   |  0.98719   |  0.26076   |\n",
      "+------------+------------+------------+------------+------------+\n",
      "|     27     |  0.02220   |  0.18014   |  0.98749   |  0.26204   |\n",
      "+------------+------------+------------+------------+------------+\n",
      "|     29     |  0.02677   |  0.19645   |  0.98789   |  0.26171   |\n",
      "+------------+------------+------------+------------+------------+\n",
      "|     31     |  0.02644   |  0.21560   |  0.98837   |  0.26165   |\n",
      "+------------+------------+------------+------------+------------+\n",
      "|     33     |  0.02808   |  0.23050   |  0.98938   |  0.26176   |\n",
      "+------------+------------+------------+------------+------------+\n",
      "|     35     |  0.02906   |  0.23121   |  0.98938   |  0.26158   |\n",
      "+------------+------------+------------+------------+------------+\n",
      "|     37     |  0.03134   |  0.25248   |  0.98973   |  0.26121   |\n",
      "+------------+------------+------------+------------+------------+\n",
      "|     39     |  0.03232   |  0.25248   |  0.99001   |  0.26085   |\n",
      "+------------+------------+------------+------------+------------+\n",
      "|     41     |  0.03330   |  0.27021   |  0.98998   |  0.26113   |\n",
      "+------------+------------+------------+------------+------------+\n",
      "|     43     |  0.03787   |  0.28723   |  0.99024   |  0.26065   |\n",
      "+------------+------------+------------+------------+------------+\n",
      "|     45     |  0.04114   |  0.30071   |  0.99024   |  0.26067   |\n",
      "+------------+------------+------------+------------+------------+\n",
      "|     47     |  0.04407   |  0.31277   |  0.99024   |  0.26064   |\n",
      "+------------+------------+------------+------------+------------+\n",
      "|     49     |  0.04212   |  0.31489   |  0.99039   |  0.25984   |\n",
      "+------------+------------+------------+------------+------------+\n",
      "|     51     |  0.04375   |  0.33121   |  0.99039   |  0.25951   |\n",
      "+------------+------------+------------+------------+------------+\n",
      "|     53     |  0.04342   |  0.33333   |  0.99039   |  0.26027   |\n",
      "+------------+------------+------------+------------+------------+\n",
      "AUC: train 1.00, test 0.51.\n",
      "\n",
      "Before: (132631, 9)\n",
      "After: (71667, 5)\n",
      "Before: (4208, 9)\n",
      "After: (2552, 5)\n",
      "+------------+------------+------------+------------+------------+\n",
      "|   Epoch    | train p@3  |  test p@3  | train r@100 | test r@100 |\n",
      "+============+============+============+============+============+\n",
      "|     5      |  0.00386   |  0.04896   |  0.18426   |  0.09312   |\n",
      "+------------+------------+------------+------------+------------+\n",
      "|     7      |  0.00562   |  0.06372   |  0.29497   |  0.12352   |\n",
      "+------------+------------+------------+------------+------------+\n",
      "|     9      |  0.00667   |  0.07445   |  0.46151   |  0.16738   |\n",
      "+------------+------------+------------+------------+------------+\n",
      "|     11     |  0.00702   |  0.09323   |  0.65582   |  0.21171   |\n",
      "+------------+------------+------------+------------+------------+\n",
      "|     13     |  0.01019   |  0.10597   |  0.85510   |  0.26354   |\n",
      "+------------+------------+------------+------------+------------+\n"
     ]
    },
    {
     "name": "stdout",
     "output_type": "stream",
     "text": [
      "|     15     |  0.01124   |  0.11469   |  0.95037   |  0.29537   |\n",
      "+------------+------------+------------+------------+------------+\n",
      "|     17     |  0.01616   |  0.13146   |  0.97661   |  0.30420   |\n",
      "+------------+------------+------------+------------+------------+\n",
      "|     19     |  0.01756   |  0.14286   |  0.98629   |  0.30941   |\n",
      "+------------+------------+------------+------------+------------+\n",
      "|     21     |  0.02213   |  0.17103   |  0.98637   |  0.31004   |\n",
      "+------------+------------+------------+------------+------------+\n",
      "|     23     |  0.02459   |  0.17975   |  0.98861   |  0.31102   |\n",
      "+------------+------------+------------+------------+------------+\n",
      "|     25     |  0.03056   |  0.19517   |  0.98888   |  0.31061   |\n",
      "+------------+------------+------------+------------+------------+\n",
      "|     27     |  0.03091   |  0.20121   |  0.98951   |  0.30899   |\n",
      "+------------+------------+------------+------------+------------+\n",
      "|     29     |  0.03372   |  0.21529   |  0.98950   |  0.30847   |\n",
      "+------------+------------+------------+------------+------------+\n",
      "|     31     |  0.03934   |  0.23675   |  0.98951   |  0.30857   |\n",
      "+------------+------------+------------+------------+------------+\n",
      "|     33     |  0.04110   |  0.24413   |  0.98956   |  0.30860   |\n",
      "+------------+------------+------------+------------+------------+\n",
      "|     35     |  0.04391   |  0.25352   |  0.98981   |  0.30965   |\n",
      "+------------+------------+------------+------------+------------+\n",
      "|     37     |  0.04250   |  0.25486   |  0.98963   |  0.30924   |\n",
      "+------------+------------+------------+------------+------------+\n",
      "|     39     |  0.04707   |  0.26693   |  0.99016   |  0.30786   |\n",
      "+------------+------------+------------+------------+------------+\n",
      "|     41     |  0.04777   |  0.27029   |  0.99023   |  0.30892   |\n",
      "+------------+------------+------------+------------+------------+\n",
      "|     43     |  0.05023   |  0.27767   |  0.99023   |  0.30876   |\n",
      "+------------+------------+------------+------------+------------+\n",
      "|     45     |  0.04953   |  0.27901   |  0.99020   |  0.30703   |\n",
      "+------------+------------+------------+------------+------------+\n",
      "|     47     |  0.05128   |  0.29041   |  0.99016   |  0.30769   |\n",
      "+------------+------------+------------+------------+------------+\n",
      "|     49     |  0.05198   |  0.29913   |  0.99029   |  0.30767   |\n",
      "+------------+------------+------------+------------+------------+\n",
      "|     51     |  0.04988   |  0.30114   |  0.99033   |  0.30926   |\n",
      "+------------+------------+------------+------------+------------+\n",
      "|     53     |  0.04917   |  0.29913   |  0.99035   |  0.30767   |\n",
      "+------------+------------+------------+------------+------------+\n",
      "AUC: train 1.00, test 0.53.\n",
      "\n",
      "Before: (133569, 9)\n",
      "After: (72142, 5)\n",
      "Before: (3946, 9)\n",
      "After: (2427, 5)\n",
      "+------------+------------+------------+------------+------------+\n",
      "|   Epoch    | train p@3  |  test p@3  | train r@100 | test r@100 |\n",
      "+============+============+============+============+============+\n",
      "|     5      |  0.00922   |  0.05913   |  0.20558   |  0.09028   |\n",
      "+------------+------------+------------+------------+------------+\n",
      "|     7      |  0.01037   |  0.08500   |  0.34343   |  0.12951   |\n",
      "+------------+------------+------------+------------+------------+\n",
      "|     9      |  0.01382   |  0.10273   |  0.47792   |  0.16628   |\n",
      "+------------+------------+------------+------------+------------+\n",
      "|     11     |  0.02112   |  0.12712   |  0.65581   |  0.21703   |\n",
      "+------------+------------+------------+------------+------------+\n",
      "|     13     |  0.02189   |  0.13525   |  0.86878   |  0.27412   |\n",
      "+------------+------------+------------+------------+------------+\n",
      "|     15     |  0.02803   |  0.15965   |  0.94788   |  0.30142   |\n",
      "+------------+------------+------------+------------+------------+\n",
      "|     17     |  0.03341   |  0.18477   |  0.97106   |  0.30748   |\n",
      "+------------+------------+------------+------------+------------+\n",
      "|     19     |  0.03495   |  0.20547   |  0.97856   |  0.30697   |\n",
      "+------------+------------+------------+------------+------------+\n",
      "|     21     |  0.03994   |  0.22099   |  0.98079   |  0.31199   |\n",
      "+------------+------------+------------+------------+------------+\n",
      "|     23     |  0.04378   |  0.25203   |  0.98220   |  0.30991   |\n",
      "+------------+------------+------------+------------+------------+\n",
      "|     25     |  0.04839   |  0.27199   |  0.98310   |  0.31034   |\n",
      "+------------+------------+------------+------------+------------+\n",
      "|     27     |  0.04839   |  0.28234   |  0.98447   |  0.31050   |\n",
      "+------------+------------+------------+------------+------------+\n",
      "|     29     |  0.05184   |  0.30007   |  0.98474   |  0.31210   |\n",
      "+------------+------------+------------+------------+------------+\n",
      "|     31     |  0.05722   |  0.32077   |  0.98508   |  0.31101   |\n",
      "+------------+------------+------------+------------+------------+\n",
      "|     33     |  0.05645   |  0.32151   |  0.98524   |  0.31179   |\n",
      "+------------+------------+------------+------------+------------+\n",
      "|     35     |  0.05760   |  0.32668   |  0.98575   |  0.31127   |\n",
      "+------------+------------+------------+------------+------------+\n",
      "|     37     |  0.05837   |  0.33407   |  0.98593   |  0.31027   |\n",
      "+------------+------------+------------+------------+------------+\n",
      "|     39     |  0.06068   |  0.34146   |  0.98628   |  0.31019   |\n",
      "+------------+------------+------------+------------+------------+\n",
      "|     41     |  0.06452   |  0.35477   |  0.98648   |  0.30997   |\n",
      "+------------+------------+------------+------------+------------+\n",
      "|     43     |  0.06490   |  0.35772   |  0.98648   |  0.31042   |\n",
      "+------------+------------+------------+------------+------------+\n",
      "|     45     |  0.06413   |  0.35772   |  0.98658   |  0.31048   |\n",
      "+------------+------------+------------+------------+------------+\n",
      "|     47     |  0.06528   |  0.36216   |  0.98676   |  0.30997   |\n",
      "+------------+------------+------------+------------+------------+\n",
      "|     49     |  0.06797   |  0.37251   |  0.98674   |  0.31012   |\n",
      "+------------+------------+------------+------------+------------+\n",
      "|     51     |  0.06605   |  0.37251   |  0.98692   |  0.30944   |\n",
      "+------------+------------+------------+------------+------------+\n",
      "|     53     |  0.06797   |  0.38433   |  0.98713   |  0.30988   |\n",
      "+------------+------------+------------+------------+------------+\n",
      "AUC: train 1.00, test 0.54.\n",
      "\n",
      "Before: (132628, 9)\n",
      "After: (71611, 5)\n",
      "Before: (3848, 9)\n",
      "After: (2334, 5)\n",
      "+------------+------------+------------+------------+------------+\n",
      "|   Epoch    | train p@3  |  test p@3  | train r@100 | test r@100 |\n",
      "+============+============+============+============+============+\n",
      "|     5      |  0.00507   |  0.04473   |  0.19109   |  0.08149   |\n",
      "+------------+------------+------------+------------+------------+\n",
      "|     7      |  0.00664   |  0.05988   |  0.27545   |  0.11268   |\n",
      "+------------+------------+------------+------------+------------+\n",
      "|     9      |  0.00859   |  0.07215   |  0.37260   |  0.13562   |\n",
      "+------------+------------+------------+------------+------------+\n",
      "|     11     |  0.00898   |  0.08442   |  0.51362   |  0.17685   |\n",
      "+------------+------------+------------+------------+------------+\n",
      "|     13     |  0.01327   |  0.09885   |  0.70925   |  0.23204   |\n",
      "+------------+------------+------------+------------+------------+\n",
      "|     15     |  0.01444   |  0.11183   |  0.87267   |  0.26706   |\n",
      "+------------+------------+------------+------------+------------+\n",
      "|     17     |  0.01756   |  0.12626   |  0.93753   |  0.28740   |\n",
      "+------------+------------+------------+------------+------------+\n",
      "|     19     |  0.01991   |  0.13276   |  0.96237   |  0.28935   |\n",
      "+------------+------------+------------+------------+------------+\n",
      "|     21     |  0.02186   |  0.15368   |  0.97046   |  0.29045   |\n",
      "+------------+------------+------------+------------+------------+\n",
      "|     23     |  0.02498   |  0.16667   |  0.97348   |  0.29059   |\n",
      "+------------+------------+------------+------------+------------+\n",
      "|     25     |  0.02498   |  0.18543   |  0.97953   |  0.29315   |\n",
      "+------------+------------+------------+------------+------------+\n",
      "|     27     |  0.03162   |  0.20346   |  0.98521   |  0.29662   |\n",
      "+------------+------------+------------+------------+------------+\n"
     ]
    },
    {
     "name": "stdout",
     "output_type": "stream",
     "text": [
      "|     29     |  0.03513   |  0.22799   |  0.98587   |  0.29661   |\n",
      "+------------+------------+------------+------------+------------+\n",
      "|     31     |  0.03591   |  0.24170   |  0.98674   |  0.29701   |\n",
      "+------------+------------+------------+------------+------------+\n",
      "|     33     |  0.03591   |  0.25253   |  0.98674   |  0.29541   |\n",
      "+------------+------------+------------+------------+------------+\n",
      "|     35     |  0.03981   |  0.25902   |  0.98682   |  0.29455   |\n",
      "+------------+------------+------------+------------+------------+\n",
      "|     37     |  0.04489   |  0.28283   |  0.98686   |  0.29575   |\n",
      "+------------+------------+------------+------------+------------+\n",
      "|     39     |  0.04333   |  0.29509   |  0.98702   |  0.29420   |\n",
      "+------------+------------+------------+------------+------------+\n",
      "|     41     |  0.04528   |  0.30519   |  0.98713   |  0.29432   |\n",
      "+------------+------------+------------+------------+------------+\n",
      "|     43     |  0.04762   |  0.32035   |  0.98716   |  0.29375   |\n",
      "+------------+------------+------------+------------+------------+\n",
      "|     45     |  0.05152   |  0.31602   |  0.98721   |  0.29314   |\n",
      "+------------+------------+------------+------------+------------+\n",
      "|     47     |  0.05386   |  0.33478   |  0.98724   |  0.29494   |\n",
      "+------------+------------+------------+------------+------------+\n",
      "|     49     |  0.05816   |  0.33983   |  0.98729   |  0.29427   |\n",
      "+------------+------------+------------+------------+------------+\n",
      "|     51     |  0.05855   |  0.34921   |  0.98801   |  0.29591   |\n",
      "+------------+------------+------------+------------+------------+\n",
      "|     53     |  0.05972   |  0.35786   |  0.98820   |  0.29495   |\n",
      "+------------+------------+------------+------------+------------+\n",
      "AUC: train 1.00, test 0.53.\n",
      "\n",
      "Before: (131479, 9)\n",
      "After: (70958, 5)\n",
      "Before: (3839, 9)\n",
      "After: (2389, 5)\n",
      "+------------+------------+------------+------------+------------+\n",
      "|   Epoch    | train p@3  |  test p@3  | train r@100 | test r@100 |\n",
      "+============+============+============+============+============+\n",
      "|     5      |  0.00862   |  0.04729   |  0.23125   |  0.09681   |\n",
      "+------------+------------+------------+------------+------------+\n",
      "|     7      |  0.01214   |  0.07246   |  0.33818   |  0.13292   |\n",
      "+------------+------------+------------+------------+------------+\n",
      "|     9      |  0.01449   |  0.08772   |  0.43860   |  0.15355   |\n",
      "+------------+------------+------------+------------+------------+\n",
      "|     11     |  0.01802   |  0.11213   |  0.56814   |  0.19040   |\n",
      "+------------+------------+------------+------------+------------+\n",
      "|     13     |  0.02115   |  0.12967   |  0.74219   |  0.24493   |\n",
      "+------------+------------+------------+------------+------------+\n",
      "|     15     |  0.02350   |  0.15408   |  0.87968   |  0.27278   |\n",
      "+------------+------------+------------+------------+------------+\n",
      "|     17     |  0.02585   |  0.17696   |  0.95384   |  0.29534   |\n",
      "+------------+------------+------------+------------+------------+\n",
      "|     19     |  0.03369   |  0.20900   |  0.97988   |  0.30201   |\n",
      "+------------+------------+------------+------------+------------+\n",
      "|     21     |  0.03839   |  0.23417   |  0.98333   |  0.30517   |\n",
      "+------------+------------+------------+------------+------------+\n",
      "|     23     |  0.04544   |  0.25934   |  0.98491   |  0.30514   |\n",
      "+------------+------------+------------+------------+------------+\n",
      "|     25     |  0.04896   |  0.28604   |  0.98789   |  0.30556   |\n",
      "+------------+------------+------------+------------+------------+\n",
      "|     27     |  0.05249   |  0.30359   |  0.98816   |  0.30717   |\n",
      "+------------+------------+------------+------------+------------+\n",
      "|     29     |  0.05601   |  0.32189   |  0.98826   |  0.30719   |\n",
      "+------------+------------+------------+------------+------------+\n",
      "|     31     |  0.06189   |  0.34325   |  0.98857   |  0.30679   |\n",
      "+------------+------------+------------+------------+------------+\n",
      "|     33     |  0.06306   |  0.35850   |  0.98884   |  0.30589   |\n",
      "+------------+------------+------------+------------+------------+\n",
      "|     35     |  0.06620   |  0.36690   |  0.98877   |  0.30738   |\n",
      "+------------+------------+------------+------------+------------+\n",
      "|     37     |  0.07051   |  0.38063   |  0.98881   |  0.30703   |\n",
      "+------------+------------+------------+------------+------------+\n",
      "|     39     |  0.07168   |  0.39588   |  0.98909   |  0.30849   |\n",
      "+------------+------------+------------+------------+------------+\n",
      "|     41     |  0.07325   |  0.40122   |  0.98912   |  0.30644   |\n",
      "+------------+------------+------------+------------+------------+\n",
      "|     43     |  0.07442   |  0.41114   |  0.98927   |  0.30732   |\n",
      "+------------+------------+------------+------------+------------+\n",
      "|     45     |  0.07638   |  0.42487   |  0.98948   |  0.30733   |\n",
      "+------------+------------+------------+------------+------------+\n",
      "|     47     |  0.07756   |  0.43249   |  0.98948   |  0.30527   |\n",
      "+------------+------------+------------+------------+------------+\n",
      "|     49     |  0.07756   |  0.43707   |  0.98945   |  0.30468   |\n",
      "+------------+------------+------------+------------+------------+\n",
      "|     51     |  0.08030   |  0.44317   |  0.98950   |  0.30458   |\n",
      "+------------+------------+------------+------------+------------+\n",
      "|     53     |  0.07912   |  0.45461   |  0.98948   |  0.30457   |\n",
      "+------------+------------+------------+------------+------------+\n",
      "AUC: train 1.00, test 0.53.\n",
      "\n",
      "Before: (129588, 9)\n",
      "After: (70020, 5)\n",
      "Before: (2175, 9)\n",
      "After: (1374, 5)\n",
      "+------------+------------+------------+------------+------------+\n",
      "|   Epoch    | train p@3  |  test p@3  | train r@100 | test r@100 |\n",
      "+============+============+============+============+============+\n",
      "|     5      |  0.00503   |  0.04224   |  0.21419   |  0.07308   |\n",
      "+------------+------------+------------+------------+------------+\n",
      "|     7      |  0.00943   |  0.06621   |  0.25927   |  0.08516   |\n",
      "+------------+------------+------------+------------+------------+\n",
      "|     9      |  0.01321   |  0.08447   |  0.38326   |  0.13519   |\n",
      "+------------+------------+------------+------------+------------+\n",
      "|     11     |  0.01761   |  0.11416   |  0.55268   |  0.17827   |\n",
      "+------------+------------+------------+------------+------------+\n",
      "|     13     |  0.02013   |  0.13584   |  0.77938   |  0.24027   |\n",
      "+------------+------------+------------+------------+------------+\n",
      "|     15     |  0.02453   |  0.17694   |  0.94195   |  0.30296   |\n",
      "+------------+------------+------------+------------+------------+\n",
      "|     17     |  0.04025   |  0.24543   |  0.97979   |  0.31566   |\n",
      "+------------+------------+------------+------------+------------+\n",
      "|     19     |  0.05157   |  0.30137   |  0.98980   |  0.31920   |\n",
      "+------------+------------+------------+------------+------------+\n",
      "|     21     |  0.05849   |  0.35502   |  0.99014   |  0.31920   |\n",
      "+------------+------------+------------+------------+------------+\n",
      "|     23     |  0.06855   |  0.39726   |  0.99025   |  0.31944   |\n",
      "+------------+------------+------------+------------+------------+\n",
      "|     25     |  0.08302   |  0.44178   |  0.99063   |  0.31732   |\n",
      "+------------+------------+------------+------------+------------+\n",
      "|     27     |  0.08868   |  0.46461   |  0.99063   |  0.31732   |\n",
      "+------------+------------+------------+------------+------------+\n",
      "|     29     |  0.08931   |  0.49201   |  0.99098   |  0.31779   |\n",
      "+------------+------------+------------+------------+------------+\n",
      "|     31     |  0.09497   |  0.51484   |  0.99098   |  0.31795   |\n",
      "+------------+------------+------------+------------+------------+\n",
      "|     33     |  0.09748   |  0.52626   |  0.99098   |  0.31732   |\n",
      "+------------+------------+------------+------------+------------+\n",
      "|     35     |  0.10314   |  0.54680   |  0.99098   |  0.31826   |\n",
      "+------------+------------+------------+------------+------------+\n",
      "|     37     |  0.10063   |  0.54909   |  0.99098   |  0.31795   |\n",
      "+------------+------------+------------+------------+------------+\n",
      "|     39     |  0.10503   |  0.56507   |  0.99098   |  0.31732   |\n",
      "+------------+------------+------------+------------+------------+\n",
      "|     41     |  0.10377   |  0.56735   |  0.99098   |  0.31795   |\n",
      "+------------+------------+------------+------------+------------+\n"
     ]
    },
    {
     "name": "stdout",
     "output_type": "stream",
     "text": [
      "|     43     |  0.10377   |  0.57306   |  0.99098   |  0.31889   |\n",
      "+------------+------------+------------+------------+------------+\n",
      "|     45     |  0.10629   |  0.58333   |  0.99098   |  0.31983   |\n",
      "+------------+------------+------------+------------+------------+\n",
      "|     47     |  0.10566   |  0.57648   |  0.99098   |  0.31992   |\n",
      "+------------+------------+------------+------------+------------+\n",
      "|     49     |  0.10692   |  0.58676   |  0.99098   |  0.31971   |\n",
      "+------------+------------+------------+------------+------------+\n",
      "|     51     |  0.11006   |  0.59361   |  0.99098   |  0.31886   |\n",
      "+------------+------------+------------+------------+------------+\n",
      "|     53     |  0.10818   |  0.60160   |  0.99098   |  0.31844   |\n",
      "+------------+------------+------------+------------+------------+\n",
      "AUC: train 1.00, test 0.52.\n",
      "\n",
      "Before: (126330, 9)\n",
      "After: (68419, 5)\n",
      "Before: (2286, 9)\n",
      "After: (1474, 5)\n",
      "+------------+------------+------------+------------+------------+\n",
      "|   Epoch    | train p@3  |  test p@3  | train r@100 | test r@100 |\n",
      "+============+============+============+============+============+\n",
      "|     5      |  0.00689   |  0.03404   |  0.20730   |  0.07746   |\n",
      "+------------+------------+------------+------------+------------+\n",
      "|     7      |  0.00877   |  0.06573   |  0.29947   |  0.10730   |\n",
      "+------------+------------+------------+------------+------------+\n",
      "|     9      |  0.01190   |  0.09038   |  0.42670   |  0.13514   |\n",
      "+------------+------------+------------+------------+------------+\n",
      "|     11     |  0.01880   |  0.13732   |  0.58370   |  0.19132   |\n",
      "+------------+------------+------------+------------+------------+\n",
      "|     13     |  0.02506   |  0.18075   |  0.81523   |  0.26294   |\n",
      "+------------+------------+------------+------------+------------+\n",
      "|     15     |  0.03195   |  0.22300   |  0.93510   |  0.30438   |\n",
      "+------------+------------+------------+------------+------------+\n",
      "|     17     |  0.04135   |  0.24648   |  0.98198   |  0.31761   |\n",
      "+------------+------------+------------+------------+------------+\n",
      "|     19     |  0.05075   |  0.30751   |  0.98994   |  0.31790   |\n",
      "+------------+------------+------------+------------+------------+\n",
      "|     21     |  0.06203   |  0.35563   |  0.98994   |  0.31765   |\n",
      "+------------+------------+------------+------------+------------+\n",
      "|     23     |  0.06642   |  0.40258   |  0.98994   |  0.32025   |\n",
      "+------------+------------+------------+------------+------------+\n",
      "|     25     |  0.07331   |  0.43662   |  0.98994   |  0.32009   |\n",
      "+------------+------------+------------+------------+------------+\n",
      "|     27     |  0.08459   |  0.48005   |  0.98994   |  0.32103   |\n",
      "+------------+------------+------------+------------+------------+\n",
      "|     29     |  0.08709   |  0.50822   |  0.98994   |  0.32150   |\n",
      "+------------+------------+------------+------------+------------+\n",
      "|     31     |  0.08835   |  0.52113   |  0.98994   |  0.32140   |\n",
      "+------------+------------+------------+------------+------------+\n",
      "|     33     |  0.08459   |  0.51643   |  0.99007   |  0.31858   |\n",
      "+------------+------------+------------+------------+------------+\n",
      "|     35     |  0.08897   |  0.52465   |  0.99007   |  0.32145   |\n",
      "+------------+------------+------------+------------+------------+\n",
      "|     37     |  0.08772   |  0.54460   |  0.99011   |  0.32184   |\n",
      "+------------+------------+------------+------------+------------+\n",
      "|     39     |  0.09336   |  0.56925   |  0.99011   |  0.32210   |\n",
      "+------------+------------+------------+------------+------------+\n",
      "|     41     |  0.09524   |  0.57160   |  0.99055   |  0.32407   |\n",
      "+------------+------------+------------+------------+------------+\n",
      "|     43     |  0.09900   |  0.58216   |  0.99055   |  0.32372   |\n",
      "+------------+------------+------------+------------+------------+\n",
      "|     45     |  0.09900   |  0.58920   |  0.99055   |  0.32325   |\n",
      "+------------+------------+------------+------------+------------+\n",
      "|     47     |  0.10088   |  0.59390   |  0.99055   |  0.32380   |\n",
      "+------------+------------+------------+------------+------------+\n",
      "|     49     |  0.10088   |  0.60211   |  0.99055   |  0.32380   |\n",
      "+------------+------------+------------+------------+------------+\n",
      "|     51     |  0.10338   |  0.61150   |  0.99055   |  0.32380   |\n",
      "+------------+------------+------------+------------+------------+\n",
      "|     53     |  0.10276   |  0.60915   |  0.99055   |  0.32380   |\n",
      "+------------+------------+------------+------------+------------+\n",
      "AUC: train 1.00, test 0.51.\n",
      "\n",
      "Before: (124500, 9)\n"
     ]
    }
   ],
   "source": [
    "from pandas import Timestamp\n",
    "import datetime\n",
    "base = Timestamp('2015-08-02 03:00:00')\n",
    "date_list = [base + datetime.timedelta(days=x) for x in range(47)]\n",
    "'2015-09-18 02:59:47.788000'\n",
    "\n",
    "# for thres in [Timestamp('2015-08-02 03:00:00'),\n",
    "#               Timestamp('2015-08-09 03:00:00'),\n",
    "#               Timestamp('2015-08-16 03:00:00'),\n",
    "#               Timestamp('2015-08-23 03:00:00'),\n",
    "#               Timestamp('2015-08-30 03:00:00'),\n",
    "#               Timestamp('2015-09-06 03:00:00'),\n",
    "#               Timestamp('2015-09-13 03:00:00')]:\n",
    "log_records = []\n",
    "for thres in date_list:\n",
    "    train = event_df[(event_df.timestamp<= thres)&(event_df.timestamp>thres - pd.to_timedelta('30 days'))]\n",
    "    test = event_df[(event_df.timestamp > thres)&(event_df.timestamp <= thres + pd.to_timedelta('1 days'))]\n",
    "    train = dedup(train)\n",
    "    test = dedup(test)\n",
    "    train['dataset'] = 'train'\n",
    "    test['dataset'] = 'test'\n",
    "    combine_df = pd.concat((train, test))\n",
    "    \n",
    "    train1, test1, uid_to_idx1, idx_to_uid1, \\\n",
    "        mid_to_idx1, idx_to_mid1 = df_to_matrix(combine_df, 'visitorid', 'itemid', filter_in_test=True)\n",
    "    model = LightFM(loss='warp', random_state=2016, no_components=7, max_sampled=15)\n",
    "\n",
    "\n",
    "    iterarray = range(5, 55, 2)\n",
    "\n",
    "    model, train_precisions, test_precisions, train_recalls, test_recalls = patk_learning_curve(\n",
    "        model, train1, test1, iterarray, num_threads=8\n",
    "    )\n",
    "    \n",
    "    train_auc = auc_score(model, train1).mean()\n",
    "    test_auc = auc_score(model, test1).mean()\n",
    "    log_records.append([len(uid_to_idx1), len(test), train_precisions, test_precisions, train_recalls, test_recalls])\n",
    "    print('AUC: train %.2f, test %.2f.' % (train_auc, test_auc))\n",
    "    print()"
   ]
  },
  {
   "cell_type": "markdown",
   "metadata": {},
   "source": [
    "# RNN"
   ]
  },
  {
   "cell_type": "code",
   "execution_count": 51,
   "metadata": {
    "ExecuteTime": {
     "end_time": "2020-06-17T17:49:01.986357Z",
     "start_time": "2020-06-17T17:49:01.749575Z"
    }
   },
   "outputs": [
    {
     "data": {
      "text/html": [
       "<div>\n",
       "<style scoped>\n",
       "    .dataframe tbody tr th:only-of-type {\n",
       "        vertical-align: middle;\n",
       "    }\n",
       "\n",
       "    .dataframe tbody tr th {\n",
       "        vertical-align: top;\n",
       "    }\n",
       "\n",
       "    .dataframe thead th {\n",
       "        text-align: right;\n",
       "    }\n",
       "</style>\n",
       "<table border=\"1\" class=\"dataframe\">\n",
       "  <thead>\n",
       "    <tr style=\"text-align: right;\">\n",
       "      <th></th>\n",
       "      <th>visitorid</th>\n",
       "      <th>itemid</th>\n",
       "      <th>score</th>\n",
       "      <th>timestamp</th>\n",
       "      <th>event</th>\n",
       "      <th>dataset</th>\n",
       "    </tr>\n",
       "  </thead>\n",
       "  <tbody>\n",
       "    <tr>\n",
       "      <th>2</th>\n",
       "      <td>2</td>\n",
       "      <td>325215</td>\n",
       "      <td>1</td>\n",
       "      <td>1438969904567</td>\n",
       "      <td>view</td>\n",
       "      <td>test</td>\n",
       "    </tr>\n",
       "    <tr>\n",
       "      <th>1</th>\n",
       "      <td>2</td>\n",
       "      <td>259884</td>\n",
       "      <td>1</td>\n",
       "      <td>1438970212664</td>\n",
       "      <td>view</td>\n",
       "      <td>test</td>\n",
       "    </tr>\n",
       "    <tr>\n",
       "      <th>0</th>\n",
       "      <td>2</td>\n",
       "      <td>216305</td>\n",
       "      <td>1</td>\n",
       "      <td>1438970468920</td>\n",
       "      <td>view</td>\n",
       "      <td>test</td>\n",
       "    </tr>\n",
       "    <tr>\n",
       "      <th>3</th>\n",
       "      <td>2</td>\n",
       "      <td>342816</td>\n",
       "      <td>1</td>\n",
       "      <td>1438970905669</td>\n",
       "      <td>view</td>\n",
       "      <td>test</td>\n",
       "    </tr>\n",
       "    <tr>\n",
       "      <th>4</th>\n",
       "      <td>6</td>\n",
       "      <td>65273</td>\n",
       "      <td>2</td>\n",
       "      <td>1440914628202</td>\n",
       "      <td>addtocart</td>\n",
       "      <td>test</td>\n",
       "    </tr>\n",
       "  </tbody>\n",
       "</table>\n",
       "</div>"
      ],
      "text/plain": [
       "   visitorid  itemid  score      timestamp      event dataset\n",
       "2          2  325215      1  1438969904567       view    test\n",
       "1          2  259884      1  1438970212664       view    test\n",
       "0          2  216305      1  1438970468920       view    test\n",
       "3          2  342816      1  1438970905669       view    test\n",
       "4          6   65273      2  1440914628202  addtocart    test"
      ]
     },
     "execution_count": 51,
     "metadata": {},
     "output_type": "execute_result"
    }
   ],
   "source": [
    "combine_df = combine_df.sort_values(['visitorid', 'timestamp'])\n",
    "combine_df.head()"
   ]
  },
  {
   "cell_type": "code",
   "execution_count": 52,
   "metadata": {
    "ExecuteTime": {
     "end_time": "2020-06-17T17:51:05.811298Z",
     "start_time": "2020-06-17T17:49:02.503663Z"
    }
   },
   "outputs": [],
   "source": [
    "def sentenize_user(df):\n",
    "    fun = df.event + ' ' + df.itemid.astype(str) + ' '\n",
    "    df['tokenize_events'] = fun.cumsum()\n",
    "    return df\n",
    "rnn_df = combine_df.groupby('visitorid').apply(sentenize_user)"
   ]
  },
  {
   "cell_type": "code",
   "execution_count": 74,
   "metadata": {
    "ExecuteTime": {
     "end_time": "2020-06-17T18:53:24.908821Z",
     "start_time": "2020-06-17T18:53:24.853697Z"
    }
   },
   "outputs": [
    {
     "data": {
      "text/plain": [
       "'view 283115 view 38965 view 319680 view 442228 view 249114 '"
      ]
     },
     "execution_count": 74,
     "metadata": {},
     "output_type": "execute_result"
    }
   ],
   "source": [
    "rnn_df.loc[9].tokenize_events.iloc[0]"
   ]
  },
  {
   "cell_type": "code",
   "execution_count": 94,
   "metadata": {
    "ExecuteTime": {
     "end_time": "2020-06-17T19:14:01.418893Z",
     "start_time": "2020-06-17T19:13:58.252822Z"
    }
   },
   "outputs": [
    {
     "data": {
      "text/html": [
       "<div>\n",
       "<style scoped>\n",
       "    .dataframe tbody tr th:only-of-type {\n",
       "        vertical-align: middle;\n",
       "    }\n",
       "\n",
       "    .dataframe tbody tr th {\n",
       "        vertical-align: top;\n",
       "    }\n",
       "\n",
       "    .dataframe thead th {\n",
       "        text-align: right;\n",
       "    }\n",
       "</style>\n",
       "<table border=\"1\" class=\"dataframe\">\n",
       "  <thead>\n",
       "    <tr style=\"text-align: right;\">\n",
       "      <th></th>\n",
       "      <th>visitorid</th>\n",
       "      <th>itemid</th>\n",
       "      <th>score</th>\n",
       "      <th>timestamp</th>\n",
       "      <th>event</th>\n",
       "      <th>dataset</th>\n",
       "      <th>tokenize_events</th>\n",
       "      <th>num_tokens</th>\n",
       "    </tr>\n",
       "  </thead>\n",
       "  <tbody>\n",
       "    <tr>\n",
       "      <th>90097</th>\n",
       "      <td>1150086</td>\n",
       "      <td>270534</td>\n",
       "      <td>1</td>\n",
       "      <td>1442458187612</td>\n",
       "      <td>view</td>\n",
       "      <td>test</td>\n",
       "      <td>view 231726 view 427777 transaction 398115 vie...</td>\n",
       "      <td>7286</td>\n",
       "    </tr>\n",
       "  </tbody>\n",
       "</table>\n",
       "</div>"
      ],
      "text/plain": [
       "       visitorid  itemid  score      timestamp event dataset  \\\n",
       "90097    1150086  270534      1  1442458187612  view    test   \n",
       "\n",
       "                                         tokenize_events  num_tokens  \n",
       "90097  view 231726 view 427777 transaction 398115 vie...        7286  "
      ]
     },
     "execution_count": 94,
     "metadata": {},
     "output_type": "execute_result"
    }
   ],
   "source": [
    "rnn_df['num_tokens'] = rnn_df.tokenize_events.apply(lambda x: len(x.split()))\n",
    "rnn_df[rnn_df['num_tokens'] == rnn_df['num_tokens'].max()]"
   ]
  },
  {
   "cell_type": "code",
   "execution_count": 97,
   "metadata": {
    "ExecuteTime": {
     "end_time": "2020-06-17T19:14:46.563258Z",
     "start_time": "2020-06-17T19:14:46.500694Z"
    }
   },
   "outputs": [
    {
     "data": {
      "text/plain": [
       "'view 231726 view 427777 transaction 398115 view 458489 transaction 375955 transaction 357133 addtocart 368244 view 288099 view 417737 view 66046 view 190304 view 330894 view 340578 view 309821 view 415884 view 6888 view 212438 view 119737 view 36810 view 175485 view 340994 view 178274 view 46232 view 109352 transaction 119736 view 466109 view 408132 view 425920 view 302478 view 54427 view 107195 view 168944 view 81086 view 98807 view 305675 view 45226 view 411751 view 272596 view 207420 view 141009 view 334401 view 43267 view 89323 view 338395 view 76615 view 184331 view 143860 view 411886 view 428648 view 385857 view 321712 view 293719 transaction 310620 transaction 276704 view 458046 transaction 277638 view 297487 view 29082 view 16789 view 396706 transaction 440066 view 396336 view 50668 view 5848 view 280328 view 36370 transaction 263188 view 213593 addtocart 20740 view 150403 view 355605 view 304876 transaction 387863 view 385778 transaction 464196 view 273770 view 383084 view 188171 view 49925 view 4538 transaction 65021 transaction 332592 view 26644 view 29712 view 211451 view 452661 view 243606 view 329133 view 88098 view 292484 view 422561 view 351982 view 226126 view 345086 view 181576 view 431276 view 243626 view 173365 view 108308 view 101960 view 248626 view 359734 view 218794 transaction 461686 view 455763 view 68787 view 239581 view 185246 view 49947 view 288525 view 144704 view 134455 view 138517 view 179290 view 322503 view 109890 view 386160 view 379264 view 456056 view 361431 view 217043 view 146613 view 243697 view 410102 view 26835 view 128174 view 205582 view 133282 view 441199 view 304629 view 372568 view 462070 view 356048 view 379671 transaction 366177 view 372169 view 123212 view 295125 view 66016 view 292658 transaction 72911 view 233439 view 115556 view 88037 view 243087 view 17218 view 430808 view 405061 view 35608 view 124919 view 101196 view 458140 transaction 316753 view 211883 view 55572 view 263980 view 283903 view 105933 view 429463 transaction 213893 view 253642 view 175907 transaction 415301 view 113535 transaction 41295 view 445811 addtocart 389879 view 188148 view 389200 view 32267 view 243600 view 332072 view 455783 view 304314 view 6605 view 400960 transaction 415324 addtocart 314285 transaction 176757 view 350724 view 37379 transaction 340803 view 323093 addtocart 291559 view 159642 view 246196 view 336228 transaction 126557 view 280058 transaction 4442 view 290999 view 366888 view 341018 view 411694 transaction 57788 view 369158 view 270534 view 326094 view 54698 transaction 62269 transaction 282385 view 341009 view 743 view 215522 view 116022 view 411575 view 395358 view 234321 view 209306 view 223003 view 16206 view 454640 view 299466 transaction 196398 transaction 458130 view 309778 view 117354 view 264693 transaction 322887 transaction 168358 transaction 365166 transaction 108936 view 72210 view 268883 transaction 177543 view 309403 view 432011 transaction 323599 view 463792 view 414155 view 393123 view 182157 view 75715 view 151839 transaction 23762 view 381211 view 127042 view 428658 transaction 442033 view 122873 view 197816 view 247141 view 236000 addtocart 110018 transaction 9385 view 257863 view 188723 transaction 338660 transaction 370395 view 403645 view 403254 addtocart 60980 view 301056 view 61298 view 228068 view 223944 view 413114 view 156546 view 201701 view 198070 view 347049 transaction 156466 view 453389 addtocart 36995 addtocart 27994 view 358650 view 141320 view 74952 view 377960 transaction 137697 view 6656 transaction 237019 view 257800 view 412457 transaction 196536 view 350730 view 21013 view 158829 view 298789 view 316907 transaction 329104 transaction 370984 view 399592 view 151183 transaction 438412 transaction 106547 view 184412 view 427750 view 451312 view 258155 view 410476 view 171785 view 99956 view 432152 view 333183 view 385472 view 67013 view 40140 view 404977 view 466319 view 19326 transaction 177636 transaction 428067 view 72026 transaction 396265 transaction 387622 view 223616 view 137575 view 124039 view 38841 view 359778 addtocart 340240 transaction 68100 view 107503 view 458271 transaction 139515 view 372188 view 136697 view 186573 view 116706 view 246532 view 397692 view 444363 transaction 167126 view 457522 view 320083 view 425808 view 404101 view 215868 view 382127 view 305007 view 306045 transaction 66737 view 447930 transaction 7943 view 358485 view 125572 view 120168 view 157565 view 455684 view 274451 view 293397 view 114000 view 335101 view 60138 view 438833 view 285055 transaction 380014 view 99905 view 255732 view 253213 view 244252 view 200425 view 238677 view 369619 view 209184 view 135046 transaction 130451 view 204832 view 436753 view 372772 view 122704 view 391156 view 346598 view 449895 view 304474 view 68814 view 151945 view 354498 view 284648 view 243250 view 122069 view 237524 view 276257 transaction 382885 view 103035 view 50180 view 184294 transaction 254290 view 455829 view 40158 view 76428 view 191012 view 353111 addtocart 82031 view 181845 transaction 373064 view 409658 view 308561 view 177243 view 444941 view 274798 view 226669 view 380971 view 21947 transaction 454430 view 254325 transaction 162926 view 220422 view 2641 view 46789 view 300670 view 336327 view 388935 view 161623 view 172126 view 166982 transaction 118914 view 372523 view 337136 view 239810 transaction 259105 view 161660 view 132234 view 131794 view 445776 transaction 148103 view 244329 view 79310 view 58775 view 353334 view 285608 view 446206 view 255725 view 10716 view 149110 view 178176 view 464812 view 279332 view 155214 view 363210 view 150940 view 125751 view 106721 view 311200 view 94014 view 269997 view 90679 view 103603 transaction 161925 view 302587 view 264379 view 199975 view 344129 view 87218 view 106720 view 406620 view 33864 view 337195 view 291921 view 286762 view 205049 view 257655 view 393014 transaction 22351 view 397065 view 449226 view 74759 view 279087 view 366993 view 148291 view 110376 view 466614 view 185504 view 228668 view 257575 view 454514 view 104929 view 310886 view 463766 view 177522 addtocart 95914 view 174529 transaction 182539 transaction 178837 view 42720 view 175914 transaction 223203 transaction 361152 view 377577 view 47718 view 466747 view 292512 view 442061 view 132347 transaction 248711 view 437293 view 436360 view 235613 transaction 248262 addtocart 67329 view 435073 view 174417 transaction 206241 view 333792 view 404342 view 22067 view 262982 view 278792 view 144540 addtocart 104820 addtocart 419855 transaction 170262 transaction 412486 view 174724 view 34843 transaction 118551 view 281480 view 353651 view 444006 transaction 202983 view 432478 view 133647 view 190303 view 345373 view 271887 view 220011 view 459863 view 441154 transaction 304877 transaction 459354 view 17478 view 73093 view 199399 view 353456 view 55925 view 117551 view 42788 view 403745 view 256096 view 372397 view 434289 view 333955 view 271321 transaction 57686 transaction 260256 view 64951 view 282868 transaction 379573 view 374135 view 44648 transaction 148478 addtocart 271268 addtocart 354484 transaction 283923 view 421085 view 293557 view 232123 view 377503 view 194731 view 18521 view 309213 view 193507 transaction 236512 view 206268 view 340980 transaction 15744 addtocart 177615 view 131196 transaction 61292 view 78436 transaction 376974 view 466259 transaction 311931 view 355994 view 350000 view 330318 addtocart 296142 view 426977 view 212916 transaction 113641 view 248569 view 233427 view 195361 view 289494 view 155400 view 264221 transaction 164683 view 137432 view 380303 view 180010 addtocart 353142 view 315901 view 304571 addtocart 120941 view 317822 view 90241 view 395656 view 328476 view 152741 view 79202 view 286268 view 283950 view 97010 view 449529 view 63074 view 66485 view 235639 view 206930 view 78078 view 251829 view 372252 transaction 46671 view 148484 view 436414 view 66078 view 159780 view 291767 view 331079 view 383149 view 217003 view 226192 view 141480 view 225279 view 328242 view 198903 view 2416 view 301990 view 101429 addtocart 385475 view 396732 view 133415 view 16417 view 382317 view 425364 view 202648 view 314019 view 413241 view 101718 view 47586 view 350384 view 73789 view 389814 view 62275 view 129121 view 146735 view 314201 view 178416 view 162745 view 418277 view 182205 view 317744 view 75195 view 31640 view 165337 view 301721 view 25777 view 231482 view 380218 view 367664 view 448839 view 278679 view 234299 view 91839 view 332302 view 83791 view 191547 view 237960 view 243949 view 109109 view 393028 view 204442 view 369933 view 7804 view 255614 view 108607 view 346067 view 385355 transaction 65273 view 381262 transaction 244541 view 54875 view 241693 view 342357 view 257534 view 190778 transaction 1152 view 248605 view 24147 transaction 109498 addtocart 294676 view 183178 view 204023 view 463280 view 279473 view 175818 view 186352 view 414654 view 113712 view 122456 view 100031 view 161371 view 332175 view 47044 view 383496 view 445059 view 264183 view 41902 view 15903 view 189313 view 64099 view 365787 view 231092 view 295066 view 361956 view 441535 transaction 191763 view 275294 transaction 170353 view 252031 view 146364 view 226270 view 247698 view 294608 view 333191 view 86430 view 257204 transaction 75873 view 268530 view 57221 view 266843 view 70314 view 110936 view 436450 view 140861 view 382751 transaction 406543 view 28284 view 322342 view 90389 view 205829 view 116737 view 399700 view 318333 view 424197 view 391496 view 407940 view 139447 view 151982 view 322051 view 165783 view 447356 view 350140 transaction 66480 view 131178 view 175058 view 276649 view 445780 view 374896 view 323328 view 412121 transaction 12233 view 48692 view 265165 view 342727 view 246818 view 170820 transaction 316472 view 4606 view 455804 view 244458 view 89247 view 36849 transaction 218962 view 430300 transaction 227211 view 49566 view 207197 view 173400 view 445105 view 202877 view 222665 view 450292 transaction 378637 view 345696 view 431858 view 412404 view 388657 view 160015 view 151061 view 90487 view 100393 view 272733 view 238394 view 206937 view 278363 view 163778 view 303349 view 184626 view 458637 view 186702 addtocart 48030 view 197709 view 268113 view 156468 view 106744 view 20092 view 112277 view 238321 view 78915 view 93894 view 29196 view 58086 view 399531 view 83882 view 14428 view 455842 view 324290 view 122496 view 169842 view 44591 view 297197 view 318897 view 411572 view 451806 view 221290 view 283263 view 257420 view 114913 view 312060 view 426635 transaction 436694 view 83103 view 307428 view 307981 view 168360 view 396575 view 69533 view 71380 view 5143 view 4117 view 340921 view 462862 view 32499 view 338148 view 432409 view 308779 view 70940 view 101652 view 269088 view 426174 view 119586 view 179813 view 446522 view 407058 view 357054 view 265113 view 365512 view 266900 transaction 869 view 281212 view 190745 view 303178 view 400077 view 375107 view 224182 view 46130 view 392583 view 317356 transaction 303833 view 94437 view 283283 view 301984 view 282528 view 97436 view 92226 view 356024 view 114879 view 439963 view 112917 transaction 190172 view 443865 view 69799 view 145403 view 8638 view 195423 view 387780 view 248512 view 454393 view 380527 view 257748 view 138827 view 111218 view 72118 view 321089 view 104254 view 192245 transaction 377018 view 305077 transaction 210984 view 455164 view 454784 view 112674 transaction 235880 transaction 116968 view 257308 view 63489 view 370838 view 449912 view 172257 view 109663 view 33421 addtocart 22544 transaction 64834 view 366163 view 29771 view 171814 view 48141 addtocart 63899 transaction 192491 view 417927 view 105870 view 242314 transaction 8347 transaction 171611 view 449489 transaction 117677 view 441953 view 160272 view 11663 view 281717 addtocart 273754 transaction 219550 transaction 169003 transaction 58638 view 291893 view 139243 view 80435 view 403969 transaction 37254 transaction 94019 transaction 230376 addtocart 116624 view 280375 view 294807 transaction 124827 view 267872 view 56872 transaction 390934 transaction 429452 transaction 171936 transaction 113440 transaction 325508 transaction 6692 view 460188 view 166691 view 181045 view 280888 transaction 127631 transaction 461520 view 163689 view 404265 transaction 343861 view 330090 view 277271 view 199732 transaction 355099 view 273936 view 299222 view 240871 view 6908 view 89766 view 27628 view 330713 view 313722 view 8023 transaction 99611 view 365015 view 249657 view 217548 transaction 217935 view 289096 view 98051 view 339808 view 278208 view 273762 view 229297 view 301524 view 242967 view 109445 view 396303 view 291416 view 183313 view 18726 view 224586 view 312728 view 248063 view 109615 view 86759 view 57267 view 22257 view 234222 view 464731 view 301020 view 111530 view 319092 transaction 337196 transaction 75597 view 357008 transaction 438338 view 60323 view 461702 view 266172 view 420463 view 108618 view 357659 transaction 157437 transaction 114121 view 154553 view 448220 transaction 175100 view 173253 view 241752 transaction 45628 view 70303 view 221761 view 192090 view 387747 view 126236 transaction 32450 view 27926 view 116155 view 303520 view 45190 view 26423 view 148788 transaction 132507 view 449280 transaction 4537 view 455937 view 328426 transaction 148790 transaction 259292 view 169344 transaction 56441 view 216044 view 62549 view 69207 view 4740 view 232917 view 101288 view 346223 view 183107 view 168717 view 426520 view 326766 transaction 184756 view 455978 transaction 56782 transaction 126623 view 107686 view 226016 transaction 359109 view 134762 transaction 108021 transaction 204494 transaction 120471 view 63727 view 69247 view 91727 transaction 193518 transaction 451027 transaction 23568 view 229176 transaction 284045 transaction 245168 view 275517 transaction 166306 transaction 450082 transaction 250942 transaction 58726 view 313342 transaction 176231 view 33993 view 146954 view 238192 view 420162 view 85832 view 154704 transaction 361496 transaction 210026 view 447215 transaction 160949 view 186260 transaction 318750 view 81766 view 175356 view 212672 view 184465 view 149041 view 23347 view 448507 view 373805 view 176661 view 171935 transaction 420960 transaction 391484 view 227245 view 121489 view 103960 view 428556 transaction 4067 view 279757 view 181299 view 461093 transaction 64749 view 350629 view 414965 view 93680 view 136987 addtocart 27020 transaction 66424 view 183417 view 149382 view 391289 view 168063 view 138931 view 14547 view 33775 transaction 349284 transaction 110517 transaction 213785 view 242905 transaction 436034 view 93493 view 85680 view 371390 view 286939 view 220003 transaction 107025 transaction 360877 view 79378 view 275559 transaction 10040 view 187129 view 278893 view 204508 transaction 450641 transaction 9759 transaction 345308 view 71594 transaction 299517 view 138114 transaction 272438 view 310514 view 419825 view 10107 transaction 454422 view 303828 view 382130 view 388673 view 440560 transaction 270525 view 392020 view 459237 view 30117 view 359300 view 438885 transaction 345743 view 427107 view 16063 view 386788 view 75994 transaction 354585 view 203818 view 200802 transaction 277362 view 119384 view 45148 view 237704 view 202534 view 310764 view 228392 view 323261 view 89087 view 22926 view 452194 addtocart 270529 view 112782 transaction 142819 view 336760 transaction 6720 view 352788 view 340200 view 446815 transaction 127688 view 279950 transaction 239377 view 124721 view 71286 transaction 360200 transaction 417559 view 297858 addtocart 345156 view 211749 transaction 44465 view 44631 view 217946 view 54172 view 61893 view 174537 view 146471 view 291901 view 409017 view 314392 view 91206 view 97139 view 16813 view 264604 view 447661 view 299817 view 103900 view 425270 view 368841 view 88129 view 235902 view 395487 transaction 268081 view 337286 view 85655 view 390295 view 334432 view 239750 view 355464 view 296303 view 247324 view 545 view 456000 transaction 152443 view 242152 view 235720 view 357350 view 379911 view 300231 view 18287 view 13556 view 293359 view 112146 view 436666 view 235411 view 126572 view 461583 view 276821 transaction 232725 view 171771 view 25298 view 465522 view 169341 view 213647 view 61500 view 315877 view 402312 view 172309 view 189764 view 345287 view 78265 view 130500 view 45782 transaction 332629 view 134255 view 429765 view 124366 view 399192 view 92178 transaction 118780 view 141846 transaction 301843 transaction 284463 transaction 213834 view 223985 addtocart 449559 addtocart 463002 view 249228 view 418390 transaction 401285 transaction 244534 transaction 37609 view 207802 transaction 99610 view 261558 view 120843 view 46418 view 2810 addtocart 403660 view 218277 view 276350 view 422671 view 207218 view 369586 view 394592 view 65647 view 70317 view 288340 transaction 315543 view 175799 transaction 351975 transaction 278100 transaction 368403 view 145730 view 161785 view 347247 view 79748 transaction 413460 view 288402 view 81685 addtocart 320788 view 253033 view 42328 view 172282 view 357844 view 421090 view 93020 view 388689 view 43322 view 385921 view 206100 view 354714 view 257254 view 134806 view 433403 view 218339 view 311464 view 422827 view 435618 view 46156 view 302329 view 311341 view 69079 view 125071 view 14644 view 333219 view 457135 view 112129 view 250212 view 189339 view 333039 view 179547 view 10572 view 229928 view 453192 view 115967 transaction 441852 view 437106 view 325765 view 386502 view 279972 view 333518 view 63102 view 120114 view 65719 view 74833 view 247167 view 46924 view 13925 view 390799 view 398489 view 176379 view 339070 view 209752 view 106741 view 310702 view 257412 view 246362 view 334920 transaction 62737 view 10594 view 413602 view 89076 view 454183 view 330175 view 315545 view 87856 view 261167 view 17698 view 300878 view 272263 view 90910 view 131270 view 224187 view 283405 view 215063 view 287557 view 228075 view 273104 view 20981 view 221897 transaction 37760 view 107020 view 380815 transaction 257062 transaction 47334 transaction 384470 view 720 transaction 67614 view 130776 view 346892 view 17798 view 445351 transaction 162565 view 448044 view 405992 view 339094 view 207430 view 241274 view 291154 view 386476 view 254418 view 79956 addtocart 192251 transaction 418560 view 207344 transaction 55251 view 357212 addtocart 7777 view 465431 transaction 104634 transaction 247601 view 62753 addtocart 109474 addtocart 246411 view 395482 view 340825 view 105726 view 441814 view 57577 view 334376 view 148090 view 308504 view 46391 view 393732 view 205843 view 45140 view 178305 view 289976 view 32102 view 183435 view 245342 transaction 56269 transaction 305010 view 393509 view 334481 view 354300 view 44800 view 1786 view 308510 view 223644 view 425607 view 288342 view 338125 view 44531 view 423324 view 43447 view 334975 view 43856 view 291877 view 29100 view 278341 view 25375 transaction 319797 transaction 239774 view 198105 transaction 81473 transaction 240534 view 185237 view 349876 view 161703 view 191049 view 351798 view 98341 view 367032 view 45882 view 266832 view 398883 view 344902 view 363285 view 327150 view 371965 view 363663 view 103522 transaction 32164 view 377567 view 315237 view 164082 view 181647 view 114866 view 362480 transaction 41963 view 38529 view 82451 view 460261 view 336201 view 303161 view 252780 view 83743 view 366588 view 303564 view 214895 view 388584 view 363258 view 378517 transaction 217712 view 402871 view 130628 view 91854 view 321129 view 163287 view 162652 transaction 36620 view 331884 view 69537 view 86282 view 102797 view 398004 view 186545 view 89356 view 259680 view 146936 view 244506 transaction 424506 view 235047 view 145514 view 464649 view 37845 view 173026 view 27494 view 376901 view 338630 view 373836 view 87081 view 289160 view 448453 view 367900 view 159822 transaction 65941 view 101698 view 355200 view 159430 view 188395 view 302274 view 208869 addtocart 384302 view 303845 transaction 318421 transaction 263765 view 207178 view 21163 view 291728 view 232780 transaction 34220 view 314397 view 429307 view 59122 view 174882 view 149724 view 83126 view 396736 view 446861 view 56505 view 44539 view 282820 view 122449 addtocart 262105 view 34169 view 167237 view 152627 view 273649 view 347530 view 382191 view 125904 view 190594 view 431694 view 290146 view 115328 view 437158 view 372941 view 252541 view 225572 view 85377 view 76196 view 307941 view 237422 transaction 221614 transaction 436344 transaction 310944 view 380313 view 428118 view 243795 view 444575 view 386635 view 76426 view 144102 transaction 375450 view 378901 view 209734 view 415263 view 550 view 1879 view 69783 view 34127 view 455240 view 143622 view 437371 view 17379 view 82576 view 83830 view 22839 view 106010 view 142143 view 84629 addtocart 20968 addtocart 445676 view 202825 view 432779 view 312445 view 273299 view 345448 view 352559 view 135388 view 459990 view 466152 view 195573 view 89202 view 374271 addtocart 326173 transaction 1976 view 305634 view 415640 view 422044 view 182523 view 415976 view 345279 view 24576 view 121875 view 350045 view 422494 transaction 352634 view 348495 view 25917 view 342345 view 104848 view 110151 view 129299 transaction 5675 view 196516 view 347641 view 241940 view 31768 view 367690 view 206966 view 246589 view 45840 view 408043 view 297619 view 180288 view 124 view 90036 view 372394 view 402831 view 348196 view 339545 view 384603 view 337170 view 253615 addtocart 97661 transaction 457045 view 10384 transaction 19833 view 278872 view 385148 view 159127 view 236302 view 296579 view 362868 transaction 184973 view 285221 view 459374 view 203444 view 229382 view 117338 view 87336 view 17163 view 411486 view 86761 view 207907 view 380810 view 59772 view 136745 view 87950 view 116721 view 378289 view 104468 view 245530 view 219873 view 383416 view 74984 view 214820 view 298860 view 141035 view 362969 view 138290 view 78144 view 277390 view 275625 addtocart 355546 transaction 428554 view 325295 transaction 124214 transaction 100282 view 15543 transaction 52371 view 144958 view 32823 transaction 368788 view 338411 transaction 285400 view 131611 view 381436 view 230605 view 116675 transaction 73311 transaction 72944 view 27995 transaction 190416 view 150215 view 405889 view 383785 view 176162 view 315513 view 373944 transaction 246090 transaction 418606 view 140887 view 429721 view 290402 transaction 212006 view 135706 transaction 415160 view 245994 view 115923 view 237763 view 147770 view 312057 view 402448 view 189265 view 289103 view 395596 view 93001 view 397919 view 36965 view 441907 view 239006 view 215462 view 386370 view 267051 view 465565 view 267232 view 228899 view 209125 view 365666 transaction 18626 transaction 170894 view 55684 transaction 24154 view 304281 view 375773 view 26145 view 108220 view 107135 view 367623 view 158456 view 222422 view 128745 view 49257 transaction 221900 view 334705 view 92361 view 5470 view 71733 addtocart 419980 view 350960 view 43725 view 394217 view 2455 view 62442 view 142278 view 241391 view 2008 transaction 199026 view 382552 view 122941 transaction 179601 view 173138 view 222196 view 206673 view 201849 view 42212 view 356696 view 64052 view 220970 transaction 187549 view 380424 view 194544 view 407489 view 2104 view 293587 view 36013 transaction 293735 view 261881 view 194151 view 69758 view 246117 view 160830 view 256769 view 332691 view 57060 view 245471 view 177516 view 302559 view 348154 view 320537 view 184199 transaction 458608 view 217605 view 461765 view 40864 view 358348 view 191063 view 445533 view 357978 view 286731 view 25662 view 38457 addtocart 279585 view 164820 view 85650 view 133638 addtocart 32581 transaction 546 transaction 248455 transaction 127722 view 234215 view 26102 transaction 273980 view 223355 transaction 98498 view 17766 view 125937 view 394931 transaction 386704 view 237817 view 318392 transaction 13417 view 231907 transaction 89775 view 203368 view 260194 view 21087 transaction 148446 view 197872 transaction 464315 transaction 114070 view 274119 view 265872 view 339703 view 331910 view 113042 view 218449 view 389682 transaction 186900 transaction 300314 view 231352 transaction 357132 transaction 357854 transaction 95447 view 379551 view 254477 transaction 258148 view 192654 transaction 176869 view 216008 transaction 368060 transaction 295537 view 244587 view 359990 view 361644 view 146981 transaction 117699 view 197270 view 390206 view 214277 view 114837 view 163998 view 300766 transaction 400998 view 420637 view 178163 transaction 449118 transaction 188754 transaction 175610 transaction 225329 addtocart 130371 transaction 361591 view 281643 view 298422 view 164325 view 299995 transaction 272324 view 137440 view 413639 transaction 383341 view 60159 transaction 8122 view 6848 view 193408 view 427128 transaction 164429 view 135593 view 357650 view 424193 view 10885 view 424899 transaction 228644 view 365784 view 450930 transaction 197642 addtocart 98665 addtocart 332018 view 110646 view 384415 view 37378 view 267505 view 219512 view 65633 view 377500 view 324195 view 420631 view 120763 view 153000 view 142928 view 16158 view 382610 view 297721 view 19547 view 89641 view 30383 view 37029 view 152052 transaction 340794 view 443296 view 240470 view 322477 view 346597 view 373581 view 216293 view 24855 view 258970 view 392661 view 387035 view 239529 view 326418 view 305243 transaction 448690 view 136418 view 65118 transaction 449582 view 82229 view 347812 view 103242 view 249829 view 351074 view 379534 view 163090 view 190293 addtocart 224700 view 413416 transaction 40712 view 105815 view 394994 view 258859 view 185535 view 365486 view 11131 view 103788 view 149319 view 409100 view 53462 view 266072 view 51360 view 84310 view 454818 view 234255 view 203531 view 261663 view 293262 view 275937 view 216019 view 92466 view 170347 view 180876 view 420028 view 389764 view 152100 view 269358 view 339033 transaction 409804 view 227331 view 406412 view 173064 view 225003 view 427703 view 241555 view 447673 view 215704 view 416974 view 173065 view 441975 transaction 296536 view 88779 view 34392 view 389135 view 460187 view 389849 view 140486 view 300906 view 373637 view 99574 view 227321 view 303358 transaction 388119 view 4437 view 220482 view 364750 view 457447 view 81981 view 139207 view 110529 view 277689 view 190000 view 118446 view 351027 view 404258 view 332507 view 134620 view 460751 addtocart 334476 view 307828 view 380237 view 444763 view 206317 transaction 38272 view 147005 view 286220 transaction 88594 transaction 435234 view 249854 view 422905 view 175246 view 27442 view 277507 transaction 261520 view 438484 view 173313 view 113855 view 218126 view 226567 view 8229 view 124982 addtocart 428046 view 132893 view 369112 view 204790 view 393055 view 132853 view 360809 addtocart 136576 view 427357 view 191973 view 416170 view 273041 transaction 322489 transaction 79877 transaction 154485 view 441852 transaction 399192 view 89860 view 147005 view 288975 view 199577 view 400998 view 137612 view 300766 addtocart 173491 addtocart 138314 view 146658 addtocart 371724 transaction 445456 view 361850 addtocart 79524 transaction 202171 addtocart 226270 view 336121 transaction 254101 view 276559 transaction 126307 transaction 227814 view 428412 view 80554 view 77117 view 344902 view 421529 transaction 230757 transaction 22926 transaction 175885 view 463766 view 184199 transaction 342530 transaction 294242 transaction 210896 view 30391 view 414895 view 51556 transaction 199394 view 190076 transaction 87513 transaction 213834 view 130815 view 303142 view 164324 addtocart 324833 view 339976 view 363210 view 367032 transaction 272907 view 128950 transaction 6913 view 69167 view 159956 view 141025 view 67423 view 430868 transaction 268336 addtocart 321293 view 351435 view 143866 view 68454 view 459374 view 362868 view 340380 view 87090 view 92271 view 55544 addtocart 322190 view 466135 transaction 222196 view 66016 view 6805 view 417498 view 465231 transaction 255285 view 224079 transaction 253615 view 42626 view 397068 view 240534 view 365666 view 351798 view 52800 transaction 257856 transaction 214617 transaction 178797 transaction 64881 transaction 219512 addtocart 365043 addtocart 93558 view 338411 view 450930 view 318420 view 398883 view 130628 transaction 114342 transaction 146081 view 60052 addtocart 370615 view 184826 view 85655 view 358306 view 203444 view 116252 addtocart 441668 transaction 325652 view 340154 view 382437 view 182642 view 442423 view 100851 view 318294 view 161059 view 348154 view 208000 view 144102 view 122449 view 33087 transaction 164828 transaction 120098 view 295537 view 344616 addtocart 25375 view 217278 view 37063 transaction 71836 view 248127 view 278272 view 83882 view 178274 view 235771 view 85943 view 331920 view 210975 view 123176 addtocart 458475 view 407486 view 199101 view 20416 view 457410 view 315689 view 169787 view 88129 view 461702 transaction 1684 view 382419 transaction 130709 view 204892 transaction 29220 view 269916 view 429907 view 307443 transaction 61705 view 283510 transaction 38965 view 25742 view 62641 view 23762 transaction 360825 view 222957 transaction 546 view 252344 transaction 248455 view 393509 view 123664 view 255689 view 454784 transaction 190000 view 110529 transaction 19484 view 72944 view 133968 view 136524 transaction 262186 view 399022 transaction 312276 view 4613 view 163848 view 182157 view 393123 transaction 130865 transaction 76477 view 133814 view 345869 view 285221 view 327150 view 425607 view 363285 view 288342 view 207178 view 201849 view 116514 view 42212 view 394229 view 60138 view 323328 view 44531 view 337136 view 239810 view 334975 view 101006 view 132234 view 55395 view 194544 view 2104 view 220970 view 103973 view 380424 view 190095 view 22161 view 79310 view 143622 view 155214 transaction 197422 view 192654 addtocart 363538 view 357844 view 446206 view 86555 view 304281 view 353334 view 407489 view 106721 view 58775 view 293587 view 94014 view 229382 transaction 344446 view 103645 view 222422 transaction 183814 view 109663 view 99956 view 429595 view 296303 transaction 56303 view 369619 view 302274 view 415976 view 146936 view 428272 view 399730 view 267232 view 116737 transaction 242035 view 149385 view 308561 view 257254 view 462461 view 379534 view 105338 view 242152 transaction 236266 view 207337 view 429704 view 283263 view 201389 view 215976 view 203728 view 413067 view 348839 view 167237 view 43475 view 287090 view 423459 view 101034 view 264456 view 417230 transaction 368328 view 110030 view 462033 view 218387 view 75597 view 457847 view 386724 view 192262 view 430102 view 344848 view 395969 transaction 281281 view 127537 view 156811 addtocart 266900 view 156667 transaction 172063 view 465751 view 41592 view 115590 view 226669 view 208990 view 21163 view 381279 view 108220 view 275625 view 188770 view 88904 view 408203 view 337327 view 237952 view 80503 transaction 37068 view 55264 view 75477 view 88446 view 136987 transaction 27020 transaction 420960 transaction 257655 transaction 11279 view 257718 view 346892 view 205768 view 219873 view 309173 view 268972 view 49558 view 391289 view 375855 view 123964 view 271019 view 386635 view 338125 view 110376 view 333191 view 216271 view 50649 transaction 204057 view 41281 view 33912 view 407286 view 123127 view 227869 transaction 132187 view 332224 view 383087 transaction 60966 view 2455 view 435047 view 433423 view 184894 view 441068 addtocart 259009 view 97073 view 188117 view 214415 view 416988 transaction 230911 transaction 396445 transaction 461093 view 75994 view 219660 view 232462 view 400093 view 16344 view 447661 view 119267 view 215363 view 368743 view 89202 view 141084 view 323718 view 145159 view 372855 view 57810 view 200180 view 115754 view 273041 view 31640 view 119736 view 241555 view 119298 view 406021 view 94437 view 326314 view 211243 view 449435 view 218211 view 136523 view 74264 view 168661 view 122500 view 358428 view 342330 view 23247 view 28284 view 74799 view 223829 view 10934 view 403564 view 312129 view 80661 view 391049 view 135282 addtocart 170671 view 260581 view 148666 view 374092 view 364265 view 89323 view 460187 view 406171 view 315309 view 294438 view 102209 view 270013 view 8651 view 91888 view 389158 view 275937 view 234463 view 24297 view 461199 view 456056 view 335641 view 202762 view 118914 view 448690 view 369158 view 398489 view 137932 view 256432 view 236158 view 178358 view 32402 view 324963 view 308438 view 25 view 250369 view 219718 view 263741 view 29605 view 303715 view 308053 view 324079 view 334094 view 278216 view 259487 view 229912 view 212438 transaction 310944 transaction 352723 view 323175 view 246589 view 163133 view 348495 view 271911 view 113635 view 75138 view 246850 addtocart 99268 view 374429 view 263258 view 97565 view 324718 view 20208 view 90748 view 448738 view 88910 view 149452 view 155485 view 159884 transaction 153574 transaction 391952 transaction 104634 view 183758 view 385678 transaction 241940 transaction 338794 view 186702 transaction 408172 transaction 123541 view 88425 view 240248 view 226776 view 456166 view 378901 transaction 461686 transaction 279257 transaction 50648 view 449819 view 171543 transaction 127751 view 147879 view 392583 addtocart 82043 view 282569 view 64728 transaction 294284 view 271801 view 452727 view 127289 view 119966 view 333792 view 158829 addtocart 9877 view 325310 view 108992 view 296901 view 129155 view 231482 view 222326 view 429226 view 45420 view 128239 view 223644 view 73732 view 322973 view 417418 addtocart 19976 view 71640 view 317555 view 110412 view 358060 view 146163 addtocart 171959 view 258828 view 341780 view 352577 view 266512 view 256050 view 337286 transaction 338461 view 52962 view 277490 view 345279 view 158515 view 161427 transaction 245158 transaction 236385 transaction 66648 view 324804 transaction 320130 transaction 355752 transaction 137305 view 13092 view 288846 view 290584 transaction 192931 view 49013 view 115057 view 299434 view 358064 view 285608 view 162501 transaction 263182 transaction 353373 view 372420 view 405232 view 152627 view 296211 view 183087 view 429463 transaction 37976 transaction 448044 view 385921 view 237817 view 63435 view 233507 view 374101 view 194356 view 96598 view 455694 view 297765 view 31980 view 390645 view 418609 addtocart 176484 transaction 18265 view 350764 view 228731 view 316351 view 2980 view 359306 view 276649 view 77143 view 446411 view 130828 view 283919 view 352559 view 457007 view 374896 view 241391 transaction 454818 view 460420 transaction 308510 view 318006 view 233084 view 71754 view 294325 view 21320 transaction 283923 view 106741 view 316753 view 5677 view 163689 view 38122 view 99574 view 444365 view 334401 view 299222 view 32937 view 420518 view 356339 transaction 452361 view 7943 view 223003 view 431276 view 120990 view 329133 view 311200 view 74759 view 44329 view 345156 view 377008 view 129643 view 345086 view 368314 view 459475 view 138982 view 166106 view 361463 view 381766 view 77573 view 152120 view 171427 view 198784 view 298560 view 252767 view 54046 view 8259 view 138758 view 239006 view 260539 view 129010 view 336855 view 377635 view 256706 view 261881 view 369933 view 29825 view 71733 view 441814 view 453411 view 355155 view 422494 view 215308 view 362457 view 36497 view 203877 view 8523 view 393691 view 85447 view 319723 view 356475 transaction 354153 view 312781 view 344071 view 274804 view 457018 view 44888 view 305713 view 332371 view 314553 view 14288 addtocart 57841 view 10697 view 171586 view 274746 view 23660 view 133157 view 161967 view 422356 view 24795 view 199899 view 72911 view 236949 view 235559 view 351530 view 73313 view 20968 view 179705 view 420731 view 307363 view 238394 view 32832 transaction 259243 transaction 423248 transaction 93831 view 303178 view 84452 view 396930 view 340158 view 325583 view 362851 addtocart 89142 transaction 183511 transaction 130800 view 439424 addtocart 429753 view 48704 view 17108 view 131387 view 410995 view 419468 view 42 addtocart 261979 view 424996 transaction 26086 view 195095 transaction 445676 view 103522 view 144236 view 298255 view 57301 view 55955 view 275609 view 45175 view 191049 view 439371 view 17323 transaction 94952 view 73134 view 30982 view 128296 transaction 308273 view 362073 view 265920 view 465565 view 446110 view 322810 view 102026 view 49676 view 405729 view 48184 view 354479 transaction 153708 view 453195 view 414428 view 266843 view 151945 view 67328 view 68814 view 420666 view 341179 view 175058 view 302559 view 138949 view 64052 view 122704 view 185221 view 28944 view 141041 view 397371 view 304474 view 237524 view 121530 view 276948 view 21947 view 310886 view 69758 view 117493 view 50180 view 316472 view 12057 transaction 334536 addtocart 458946 addtocart 10864 view 140730 view 312904 view 136316 view 66752 view 131385 view 10572 view 151061 view 56323 addtocart 65273 view 323455 view 430300 view 34949 view 321129 view 227239 view 45882 view 346650 view 450404 view 463635 view 283896 view 74926 view 188158 view 82451 view 100031 view 30117 view 116334 view 211749 view 303161 view 61893 view 303520 view 409017 view 148788 view 307410 view 38529 view 326766 view 359300 view 155400 view 443295 view 318941 view 358180 view 107651 view 121553 view 297565 view 41942 view 252239 view 363109 view 328426 view 367690 view 123793 transaction 104864 view 155188 view 262920 view 74296 view 449391 view 140803 transaction 384212 view 305426 addtocart 118752 view 119383 view 85548 view 76617 view 159792 view 318897 view 102471 view 148446 view 372664 view 2567 view 48477 view 122931 view 301525 view 392146 view 12217 view 260881 view 58123 view 165817 view 406864 view 378593 view 441535 view 51650 view 460924 view 426958 view 279280 view 55430 view 212589 view 325623 view 46671 view 297053 view 252566 transaction 188390 view 69537 view 286722 view 372394 view 305634 view 367616 view 456000 transaction 196540 view 417719 view 53005 view 445533 view 105726 view 119551 view 55049 view 324543 view 442286 view 290197 view 276212 view 380212 view 161205 view 168358 view 88536 view 28501 view 425593 view 222656 view 175337 view 19677 view 210223 view 172277 view 181523 view 205843 view 447397 transaction 314062 view 202469 view 319680 view 26747 view 10034 view 465522 view 273299 view 95448 view 356421 view 407785 view 399700 view 152376 view 462808 view 91755 view 242905 view 208869 view 441953 view 241149 view 157492 view 268335 view 319992 view 192227 view 158769 view 305656 view 169666 view 424899 view 288249 view 151615 view 441248 view 141480 view 89044 addtocart 96233 transaction 268604 view 49692 addtocart 42554 view 82143 transaction 174815 view 377886 view 20158 view 306380 view 403445 view 183068 view 201418 view 267871 view 232824 view 130094 view 302311 view 368488 view 279585 transaction 216293 transaction 152433 view 13852 view 162239 view 108659 view 37554 addtocart 257040 view 31019 view 128473 transaction 296375 view 280888 view 64951 view 84310 view 234255 view 323735 view 298056 view 138546 view 296098 view 424193 view 166306 view 456005 transaction 140055 transaction 35287 view 56506 view 19873 view 261013 addtocart 270383 transaction 126332 view 102618 view 304154 view 13031 view 89247 view 147014 view 287496 view 93720 view 276245 view 112527 view 157705 view 436450 view 360905 transaction 29196 view 200892 view 243795 view 272827 view 204790 view 324235 view 256242 view 371155 view 177757 view 346912 view 34220 transaction 415810 view 131460 transaction 255469 transaction 364203 transaction 390380 transaction 109638 view 240160 view 195553 view 381613 transaction 57577 view 190732 view 293279 transaction 166122 transaction 354982 view 37114 transaction 29167 transaction 272152 transaction 138427 transaction 244541 view 285411 view 325852 view 10291 view 77737 view 81645 view 114024 view 167501 view 284848 view 338096 view 334601 view 62275 view 85680 view 463478 view 463617 view 157187 transaction 299044 addtocart 337671 view 435618 transaction 384302 transaction 299384 view 67926 transaction 176363 view 13298 view 55759 view 201871 transaction 25515 view 58693 view 150519 view 197642 view 63543 view 358385 view 83366 view 394974 view 224832 transaction 222164 view 192674 view 458109 view 406714 transaction 301602 transaction 291964 transaction 273872 transaction 240558 transaction 31098 transaction 80858 view 8588 view 381659 view 167162 view 61840 view 253425 view 29871 view 397865 view 377863 view 373665 transaction 415562 view 174506 transaction 348659 transaction 139845 view 155181 transaction 67434 transaction 97437 view 446820 view 426751 view 14183 transaction 336319 view 334705 transaction 34386 view 400492 transaction 462643 view 171031 view 462188 transaction 450950 transaction 720 view 187691 view 309042 view 317978 view 394315 view 13169 view 95042 view 361856 view 144936 addtocart 65455 transaction 39854 view 309665 view 75764 view 92765 view 89775 view 1538 view 67811 view 305276 view 380303 view 246818 view 430560 view 74438 view 447356 view 155566 view 302142 view 368689 view 324508 view 309336 view 454514 view 57060 view 195083 view 25680 transaction 444741 transaction 172894 transaction 398907 view 234745 view 431344 view 446913 view 421739 view 139603 view 351857 view 291202 transaction 40359 view 58627 view 3902 view 278679 addtocart 56100 view 350629 view 384985 view 108343 view 128118 view 79056 view 31952 view 447890 view 167543 view 300162 view 25762 view 441415 view 444531 view 340375 view 339356 view 228644 view 210408 view 432842 transaction 419761 transaction 377888 transaction 68128 view 163350 transaction 303637 view 341482 transaction 465824 view 321521 view 157223 view 167540 view 376564 view 398728 view 417759 view 404588 view 247356 view 168097 view 125751 view 170195 view 83314 view 344850 view 214271 view 106216 transaction 120822 view 28867 view 184756 view 309493 view 332724 transaction 208450 view 28054 view 220003 view 431447 view 146059 view 312728 view 78172 view 106305 view 245651 view 67481 view 194562 view 175246 addtocart 150550 view 148580 view 387164 view 315387 view 82586 view 252991 view 218130 view 63294 view 338879 view 338395 view 312513 view 281967 view 150215 view 46300 view 314942 view 157121 view 161698 view 88432 view 458919 view 455275 view 319900 view 419080 view 461325 view 34560 view 352072 view 377981 addtocart 413310 view 46938 view 219886 view 387782 view 300431 view 462394 view 32287 view 49466 view 288616 view 460625 view 323641 view 36368 view 159624 view 412813 view 377133 view 184217 view 417912 view 218817 view 44045 view 436677 view 37011 view 385857 view 274460 view 46130 view 384157 view 73617 view 46232 view 255600 view 367102 view 247326 view 396042 view 373842 view 234222 view 208939 view 108486 view 160904 view 287561 view 192452 view 438484 view 187848 view 403576 transaction 106454 view 194180 addtocart 131874 addtocart 408888 view 452147 view 445351 view 173313 view 76319 view 305010 view 301462 view 443378 view 366203 transaction 457970 view 417156 view 83556 view 259074 view 27875 view 285441 view 80173 view 325256 view 44986 view 144717 view 271020 view 180751 view 31605 view 355985 view 176505 view 253572 view 36184 view 373052 view 426031 view 146566 view 107983 view 277164 view 2711 view 158024 view 407403 view 157150 transaction 433759 view 25590 view 268020 view 427256 view 135000 view 122604 view 450111 addtocart 446448 transaction 173433 view 247868 addtocart 461190 transaction 69427 view 100199 view 137390 transaction 268755 view 334585 view 289103 transaction 451741 view 42210 addtocart 230807 transaction 464751 view 241853 view 99227 view 173589 view 296707 view 396697 transaction 464998 view 128751 view 247601 view 398115 view 153399 view 390712 view 70855 view 185305 view 123645 view 325706 view 24417 view 909 view 387432 view 410355 view 284080 view 428646 view 215010 view 210525 view 188051 addtocart 294666 view 366859 view 150302 transaction 215051 view 13747 view 245471 view 128329 view 366734 view 43215 view 395227 transaction 292136 view 243355 view 411934 view 214025 transaction 251945 addtocart 293110 view 224169 view 302964 view 177839 transaction 413834 view 103634 addtocart 126887 view 190536 transaction 372568 view 31900 view 226662 transaction 266553 transaction 227161 view 337446 view 161623 view 416850 transaction 282966 transaction 360831 transaction 114121 view 445780 view 346361 view 382483 transaction 283916 view 28016 view 460315 view 303845 view 148291 view 247324 view 245342 view 41673 view 338435 view 25027 view 463052 view 58676 view 465058 view 36464 view 165589 transaction 234390 view 317713 view 17698 view 257562 transaction 99187 view 295184 view 96489 view 23325 view 463118 view 363736 view 396890 transaction 283579 view 24728 view 425250 view 363258 view 180288 view 86348 transaction 408504 view 56630 view 260494 view 255732 view 299320 view 112917 view 75141 view 100159 view 424123 view 147307 view 405315 view 279332 view 289976 view 151387 view 123362 view 160830 view 449895 view 98341 view 256769 transaction 54982 view 183435 view 75552 view 334376 view 421971 view 386523 transaction 390984 view 288517 view 395167 view 254406 view 219755 view 129173 view 206973 view 321320 view 117338 view 414359 view 438885 view 298719 view 27766 view 100847 view 263980 view 73643 view 65703 view 320537 view 366588 view 418472 view 286940 view 240746 addtocart 452414 view 272324 view 277247 view 105227 view 421198 view 465428 view 455937 view 430197 view 314801 view 450301 view 91206 view 414755 view 434591 view 4482 view 48921 transaction 406025 transaction 338495 view 337358 view 139909 transaction 213102 view 4042 addtocart 338188 view 326974 view 137974 view 220445 view 267541 view 223392 view 277943 view 180896 view 301344 view 206880 view 270144 transaction 102255 view 373384 view 258621 view 207098 transaction 234192 view 364851 view 247059 view 236836 view 334004 transaction 319602 view 182785 addtocart 31058 view 198719 transaction 355169 transaction 70662 view 350103 view 73056 view 50901 view 61203 view 357474 view 131745 view 393028 view 259292 view 109116 view 213239 view 434009 view 315393 view 395435 view 441836 view 62502 view 165056 view 372913 view 254418 view 372002 addtocart 232325 view 244717 view 228287 view 352541 view 380810 view 20582 view 47586 view 243343 view 87187 view 98719 view 198171 view 155544 view 363831 view 37658 view 24509 view 460219 view 85914 view 36535 view 235639 view 207825 view 290999 transaction 359910 view 459325 view 19934 view 128146 view 117354 transaction 340825 view 425228 view 429752 addtocart 214420 transaction 99601 view 355393 transaction 406727 view 81453 view 113641 view 147555 view 366776 view 445017 view 386669 view 1590 view 299466 view 81998 view 218498 view 110012 view 205872 view 157621 view 25383 view 270534 '"
      ]
     },
     "execution_count": 97,
     "metadata": {},
     "output_type": "execute_result"
    }
   ],
   "source": [
    "rnn_df['tokenize_events'].loc[90097].iloc[-1]"
   ]
  },
  {
   "cell_type": "code",
   "execution_count": null,
   "metadata": {},
   "outputs": [],
   "source": [
    "from fastai.text import *\n",
    "\n",
    "class Model4(nn.Module):\n",
    "    def __init__(self):\n",
    "        super().__init__()\n",
    "        self.i_h = nn.Embedding(nv,nh)\n",
    "        self.rnn = nn.RNN(nh,nh, batch_first=True)\n",
    "        self.h_o = nn.Linear(nh,nv)\n",
    "        self.bn = BatchNorm1dFlat(nh)\n",
    "        self.h = torch.zeros(1, bs, nh).cuda()\n",
    "        \n",
    "    def forward(self, x):\n",
    "        res,h = self.rnn(self.i_h(x), self.h)\n",
    "        self.h = h.detach()\n",
    "        return self.h_o(self.bn(res))"
   ]
  },
  {
   "cell_type": "code",
   "execution_count": 48,
   "metadata": {
    "ExecuteTime": {
     "end_time": "2020-06-17T17:47:20.363500Z",
     "start_time": "2020-06-17T17:47:16.556678Z"
    }
   },
   "outputs": [
    {
     "name": "stdout",
     "output_type": "stream",
     "text": [
      "Collecting Keras\n",
      "\u001b[?25l  Downloading https://files.pythonhosted.org/packages/ad/fd/6bfe87920d7f4fd475acd28500a42482b6b84479832bdc0fe9e589a60ceb/Keras-2.3.1-py2.py3-none-any.whl (377kB)\n",
      "\u001b[K     |████████████████████████████████| 378kB 1.8MB/s eta 0:00:01\n",
      "\u001b[?25hRequirement already satisfied: keras-preprocessing>=1.0.5 in /anaconda3/lib/python3.7/site-packages (from Keras) (1.1.2)\n",
      "Requirement already satisfied: keras-applications>=1.0.6 in /anaconda3/lib/python3.7/site-packages (from Keras) (1.0.8)\n",
      "Requirement already satisfied: scipy>=0.14 in /anaconda3/lib/python3.7/site-packages (from Keras) (1.4.1)\n",
      "Requirement already satisfied: six>=1.9.0 in /anaconda3/lib/python3.7/site-packages (from Keras) (1.12.0)\n",
      "Requirement already satisfied: numpy>=1.9.1 in /anaconda3/lib/python3.7/site-packages (from Keras) (1.16.4)\n",
      "Requirement already satisfied: pyyaml in /anaconda3/lib/python3.7/site-packages (from Keras) (5.1.1)\n",
      "Requirement already satisfied: h5py in /anaconda3/lib/python3.7/site-packages (from Keras) (2.10.0)\n",
      "Installing collected packages: Keras\n",
      "Successfully installed Keras-2.3.1\n"
     ]
    }
   ],
   "source": [
    "!pip install Keras"
   ]
  },
  {
   "cell_type": "code",
   "execution_count": 112,
   "metadata": {
    "ExecuteTime": {
     "end_time": "2020-06-17T19:23:20.460678Z",
     "start_time": "2020-06-17T19:23:20.374303Z"
    }
   },
   "outputs": [],
   "source": [
    "from __future__ import print_function\n",
    "import numpy as np\n",
    "\n",
    "# method for generating text\n",
    "def generate_text(model, length, vocab_size, ix_to_char):\n",
    "    # starting wbith random character\n",
    "\tix = [np.random.randint(vocab_size)]\n",
    "\ty_char = [ix_to_char[ix[-1]]]\n",
    "\tX = np.zeros((1, length, vocab_size))\n",
    "\tfor i in range(length):\n",
    "\t\t# appending the last predicted character to sequence\n",
    "\t\tX[0, i, :][ix[-1]] = 1\n",
    "\t\tprint(ix_to_char[ix[-1]], end=\" \")\n",
    "\t\tix = np.argmax(model.predict(X[:, :i+1, :])[0], 1)\n",
    "\t\ty_char.append(ix_to_char[ix[-1]])\n",
    "\treturn (' ').join(y_char)\n",
    "\n",
    "# method for preparing the training data\n",
    "def load_data(data, seq_length):\n",
    "    chars = list(set(data))\n",
    "    VOCAB_SIZE = len(chars)\n",
    "# \tchars = combine_df.itemid.unique().tolist() + combine_df.event_id.unique().tolist()\n",
    "# \tVOCAB_SIZE = len(chars)\n",
    "\n",
    "    print('Vocabulary size: {} words'.format(VOCAB_SIZE))\n",
    "\n",
    "    ix_to_char = {ix:char for ix, char in enumerate(chars)}\n",
    "    char_to_ix = {char:ix for ix, char in enumerate(chars)}\n",
    "    \n",
    "    r = int(len(data)/seq_length)\n",
    "    X = np.zeros((r, seq_length, VOCAB_SIZE))\n",
    "    y = np.zeros((r, seq_length, VOCAB_SIZE))\n",
    "    for i in range(0, r):\n",
    "        X_sequence = data[i*seq_length:(i+1)*seq_length]\n",
    "        X_sequence_ix = [char_to_ix[value] for value in X_sequence]\n",
    "        input_sequence = np.zeros((seq_length, VOCAB_SIZE))\n",
    "        for j in range(seq_length):\n",
    "            input_sequence[j][X_sequence_ix[j]] = 1.\n",
    "            X[i] = input_sequence\n",
    "\n",
    "        y_sequence = data[i*seq_length+1:(i+1)*seq_length+1]\n",
    "        y_sequence_ix = [char_to_ix[value] for value in y_sequence]\n",
    "        target_sequence = np.zeros((seq_length, VOCAB_SIZE))\n",
    "        for j in range(seq_length):\n",
    "            try:\n",
    "                target_sequence[j][y_sequence_ix[j]] = 1.\n",
    "            except:\n",
    "                import pdb; pdb.set_trace()\n",
    "            y[i] = target_sequence\n",
    "    return X, y, VOCAB_SIZE, ix_to_char"
   ]
  },
  {
   "cell_type": "code",
   "execution_count": 113,
   "metadata": {
    "ExecuteTime": {
     "end_time": "2020-06-17T19:23:21.614562Z",
     "start_time": "2020-06-17T19:23:21.572209Z"
    }
   },
   "outputs": [],
   "source": [
    "from keras.models import Sequential\n",
    "from keras.layers.core import Dense, Activation, Dropout\n",
    "from keras.layers.recurrent import LSTM, SimpleRNN\n",
    "from keras.layers.wrappers import TimeDistributed"
   ]
  },
  {
   "cell_type": "code",
   "execution_count": 132,
   "metadata": {
    "ExecuteTime": {
     "end_time": "2020-06-17T19:33:59.134975Z",
     "start_time": "2020-06-17T19:33:58.974542Z"
    }
   },
   "outputs": [],
   "source": [
    "words = \"view 357133 addtocart 368244\"\n",
    "words = words.split()*1000\n",
    "words = words[:1001]"
   ]
  },
  {
   "cell_type": "code",
   "execution_count": 133,
   "metadata": {
    "ExecuteTime": {
     "end_time": "2020-06-17T19:34:05.026327Z",
     "start_time": "2020-06-17T19:34:02.408037Z"
    }
   },
   "outputs": [
    {
     "name": "stdout",
     "output_type": "stream",
     "text": [
      "Vocabulary size: 4 words\n",
      "368244 357133 "
     ]
    },
    {
     "data": {
      "text/plain": [
       "'368244 357133 357133'"
      ]
     },
     "execution_count": 133,
     "metadata": {},
     "output_type": "execute_result"
    }
   ],
   "source": [
    "HIDDEN_DIM = 4\n",
    "LAYER_NUM = 3\n",
    "generate_length = 2\n",
    "BATCH_SIZE = 32\n",
    "\n",
    "X, y, VOCAB_SIZE, ix_to_char = load_data(words,8)\n",
    "\n",
    "model = Sequential()\n",
    "model.add(LSTM(HIDDEN_DIM, input_shape=(None, VOCAB_SIZE), return_sequences=True))\n",
    "for i in range(LAYER_NUM - 1):\n",
    "    model.add(LSTM(HIDDEN_DIM, return_sequences=True))\n",
    "model.add(TimeDistributed(Dense(VOCAB_SIZE)))\n",
    "model.add(Activation('softmax'))\n",
    "model.compile(loss=\"categorical_crossentropy\", optimizer=\"rmsprop\")\n",
    "generate_text(model, generate_length, VOCAB_SIZE, ix_to_char)"
   ]
  },
  {
   "cell_type": "code",
   "execution_count": 134,
   "metadata": {
    "ExecuteTime": {
     "end_time": "2020-06-17T19:34:24.212836Z",
     "start_time": "2020-06-17T19:34:05.029680Z"
    }
   },
   "outputs": [
    {
     "name": "stdout",
     "output_type": "stream",
     "text": [
      "\n",
      "\n",
      "Epoch: 0\n",
      "\n"
     ]
    },
    {
     "name": "stderr",
     "output_type": "stream",
     "text": [
      "//anaconda3/lib/python3.7/site-packages/ipykernel_launcher.py:7: UserWarning: The `nb_epoch` argument in `fit` has been renamed `epochs`.\n",
      "  import sys\n"
     ]
    },
    {
     "name": "stdout",
     "output_type": "stream",
     "text": [
      "Epoch 1/300\n",
      "125/125 [==============================] - 2s 12ms/step - loss: 1.3865\n",
      "Epoch 2/300\n",
      "125/125 [==============================] - 0s 622us/step - loss: 1.3841\n",
      "Epoch 3/300\n",
      "125/125 [==============================] - 0s 502us/step - loss: 1.3819\n",
      "Epoch 4/300\n",
      "125/125 [==============================] - 0s 433us/step - loss: 1.3796\n",
      "Epoch 5/300\n",
      "125/125 [==============================] - 0s 453us/step - loss: 1.3771\n",
      "Epoch 6/300\n",
      "125/125 [==============================] - 0s 520us/step - loss: 1.3742\n",
      "Epoch 7/300\n",
      "125/125 [==============================] - 0s 420us/step - loss: 1.3712\n",
      "Epoch 8/300\n",
      "125/125 [==============================] - 0s 408us/step - loss: 1.3680\n",
      "Epoch 9/300\n",
      "125/125 [==============================] - 0s 375us/step - loss: 1.3646\n",
      "Epoch 10/300\n",
      "125/125 [==============================] - 0s 390us/step - loss: 1.3613\n",
      "Epoch 11/300\n",
      "125/125 [==============================] - 0s 388us/step - loss: 1.3580\n",
      "Epoch 12/300\n",
      "125/125 [==============================] - ETA: 0s - loss: 1.356 - 0s 401us/step - loss: 1.3549\n",
      "Epoch 13/300\n",
      "125/125 [==============================] - 0s 430us/step - loss: 1.3520\n",
      "Epoch 14/300\n",
      "125/125 [==============================] - 0s 422us/step - loss: 1.3495\n",
      "Epoch 15/300\n",
      "125/125 [==============================] - 0s 444us/step - loss: 1.3472\n",
      "Epoch 16/300\n",
      "125/125 [==============================] - 0s 441us/step - loss: 1.3451\n",
      "Epoch 17/300\n",
      "125/125 [==============================] - 0s 450us/step - loss: 1.3432\n",
      "Epoch 18/300\n",
      "125/125 [==============================] - 0s 444us/step - loss: 1.3413\n",
      "Epoch 19/300\n",
      "125/125 [==============================] - 0s 460us/step - loss: 1.3395\n",
      "Epoch 20/300\n",
      "125/125 [==============================] - 0s 405us/step - loss: 1.3376\n",
      "Epoch 21/300\n",
      "125/125 [==============================] - 0s 439us/step - loss: 1.3357\n",
      "Epoch 22/300\n",
      "125/125 [==============================] - 0s 447us/step - loss: 1.3338\n",
      "Epoch 23/300\n",
      "125/125 [==============================] - 0s 426us/step - loss: 1.3318\n",
      "Epoch 24/300\n",
      "125/125 [==============================] - 0s 475us/step - loss: 1.3298\n",
      "Epoch 25/300\n",
      "125/125 [==============================] - 0s 354us/step - loss: 1.3277\n",
      "Epoch 26/300\n",
      "125/125 [==============================] - 0s 454us/step - loss: 1.3255\n",
      "Epoch 27/300\n",
      "125/125 [==============================] - 0s 413us/step - loss: 1.3233\n",
      "Epoch 28/300\n",
      "125/125 [==============================] - 0s 559us/step - loss: 1.3211\n",
      "Epoch 29/300\n",
      "125/125 [==============================] - 0s 360us/step - loss: 1.3188\n",
      "Epoch 30/300\n",
      "125/125 [==============================] - 0s 393us/step - loss: 1.3164\n",
      "Epoch 31/300\n",
      "125/125 [==============================] - 0s 364us/step - loss: 1.3141\n",
      "Epoch 32/300\n",
      "125/125 [==============================] - 0s 480us/step - loss: 1.3116\n",
      "Epoch 33/300\n",
      "125/125 [==============================] - 0s 407us/step - loss: 1.3092\n",
      "Epoch 34/300\n",
      "125/125 [==============================] - 0s 361us/step - loss: 1.3067\n",
      "Epoch 35/300\n",
      "125/125 [==============================] - 0s 467us/step - loss: 1.3041\n",
      "Epoch 36/300\n",
      "125/125 [==============================] - 0s 390us/step - loss: 1.3017\n",
      "Epoch 37/300\n",
      "125/125 [==============================] - 0s 481us/step - loss: 1.2992\n",
      "Epoch 38/300\n",
      "125/125 [==============================] - 0s 408us/step - loss: 1.2967\n",
      "Epoch 39/300\n",
      "125/125 [==============================] - 0s 378us/step - loss: 1.2942\n",
      "Epoch 40/300\n",
      "125/125 [==============================] - 0s 385us/step - loss: 1.2918\n",
      "Epoch 41/300\n",
      "125/125 [==============================] - 0s 391us/step - loss: 1.2893\n",
      "Epoch 42/300\n",
      "125/125 [==============================] - 0s 425us/step - loss: 1.2869\n",
      "Epoch 43/300\n",
      "125/125 [==============================] - 0s 408us/step - loss: 1.2846\n",
      "Epoch 44/300\n",
      "125/125 [==============================] - 0s 394us/step - loss: 1.2822\n",
      "Epoch 45/300\n",
      "125/125 [==============================] - 0s 406us/step - loss: 1.2799\n",
      "Epoch 46/300\n",
      "125/125 [==============================] - 0s 431us/step - loss: 1.2776\n",
      "Epoch 47/300\n",
      "125/125 [==============================] - 0s 432us/step - loss: 1.2753\n",
      "Epoch 48/300\n",
      "125/125 [==============================] - 0s 425us/step - loss: 1.2731\n",
      "Epoch 49/300\n",
      "125/125 [==============================] - 0s 395us/step - loss: 1.2709\n",
      "Epoch 50/300\n",
      "125/125 [==============================] - 0s 384us/step - loss: 1.2687\n",
      "Epoch 51/300\n",
      "125/125 [==============================] - 0s 426us/step - loss: 1.2666\n",
      "Epoch 52/300\n",
      "125/125 [==============================] - 0s 426us/step - loss: 1.2645\n",
      "Epoch 53/300\n",
      "125/125 [==============================] - 0s 396us/step - loss: 1.2624\n",
      "Epoch 54/300\n",
      "125/125 [==============================] - 0s 392us/step - loss: 1.2604\n",
      "Epoch 55/300\n",
      "125/125 [==============================] - 0s 411us/step - loss: 1.2585\n",
      "Epoch 56/300\n",
      "125/125 [==============================] - 0s 594us/step - loss: 1.2565\n",
      "Epoch 57/300\n",
      "125/125 [==============================] - 0s 404us/step - loss: 1.2546\n",
      "Epoch 58/300\n",
      "125/125 [==============================] - 0s 385us/step - loss: 1.2527\n",
      "Epoch 59/300\n",
      "125/125 [==============================] - 0s 438us/step - loss: 1.2509\n",
      "Epoch 60/300\n",
      "125/125 [==============================] - 0s 426us/step - loss: 1.2490\n",
      "Epoch 61/300\n",
      "125/125 [==============================] - 0s 405us/step - loss: 1.2473\n",
      "Epoch 62/300\n",
      "125/125 [==============================] - 0s 396us/step - loss: 1.2455\n",
      "Epoch 63/300\n",
      "125/125 [==============================] - 0s 399us/step - loss: 1.2438\n",
      "Epoch 64/300\n",
      "125/125 [==============================] - 0s 381us/step - loss: 1.2421\n",
      "Epoch 65/300\n",
      "125/125 [==============================] - 0s 434us/step - loss: 1.2404\n",
      "Epoch 66/300\n",
      "125/125 [==============================] - 0s 428us/step - loss: 1.2388\n",
      "Epoch 67/300\n",
      "125/125 [==============================] - 0s 513us/step - loss: 1.2372\n",
      "Epoch 68/300\n",
      "125/125 [==============================] - 0s 442us/step - loss: 1.2356\n",
      "Epoch 69/300\n",
      "125/125 [==============================] - 0s 388us/step - loss: 1.2340\n",
      "Epoch 70/300\n",
      "125/125 [==============================] - 0s 362us/step - loss: 1.2324\n",
      "Epoch 71/300\n",
      "125/125 [==============================] - 0s 446us/step - loss: 1.2309\n",
      "Epoch 72/300\n",
      "125/125 [==============================] - 0s 429us/step - loss: 1.2294\n",
      "Epoch 73/300\n",
      "125/125 [==============================] - 0s 407us/step - loss: 1.2279\n",
      "Epoch 74/300\n",
      "125/125 [==============================] - 0s 414us/step - loss: 1.2264\n",
      "Epoch 75/300\n",
      "125/125 [==============================] - 0s 443us/step - loss: 1.2250\n",
      "Epoch 76/300\n",
      "125/125 [==============================] - 0s 427us/step - loss: 1.2235\n",
      "Epoch 77/300\n",
      "125/125 [==============================] - 0s 307us/step - loss: 1.2221\n",
      "Epoch 78/300\n",
      "125/125 [==============================] - 0s 343us/step - loss: 1.2207\n",
      "Epoch 79/300\n",
      "125/125 [==============================] - 0s 400us/step - loss: 1.2192\n",
      "Epoch 80/300\n",
      "125/125 [==============================] - 0s 369us/step - loss: 1.2178\n",
      "Epoch 81/300\n",
      "125/125 [==============================] - 0s 407us/step - loss: 1.2165\n",
      "Epoch 82/300\n",
      "125/125 [==============================] - 0s 398us/step - loss: 1.2151\n",
      "Epoch 83/300\n",
      "125/125 [==============================] - 0s 442us/step - loss: 1.2137\n",
      "Epoch 84/300\n",
      "125/125 [==============================] - 0s 470us/step - loss: 1.2124\n",
      "Epoch 85/300\n",
      "125/125 [==============================] - 0s 422us/step - loss: 1.2110\n",
      "Epoch 86/300\n",
      "125/125 [==============================] - 0s 451us/step - loss: 1.2097\n",
      "Epoch 87/300\n",
      "125/125 [==============================] - 0s 400us/step - loss: 1.2083\n",
      "Epoch 88/300\n",
      "125/125 [==============================] - 0s 456us/step - loss: 1.2070\n",
      "Epoch 89/300\n",
      "125/125 [==============================] - 0s 421us/step - loss: 1.2057\n",
      "Epoch 90/300\n",
      "125/125 [==============================] - 0s 444us/step - loss: 1.2044\n",
      "Epoch 91/300\n",
      "125/125 [==============================] - 0s 425us/step - loss: 1.2031\n",
      "Epoch 92/300\n",
      "125/125 [==============================] - 0s 408us/step - loss: 1.2018\n",
      "Epoch 93/300\n",
      "125/125 [==============================] - 0s 423us/step - loss: 1.2005\n",
      "Epoch 94/300\n",
      "125/125 [==============================] - 0s 426us/step - loss: 1.1992\n",
      "Epoch 95/300\n",
      "125/125 [==============================] - 0s 402us/step - loss: 1.1980\n",
      "Epoch 96/300\n",
      "125/125 [==============================] - 0s 404us/step - loss: 1.1967\n",
      "Epoch 97/300\n",
      "125/125 [==============================] - 0s 398us/step - loss: 1.1954\n",
      "Epoch 98/300\n",
      "125/125 [==============================] - 0s 427us/step - loss: 1.1942\n",
      "Epoch 99/300\n",
      "125/125 [==============================] - 0s 469us/step - loss: 1.1929\n",
      "Epoch 100/300\n",
      "125/125 [==============================] - 0s 463us/step - loss: 1.1917\n",
      "Epoch 101/300\n",
      "125/125 [==============================] - 0s 384us/step - loss: 1.1904\n",
      "Epoch 102/300\n",
      "125/125 [==============================] - 0s 430us/step - loss: 1.1892\n",
      "Epoch 103/300\n",
      "125/125 [==============================] - 0s 417us/step - loss: 1.1880\n",
      "Epoch 104/300\n",
      "125/125 [==============================] - 0s 380us/step - loss: 1.1868\n",
      "Epoch 105/300\n",
      "125/125 [==============================] - 0s 372us/step - loss: 1.1855\n",
      "Epoch 106/300\n",
      "125/125 [==============================] - 0s 404us/step - loss: 1.1843\n",
      "Epoch 107/300\n",
      "125/125 [==============================] - 0s 385us/step - loss: 1.1831\n",
      "Epoch 108/300\n",
      "125/125 [==============================] - 0s 461us/step - loss: 1.1819\n",
      "Epoch 109/300\n",
      "125/125 [==============================] - 0s 431us/step - loss: 1.1807\n",
      "Epoch 110/300\n",
      "125/125 [==============================] - 0s 460us/step - loss: 1.1795\n",
      "Epoch 111/300\n",
      "125/125 [==============================] - 0s 420us/step - loss: 1.1783\n",
      "Epoch 112/300\n",
      "125/125 [==============================] - 0s 439us/step - loss: 1.1771\n",
      "Epoch 113/300\n",
      "125/125 [==============================] - 0s 511us/step - loss: 1.1759\n",
      "Epoch 114/300\n",
      "125/125 [==============================] - 0s 446us/step - loss: 1.1747\n",
      "Epoch 115/300\n",
      "125/125 [==============================] - 0s 403us/step - loss: 1.1736\n",
      "Epoch 116/300\n",
      "125/125 [==============================] - 0s 440us/step - loss: 1.1724\n",
      "Epoch 117/300\n",
      "125/125 [==============================] - 0s 447us/step - loss: 1.1712\n",
      "Epoch 118/300\n",
      "125/125 [==============================] - 0s 511us/step - loss: 1.1700\n",
      "Epoch 119/300\n",
      "125/125 [==============================] - 0s 515us/step - loss: 1.1689\n",
      "Epoch 120/300\n",
      "125/125 [==============================] - 0s 505us/step - loss: 1.1677\n",
      "Epoch 121/300\n",
      "125/125 [==============================] - 0s 485us/step - loss: 1.1666\n",
      "Epoch 122/300\n",
      "125/125 [==============================] - 0s 410us/step - loss: 1.1654\n",
      "Epoch 123/300\n",
      "125/125 [==============================] - 0s 408us/step - loss: 1.1643\n",
      "Epoch 124/300\n",
      "125/125 [==============================] - 0s 427us/step - loss: 1.1631\n",
      "Epoch 125/300\n",
      "125/125 [==============================] - 0s 433us/step - loss: 1.1620\n",
      "Epoch 126/300\n",
      "125/125 [==============================] - 0s 462us/step - loss: 1.1608\n",
      "Epoch 127/300\n",
      "125/125 [==============================] - 0s 308us/step - loss: 1.1597\n",
      "Epoch 128/300\n",
      "125/125 [==============================] - 0s 400us/step - loss: 1.1586\n",
      "Epoch 129/300\n",
      "125/125 [==============================] - 0s 376us/step - loss: 1.1574\n",
      "Epoch 130/300\n",
      "125/125 [==============================] - 0s 359us/step - loss: 1.1563\n",
      "Epoch 131/300\n",
      "125/125 [==============================] - 0s 318us/step - loss: 1.1552\n",
      "Epoch 132/300\n",
      "125/125 [==============================] - 0s 442us/step - loss: 1.1541\n",
      "Epoch 133/300\n",
      "125/125 [==============================] - 0s 330us/step - loss: 1.1530\n",
      "Epoch 134/300\n",
      "125/125 [==============================] - 0s 308us/step - loss: 1.1519\n",
      "Epoch 135/300\n",
      "125/125 [==============================] - 0s 344us/step - loss: 1.1508\n",
      "Epoch 136/300\n",
      "125/125 [==============================] - 0s 328us/step - loss: 1.1497\n",
      "Epoch 137/300\n",
      "125/125 [==============================] - 0s 390us/step - loss: 1.1486\n",
      "Epoch 138/300\n",
      "125/125 [==============================] - 0s 481us/step - loss: 1.1475\n",
      "Epoch 139/300\n",
      "125/125 [==============================] - 0s 400us/step - loss: 1.1464\n",
      "Epoch 140/300\n",
      "125/125 [==============================] - 0s 402us/step - loss: 1.1453\n",
      "Epoch 141/300\n",
      "125/125 [==============================] - 0s 370us/step - loss: 1.1443\n",
      "Epoch 142/300\n",
      "125/125 [==============================] - 0s 419us/step - loss: 1.1432\n",
      "Epoch 143/300\n",
      "125/125 [==============================] - 0s 356us/step - loss: 1.1421\n",
      "Epoch 144/300\n",
      "125/125 [==============================] - 0s 383us/step - loss: 1.1411\n",
      "Epoch 145/300\n",
      "125/125 [==============================] - 0s 326us/step - loss: 1.1400\n",
      "Epoch 146/300\n",
      "125/125 [==============================] - 0s 353us/step - loss: 1.1389\n",
      "Epoch 147/300\n",
      "125/125 [==============================] - 0s 382us/step - loss: 1.1379\n",
      "Epoch 148/300\n",
      "125/125 [==============================] - 0s 352us/step - loss: 1.1368\n",
      "Epoch 149/300\n",
      "125/125 [==============================] - 0s 330us/step - loss: 1.1358\n",
      "Epoch 150/300\n",
      "125/125 [==============================] - 0s 388us/step - loss: 1.1348\n",
      "Epoch 151/300\n",
      "125/125 [==============================] - 0s 408us/step - loss: 1.1337\n",
      "Epoch 152/300\n",
      "125/125 [==============================] - 0s 435us/step - loss: 1.1327\n",
      "Epoch 153/300\n",
      "125/125 [==============================] - 0s 364us/step - loss: 1.1317\n",
      "Epoch 154/300\n",
      "125/125 [==============================] - 0s 346us/step - loss: 1.1307\n",
      "Epoch 155/300\n",
      "125/125 [==============================] - 0s 441us/step - loss: 1.1296\n",
      "Epoch 156/300\n",
      "125/125 [==============================] - 0s 387us/step - loss: 1.1286\n",
      "Epoch 157/300\n",
      "125/125 [==============================] - 0s 405us/step - loss: 1.1276\n",
      "Epoch 158/300\n",
      "125/125 [==============================] - 0s 450us/step - loss: 1.1266\n",
      "Epoch 159/300\n",
      "125/125 [==============================] - 0s 455us/step - loss: 1.1256\n",
      "Epoch 160/300\n",
      "125/125 [==============================] - 0s 354us/step - loss: 1.1246\n",
      "Epoch 161/300\n",
      "125/125 [==============================] - 0s 357us/step - loss: 1.1236\n",
      "Epoch 162/300\n",
      "125/125 [==============================] - 0s 383us/step - loss: 1.1227\n",
      "Epoch 163/300\n",
      "125/125 [==============================] - 0s 350us/step - loss: 1.1217\n",
      "Epoch 164/300\n",
      "125/125 [==============================] - 0s 344us/step - loss: 1.1207\n",
      "Epoch 165/300\n",
      "125/125 [==============================] - 0s 377us/step - loss: 1.1197\n",
      "Epoch 166/300\n",
      "125/125 [==============================] - 0s 445us/step - loss: 1.1188\n",
      "Epoch 167/300\n",
      "125/125 [==============================] - 0s 375us/step - loss: 1.1178\n",
      "Epoch 168/300\n",
      "125/125 [==============================] - 0s 388us/step - loss: 1.1168\n",
      "Epoch 169/300\n",
      "125/125 [==============================] - 0s 376us/step - loss: 1.1159\n",
      "Epoch 170/300\n",
      "125/125 [==============================] - 0s 359us/step - loss: 1.1149\n",
      "Epoch 171/300\n",
      "125/125 [==============================] - 0s 468us/step - loss: 1.1140\n",
      "Epoch 172/300\n",
      "125/125 [==============================] - 0s 380us/step - loss: 1.1130\n",
      "Epoch 173/300\n",
      "125/125 [==============================] - 0s 333us/step - loss: 1.1121\n",
      "Epoch 174/300\n",
      "125/125 [==============================] - 0s 400us/step - loss: 1.1111\n",
      "Epoch 175/300\n",
      "125/125 [==============================] - 0s 457us/step - loss: 1.1102\n",
      "Epoch 176/300\n",
      "125/125 [==============================] - 0s 390us/step - loss: 1.1093\n",
      "Epoch 177/300\n",
      "125/125 [==============================] - 0s 354us/step - loss: 1.1083\n",
      "Epoch 178/300\n",
      "125/125 [==============================] - 0s 376us/step - loss: 1.1074\n",
      "Epoch 179/300\n",
      "125/125 [==============================] - 0s 435us/step - loss: 1.1065\n",
      "Epoch 180/300\n",
      "125/125 [==============================] - 0s 416us/step - loss: 1.1056\n",
      "Epoch 181/300\n",
      "125/125 [==============================] - 0s 391us/step - loss: 1.1046\n",
      "Epoch 182/300\n",
      "125/125 [==============================] - 0s 395us/step - loss: 1.1037\n",
      "Epoch 183/300\n",
      "125/125 [==============================] - 0s 431us/step - loss: 1.1028\n",
      "Epoch 184/300\n",
      "125/125 [==============================] - 0s 389us/step - loss: 1.1019\n",
      "Epoch 185/300\n",
      "125/125 [==============================] - 0s 330us/step - loss: 1.1010\n",
      "Epoch 186/300\n",
      "125/125 [==============================] - 0s 362us/step - loss: 1.1001\n",
      "Epoch 187/300\n",
      "125/125 [==============================] - 0s 385us/step - loss: 1.0992\n",
      "Epoch 188/300\n",
      "125/125 [==============================] - 0s 373us/step - loss: 1.0983\n",
      "Epoch 189/300\n",
      "125/125 [==============================] - 0s 378us/step - loss: 1.0974\n",
      "Epoch 190/300\n",
      "125/125 [==============================] - 0s 384us/step - loss: 1.0965\n",
      "Epoch 191/300\n",
      "125/125 [==============================] - 0s 358us/step - loss: 1.0957\n",
      "Epoch 192/300\n"
     ]
    },
    {
     "name": "stdout",
     "output_type": "stream",
     "text": [
      "125/125 [==============================] - 0s 361us/step - loss: 1.0948\n",
      "Epoch 193/300\n",
      "125/125 [==============================] - 0s 336us/step - loss: 1.0939\n",
      "Epoch 194/300\n",
      "125/125 [==============================] - 0s 321us/step - loss: 1.0930\n",
      "Epoch 195/300\n",
      "125/125 [==============================] - 0s 344us/step - loss: 1.0921\n",
      "Epoch 196/300\n",
      "125/125 [==============================] - 0s 493us/step - loss: 1.0913\n",
      "Epoch 197/300\n",
      "125/125 [==============================] - 0s 499us/step - loss: 1.0904\n",
      "Epoch 198/300\n",
      "125/125 [==============================] - 0s 333us/step - loss: 1.0895\n",
      "Epoch 199/300\n",
      "125/125 [==============================] - 0s 323us/step - loss: 1.0887\n",
      "Epoch 200/300\n",
      "125/125 [==============================] - 0s 365us/step - loss: 1.0878\n",
      "Epoch 201/300\n",
      "125/125 [==============================] - 0s 326us/step - loss: 1.0870\n",
      "Epoch 202/300\n",
      "125/125 [==============================] - 0s 342us/step - loss: 1.0861\n",
      "Epoch 203/300\n",
      "125/125 [==============================] - 0s 396us/step - loss: 1.0852\n",
      "Epoch 204/300\n",
      "125/125 [==============================] - 0s 376us/step - loss: 1.0844\n",
      "Epoch 205/300\n",
      "125/125 [==============================] - 0s 332us/step - loss: 1.0835\n",
      "Epoch 206/300\n",
      "125/125 [==============================] - 0s 354us/step - loss: 1.0827\n",
      "Epoch 207/300\n",
      "125/125 [==============================] - 0s 326us/step - loss: 1.0819\n",
      "Epoch 208/300\n",
      "125/125 [==============================] - 0s 365us/step - loss: 1.0810\n",
      "Epoch 209/300\n",
      "125/125 [==============================] - 0s 318us/step - loss: 1.0802\n",
      "Epoch 210/300\n",
      "125/125 [==============================] - 0s 318us/step - loss: 1.0793\n",
      "Epoch 211/300\n",
      "125/125 [==============================] - 0s 357us/step - loss: 1.0785\n",
      "Epoch 212/300\n",
      "125/125 [==============================] - 0s 328us/step - loss: 1.0777\n",
      "Epoch 213/300\n",
      "125/125 [==============================] - 0s 307us/step - loss: 1.0768\n",
      "Epoch 214/300\n",
      "125/125 [==============================] - 0s 301us/step - loss: 1.0760\n",
      "Epoch 215/300\n",
      "125/125 [==============================] - 0s 300us/step - loss: 1.0752\n",
      "Epoch 216/300\n",
      "125/125 [==============================] - 0s 293us/step - loss: 1.0743\n",
      "Epoch 217/300\n",
      "125/125 [==============================] - 0s 298us/step - loss: 1.0735\n",
      "Epoch 218/300\n",
      "125/125 [==============================] - 0s 289us/step - loss: 1.0727\n",
      "Epoch 219/300\n",
      "125/125 [==============================] - 0s 296us/step - loss: 1.0719\n",
      "Epoch 220/300\n",
      "125/125 [==============================] - 0s 300us/step - loss: 1.0711\n",
      "Epoch 221/300\n",
      "125/125 [==============================] - 0s 287us/step - loss: 1.0702\n",
      "Epoch 222/300\n",
      "125/125 [==============================] - 0s 295us/step - loss: 1.0694\n",
      "Epoch 223/300\n",
      "125/125 [==============================] - 0s 289us/step - loss: 1.0686\n",
      "Epoch 224/300\n",
      "125/125 [==============================] - 0s 288us/step - loss: 1.0678\n",
      "Epoch 225/300\n",
      "125/125 [==============================] - 0s 292us/step - loss: 1.0670\n",
      "Epoch 226/300\n",
      "125/125 [==============================] - 0s 278us/step - loss: 1.0662\n",
      "Epoch 227/300\n",
      "125/125 [==============================] - 0s 288us/step - loss: 1.0654\n",
      "Epoch 228/300\n",
      "125/125 [==============================] - 0s 283us/step - loss: 1.0646\n",
      "Epoch 229/300\n",
      "125/125 [==============================] - 0s 315us/step - loss: 1.0637\n",
      "Epoch 230/300\n",
      "125/125 [==============================] - 0s 311us/step - loss: 1.0629\n",
      "Epoch 231/300\n",
      "125/125 [==============================] - 0s 290us/step - loss: 1.0621\n",
      "Epoch 232/300\n",
      "125/125 [==============================] - 0s 314us/step - loss: 1.0613\n",
      "Epoch 233/300\n",
      "125/125 [==============================] - 0s 292us/step - loss: 1.0605\n",
      "Epoch 234/300\n",
      "125/125 [==============================] - 0s 295us/step - loss: 1.0597\n",
      "Epoch 235/300\n",
      "125/125 [==============================] - 0s 321us/step - loss: 1.0589\n",
      "Epoch 236/300\n",
      "125/125 [==============================] - 0s 310us/step - loss: 1.0581\n",
      "Epoch 237/300\n",
      "125/125 [==============================] - 0s 340us/step - loss: 1.0573\n",
      "Epoch 238/300\n",
      "125/125 [==============================] - 0s 338us/step - loss: 1.0565\n",
      "Epoch 239/300\n",
      "125/125 [==============================] - 0s 314us/step - loss: 1.0557\n",
      "Epoch 240/300\n",
      "125/125 [==============================] - 0s 286us/step - loss: 1.0550\n",
      "Epoch 241/300\n",
      "125/125 [==============================] - 0s 308us/step - loss: 1.0542\n",
      "Epoch 242/300\n",
      "125/125 [==============================] - 0s 280us/step - loss: 1.0534\n",
      "Epoch 243/300\n",
      "125/125 [==============================] - 0s 280us/step - loss: 1.0526\n",
      "Epoch 244/300\n",
      "125/125 [==============================] - 0s 301us/step - loss: 1.0518\n",
      "Epoch 245/300\n",
      "125/125 [==============================] - 0s 352us/step - loss: 1.0510\n",
      "Epoch 246/300\n",
      "125/125 [==============================] - 0s 307us/step - loss: 1.0502\n",
      "Epoch 247/300\n",
      "125/125 [==============================] - 0s 307us/step - loss: 1.0494\n",
      "Epoch 248/300\n",
      "125/125 [==============================] - 0s 303us/step - loss: 1.0486\n",
      "Epoch 249/300\n",
      "125/125 [==============================] - 0s 306us/step - loss: 1.0478\n",
      "Epoch 250/300\n",
      "125/125 [==============================] - 0s 575us/step - loss: 1.0471\n",
      "Epoch 251/300\n",
      "125/125 [==============================] - 0s 561us/step - loss: 1.0463\n",
      "Epoch 252/300\n",
      "125/125 [==============================] - 0s 1ms/step - loss: 1.0455\n",
      "Epoch 253/300\n",
      "125/125 [==============================] - 0s 447us/step - loss: 1.0447\n",
      "Epoch 254/300\n",
      "125/125 [==============================] - 0s 418us/step - loss: 1.0439\n",
      "Epoch 255/300\n",
      "125/125 [==============================] - 0s 461us/step - loss: 1.0431\n",
      "Epoch 256/300\n",
      "125/125 [==============================] - 0s 381us/step - loss: 1.0423\n",
      "Epoch 257/300\n",
      "125/125 [==============================] - 0s 356us/step - loss: 1.0416\n",
      "Epoch 258/300\n",
      "125/125 [==============================] - 0s 461us/step - loss: 1.0408\n",
      "Epoch 259/300\n",
      "125/125 [==============================] - 0s 455us/step - loss: 1.0400\n",
      "Epoch 260/300\n",
      "125/125 [==============================] - 0s 355us/step - loss: 1.0392\n",
      "Epoch 261/300\n",
      "125/125 [==============================] - 0s 417us/step - loss: 1.0384\n",
      "Epoch 262/300\n",
      "125/125 [==============================] - 0s 346us/step - loss: 1.0376\n",
      "Epoch 263/300\n",
      "125/125 [==============================] - 0s 357us/step - loss: 1.0368\n",
      "Epoch 264/300\n",
      "125/125 [==============================] - 0s 366us/step - loss: 1.0360\n",
      "Epoch 265/300\n",
      "125/125 [==============================] - 0s 342us/step - loss: 1.0352\n",
      "Epoch 266/300\n",
      "125/125 [==============================] - 0s 297us/step - loss: 1.0345\n",
      "Epoch 267/300\n",
      "125/125 [==============================] - 0s 336us/step - loss: 1.0337\n",
      "Epoch 268/300\n",
      "125/125 [==============================] - 0s 324us/step - loss: 1.0329\n",
      "Epoch 269/300\n",
      "125/125 [==============================] - 0s 333us/step - loss: 1.0321\n",
      "Epoch 270/300\n",
      "125/125 [==============================] - 0s 301us/step - loss: 1.0313\n",
      "Epoch 271/300\n",
      "125/125 [==============================] - 0s 323us/step - loss: 1.0305\n",
      "Epoch 272/300\n",
      "125/125 [==============================] - 0s 293us/step - loss: 1.0297\n",
      "Epoch 273/300\n",
      "125/125 [==============================] - 0s 293us/step - loss: 1.0289\n",
      "Epoch 274/300\n",
      "125/125 [==============================] - 0s 326us/step - loss: 1.0281\n",
      "Epoch 275/300\n",
      "125/125 [==============================] - 0s 301us/step - loss: 1.0273\n",
      "Epoch 276/300\n",
      "125/125 [==============================] - 0s 314us/step - loss: 1.0265\n",
      "Epoch 277/300\n",
      "125/125 [==============================] - 0s 329us/step - loss: 1.0258\n",
      "Epoch 278/300\n",
      "125/125 [==============================] - 0s 290us/step - loss: 1.0250\n",
      "Epoch 279/300\n",
      "125/125 [==============================] - 0s 318us/step - loss: 1.0242\n",
      "Epoch 280/300\n",
      "125/125 [==============================] - 0s 296us/step - loss: 1.0234\n",
      "Epoch 281/300\n",
      "125/125 [==============================] - 0s 312us/step - loss: 1.0226\n",
      "Epoch 282/300\n",
      "125/125 [==============================] - 0s 293us/step - loss: 1.0218\n",
      "Epoch 283/300\n",
      "125/125 [==============================] - 0s 345us/step - loss: 1.0210\n",
      "Epoch 284/300\n",
      "125/125 [==============================] - 0s 330us/step - loss: 1.0202\n",
      "Epoch 285/300\n",
      "125/125 [==============================] - 0s 300us/step - loss: 1.0194\n",
      "Epoch 286/300\n",
      "125/125 [==============================] - 0s 322us/step - loss: 1.0186\n",
      "Epoch 287/300\n",
      "125/125 [==============================] - 0s 313us/step - loss: 1.0178\n",
      "Epoch 288/300\n",
      "125/125 [==============================] - 0s 355us/step - loss: 1.0170\n",
      "Epoch 289/300\n",
      "125/125 [==============================] - 0s 319us/step - loss: 1.0161\n",
      "Epoch 290/300\n",
      "125/125 [==============================] - 0s 323us/step - loss: 1.0153\n",
      "Epoch 291/300\n",
      "125/125 [==============================] - 0s 338us/step - loss: 1.0145\n",
      "Epoch 292/300\n",
      "125/125 [==============================] - 0s 291us/step - loss: 1.0137\n",
      "Epoch 293/300\n",
      "125/125 [==============================] - 0s 306us/step - loss: 1.0129\n",
      "Epoch 294/300\n",
      "125/125 [==============================] - 0s 285us/step - loss: 1.0121\n",
      "Epoch 295/300\n",
      "125/125 [==============================] - 0s 299us/step - loss: 1.0113\n",
      "Epoch 296/300\n",
      "125/125 [==============================] - 0s 290us/step - loss: 1.0104\n",
      "Epoch 297/300\n",
      "125/125 [==============================] - 0s 307us/step - loss: 1.0096\n",
      "Epoch 298/300\n",
      "125/125 [==============================] - 0s 278us/step - loss: 1.0088\n",
      "Epoch 299/300\n",
      "125/125 [==============================] - 0s 273us/step - loss: 1.0080\n",
      "Epoch 300/300\n",
      "125/125 [==============================] - 0s 269us/step - loss: 1.0071\n",
      "view 357133 "
     ]
    },
    {
     "data": {
      "text/plain": [
       "'view 357133 357133'"
      ]
     },
     "execution_count": 134,
     "metadata": {},
     "output_type": "execute_result"
    }
   ],
   "source": [
    "WEIGHTS = ''\n",
    "nb_epoch = 0\n",
    "\n",
    "# Training if there is no trained weights specified\n",
    "# while nb_epoch < 100:\n",
    "print('\\n\\nEpoch: {}\\n'.format(nb_epoch))\n",
    "model.fit(X, y, batch_size=BATCH_SIZE, verbose=1, nb_epoch=300)\n",
    "# nb_epoch += 1\n",
    "generate_text(model, generate_length, VOCAB_SIZE, ix_to_char)\n",
    "# if nb_epoch % 10 == 0:\n",
    "#     model.save_weights('checkpoint_layer_{}_hidden_{}_epoch_{}.hdf5'.format(LAYER_NUM, HIDDEN_DIM, nb_epoch))\n"
   ]
  },
  {
   "cell_type": "code",
   "execution_count": 139,
   "metadata": {
    "ExecuteTime": {
     "end_time": "2020-06-17T19:34:48.869852Z",
     "start_time": "2020-06-17T19:34:48.791223Z"
    }
   },
   "outputs": [
    {
     "name": "stdout",
     "output_type": "stream",
     "text": [
      "addtocart 357133 view view view view "
     ]
    },
    {
     "data": {
      "text/plain": [
       "'addtocart 357133 view view view view view'"
      ]
     },
     "execution_count": 139,
     "metadata": {},
     "output_type": "execute_result"
    }
   ],
   "source": [
    "generate_text(model, 6, VOCAB_SIZE, ix_to_char)"
   ]
  },
  {
   "cell_type": "code",
   "execution_count": null,
   "metadata": {},
   "outputs": [],
   "source": []
  }
 ],
 "metadata": {
  "kernelspec": {
   "display_name": "Python 3",
   "language": "python",
   "name": "python3"
  },
  "language_info": {
   "codemirror_mode": {
    "name": "ipython",
    "version": 3
   },
   "file_extension": ".py",
   "mimetype": "text/x-python",
   "name": "python",
   "nbconvert_exporter": "python",
   "pygments_lexer": "ipython3",
   "version": "3.7.3"
  },
  "toc": {
   "base_numbering": 1,
   "nav_menu": {},
   "number_sections": true,
   "sideBar": true,
   "skip_h1_title": false,
   "title_cell": "Table of Contents",
   "title_sidebar": "Contents",
   "toc_cell": false,
   "toc_position": {
    "height": "calc(100% - 180px)",
    "left": "10px",
    "top": "150px",
    "width": "343.594px"
   },
   "toc_section_display": true,
   "toc_window_display": true
  }
 },
 "nbformat": 4,
 "nbformat_minor": 2
}
