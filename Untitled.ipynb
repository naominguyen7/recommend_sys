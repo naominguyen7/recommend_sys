{
 "cells": [
  {
   "cell_type": "code",
   "execution_count": 1,
   "metadata": {
    "ExecuteTime": {
     "end_time": "2020-06-09T12:12:13.433638Z",
     "start_time": "2020-06-09T12:12:12.159953Z"
    }
   },
   "outputs": [
    {
     "name": "stderr",
     "output_type": "stream",
     "text": [
      "//anaconda3/lib/python3.7/site-packages/lightfm/_lightfm_fast.py:9: UserWarning: LightFM was compiled without OpenMP support. Only a single thread will be used.\n",
      "  warnings.warn('LightFM was compiled without OpenMP support. '\n"
     ]
    }
   ],
   "source": [
    "%load_ext autoreload\n",
    "%autoreload 2\n",
    "%matplotlib inline\n",
    "import pandas as pd, numpy as np\n",
    "import matplotlib.pyplot as plt\n",
    "\n",
    "from lightfm import LightFM\n",
    "from lightfm.evaluation import precision_at_k\n",
    "from lightfm.evaluation import auc_score"
   ]
  },
  {
   "cell_type": "code",
   "execution_count": 6,
   "metadata": {
    "ExecuteTime": {
     "end_time": "2020-06-09T12:18:59.577541Z",
     "start_time": "2020-06-09T12:18:57.107097Z"
    }
   },
   "outputs": [
    {
     "data": {
      "text/html": [
       "<div>\n",
       "<style scoped>\n",
       "    .dataframe tbody tr th:only-of-type {\n",
       "        vertical-align: middle;\n",
       "    }\n",
       "\n",
       "    .dataframe tbody tr th {\n",
       "        vertical-align: top;\n",
       "    }\n",
       "\n",
       "    .dataframe thead th {\n",
       "        text-align: right;\n",
       "    }\n",
       "</style>\n",
       "<table border=\"1\" class=\"dataframe\">\n",
       "  <thead>\n",
       "    <tr style=\"text-align: right;\">\n",
       "      <th></th>\n",
       "      <th>timestamp</th>\n",
       "      <th>visitorid</th>\n",
       "      <th>event</th>\n",
       "      <th>itemid</th>\n",
       "      <th>transactionid</th>\n",
       "      <th>score</th>\n",
       "    </tr>\n",
       "  </thead>\n",
       "  <tbody>\n",
       "    <tr>\n",
       "      <th>1462974</th>\n",
       "      <td>1430622004384</td>\n",
       "      <td>693516</td>\n",
       "      <td>addtocart</td>\n",
       "      <td>297662</td>\n",
       "      <td>NaN</td>\n",
       "      <td>5</td>\n",
       "    </tr>\n",
       "    <tr>\n",
       "      <th>1464806</th>\n",
       "      <td>1430622011289</td>\n",
       "      <td>829044</td>\n",
       "      <td>view</td>\n",
       "      <td>60987</td>\n",
       "      <td>NaN</td>\n",
       "      <td>1</td>\n",
       "    </tr>\n",
       "    <tr>\n",
       "      <th>1463000</th>\n",
       "      <td>1430622013048</td>\n",
       "      <td>652699</td>\n",
       "      <td>view</td>\n",
       "      <td>252860</td>\n",
       "      <td>NaN</td>\n",
       "      <td>1</td>\n",
       "    </tr>\n",
       "    <tr>\n",
       "      <th>1465287</th>\n",
       "      <td>1430622024154</td>\n",
       "      <td>1125936</td>\n",
       "      <td>view</td>\n",
       "      <td>33661</td>\n",
       "      <td>NaN</td>\n",
       "      <td>1</td>\n",
       "    </tr>\n",
       "    <tr>\n",
       "      <th>1462955</th>\n",
       "      <td>1430622026228</td>\n",
       "      <td>693516</td>\n",
       "      <td>view</td>\n",
       "      <td>297662</td>\n",
       "      <td>NaN</td>\n",
       "      <td>1</td>\n",
       "    </tr>\n",
       "  </tbody>\n",
       "</table>\n",
       "</div>"
      ],
      "text/plain": [
       "             timestamp  visitorid      event  itemid  transactionid  score\n",
       "1462974  1430622004384     693516  addtocart  297662            NaN      5\n",
       "1464806  1430622011289     829044       view   60987            NaN      1\n",
       "1463000  1430622013048     652699       view  252860            NaN      1\n",
       "1465287  1430622024154    1125936       view   33661            NaN      1\n",
       "1462955  1430622026228     693516       view  297662            NaN      1"
      ]
     },
     "execution_count": 6,
     "metadata": {},
     "output_type": "execute_result"
    }
   ],
   "source": [
    "event_df = pd.read_csv(\"events.csv.zip\")\n",
    "event_df = event_df.sort_values('timestamp')\n",
    "score_map = {'view':1, 'addtocart':5, 'transaction':7}\n",
    "event_df['score'] = event_df.event.map(score_map)\n",
    "event_df.head()"
   ]
  },
  {
   "cell_type": "code",
   "execution_count": 10,
   "metadata": {
    "ExecuteTime": {
     "end_time": "2020-06-09T12:21:02.700356Z",
     "start_time": "2020-06-09T12:21:02.678011Z"
    }
   },
   "outputs": [
    {
     "data": {
      "text/plain": [
       "(2756101, 6)"
      ]
     },
     "execution_count": 10,
     "metadata": {},
     "output_type": "execute_result"
    }
   ],
   "source": [
    "event_df.shape"
   ]
  },
  {
   "cell_type": "code",
   "execution_count": 20,
   "metadata": {
    "ExecuteTime": {
     "end_time": "2020-06-09T12:27:23.948190Z",
     "start_time": "2020-06-09T12:27:08.728244Z"
    }
   },
   "outputs": [
    {
     "data": {
      "text/plain": [
       "<matplotlib.axes._subplots.AxesSubplot at 0x123568908>"
      ]
     },
     "execution_count": 20,
     "metadata": {},
     "output_type": "execute_result"
    },
    {
     "data": {
      "image/png": "[encoded data removed]",
      "text/plain": [
       "<Figure size 432x288 with 1 Axes>"
      ]
     },
     "metadata": {
      "needs_background": "light"
     },
     "output_type": "display_data"
    }
   ],
   "source": [
    "def get_median_time_lapse(ts_series):\n",
    "    if len(ts_series) < 5:\n",
    "        return None\n",
    "    res = ts_series - ts_series.shift()\n",
    "    res = res[1:]\n",
    "    return np.median(res)\n",
    "event_df[:300000].groupby('visitorid').timestamp.apply(get_median_time_lapse).hist(bins=100)"
   ]
  },
  {
   "cell_type": "markdown",
   "metadata": {},
   "source": [
    "# How frequent are purchases?"
   ]
  },
  {
   "cell_type": "code",
   "execution_count": 21,
   "metadata": {
    "ExecuteTime": {
     "end_time": "2020-06-09T12:27:36.157269Z",
     "start_time": "2020-06-09T12:27:36.133094Z"
    }
   },
   "outputs": [
    {
     "name": "stdout",
     "output_type": "stream",
     "text": [
      "dt_object = 2018-12-13 20:41:13\n",
      "type(dt_object) = <class 'datetime.datetime'>\n"
     ]
    }
   ],
   "source": [
    "from datetime import datetime\n",
    "\n",
    "timestamp = 1545730073 - 1e6\n",
    "dt_object = datetime.fromtimestamp(timestamp)\n",
    "\n",
    "print(\"dt_object =\", dt_object)\n",
    "print(\"type(dt_object) =\", type(dt_object))"
   ]
  },
  {
   "cell_type": "code",
   "execution_count": 15,
   "metadata": {
    "ExecuteTime": {
     "end_time": "2020-06-09T12:23:50.683644Z",
     "start_time": "2020-06-09T12:23:50.624454Z"
    }
   },
   "outputs": [
    {
     "data": {
      "text/plain": [
       "(1430622004384, 1442545187788)"
      ]
     },
     "execution_count": 15,
     "metadata": {},
     "output_type": "execute_result"
    }
   ],
   "source": [
    "event_df.timestamp.min(), event_df.timestamp.max()\n",
    "#May-Sept"
   ]
  },
  {
   "cell_type": "markdown",
   "metadata": {},
   "source": [
    "# Dedup"
   ]
  },
  {
   "cell_type": "code",
   "execution_count": 4,
   "metadata": {
    "ExecuteTime": {
     "end_time": "2020-06-08T13:34:42.305664Z",
     "start_time": "2020-06-08T13:34:42.020313Z"
    }
   },
   "outputs": [
    {
     "data": {
      "text/plain": [
       "1     56798\n",
       "2      4269\n",
       "3       542\n",
       "4       237\n",
       "5        51\n",
       "6        51\n",
       "7        15\n",
       "8        19\n",
       "9         9\n",
       "10        8\n",
       "11        6\n",
       "12        3\n",
       "13        3\n",
       "14        3\n",
       "16        1\n",
       "18        2\n",
       "20        1\n",
       "24        1\n",
       "25        1\n",
       "26        2\n",
       "27        1\n",
       "29        1\n",
       "31        1\n",
       "Name: event, dtype: int64"
      ]
     },
     "execution_count": 4,
     "metadata": {},
     "output_type": "execute_result"
    }
   ],
   "source": [
    "event_df[event_df.event=='addtocart'].groupby(['visitorid', 'itemid']).event.count().value_counts().sort_index()"
   ]
  },
  {
   "cell_type": "code",
   "execution_count": 5,
   "metadata": {
    "ExecuteTime": {
     "end_time": "2020-06-08T13:34:43.837050Z",
     "start_time": "2020-06-08T13:34:42.307552Z"
    }
   },
   "outputs": [
    {
     "data": {
      "text/html": [
       "<div>\n",
       "<style scoped>\n",
       "    .dataframe tbody tr th:only-of-type {\n",
       "        vertical-align: middle;\n",
       "    }\n",
       "\n",
       "    .dataframe tbody tr th {\n",
       "        vertical-align: top;\n",
       "    }\n",
       "\n",
       "    .dataframe thead th {\n",
       "        text-align: right;\n",
       "    }\n",
       "</style>\n",
       "<table border=\"1\" class=\"dataframe\">\n",
       "  <thead>\n",
       "    <tr style=\"text-align: right;\">\n",
       "      <th></th>\n",
       "      <th>timestamp</th>\n",
       "      <th>visitorid</th>\n",
       "      <th>event</th>\n",
       "      <th>itemid</th>\n",
       "      <th>transactionid</th>\n",
       "      <th>score</th>\n",
       "    </tr>\n",
       "  </thead>\n",
       "  <tbody>\n",
       "    <tr>\n",
       "      <th>726292</th>\n",
       "      <td>1438970468920</td>\n",
       "      <td>2</td>\n",
       "      <td>view</td>\n",
       "      <td>216305</td>\n",
       "      <td>NaN</td>\n",
       "      <td>1</td>\n",
       "    </tr>\n",
       "    <tr>\n",
       "      <th>742485</th>\n",
       "      <td>1438971463170</td>\n",
       "      <td>2</td>\n",
       "      <td>view</td>\n",
       "      <td>216305</td>\n",
       "      <td>NaN</td>\n",
       "      <td>1</td>\n",
       "    </tr>\n",
       "    <tr>\n",
       "      <th>742616</th>\n",
       "      <td>1438969904567</td>\n",
       "      <td>2</td>\n",
       "      <td>view</td>\n",
       "      <td>325215</td>\n",
       "      <td>NaN</td>\n",
       "      <td>1</td>\n",
       "    </tr>\n",
       "    <tr>\n",
       "      <th>735273</th>\n",
       "      <td>1438970013790</td>\n",
       "      <td>2</td>\n",
       "      <td>view</td>\n",
       "      <td>325215</td>\n",
       "      <td>NaN</td>\n",
       "      <td>1</td>\n",
       "    </tr>\n",
       "    <tr>\n",
       "      <th>728288</th>\n",
       "      <td>1438971657845</td>\n",
       "      <td>2</td>\n",
       "      <td>view</td>\n",
       "      <td>325215</td>\n",
       "      <td>NaN</td>\n",
       "      <td>1</td>\n",
       "    </tr>\n",
       "    <tr>\n",
       "      <th>737615</th>\n",
       "      <td>1438970905669</td>\n",
       "      <td>2</td>\n",
       "      <td>view</td>\n",
       "      <td>342816</td>\n",
       "      <td>NaN</td>\n",
       "      <td>1</td>\n",
       "    </tr>\n",
       "    <tr>\n",
       "      <th>735202</th>\n",
       "      <td>1438971444375</td>\n",
       "      <td>2</td>\n",
       "      <td>view</td>\n",
       "      <td>342816</td>\n",
       "      <td>NaN</td>\n",
       "      <td>1</td>\n",
       "    </tr>\n",
       "    <tr>\n",
       "      <th>1130136</th>\n",
       "      <td>1440916823805</td>\n",
       "      <td>6</td>\n",
       "      <td>view</td>\n",
       "      <td>344723</td>\n",
       "      <td>NaN</td>\n",
       "      <td>1</td>\n",
       "    </tr>\n",
       "    <tr>\n",
       "      <th>1130169</th>\n",
       "      <td>1440917649385</td>\n",
       "      <td>6</td>\n",
       "      <td>view</td>\n",
       "      <td>344723</td>\n",
       "      <td>NaN</td>\n",
       "      <td>1</td>\n",
       "    </tr>\n",
       "    <tr>\n",
       "      <th>1143479</th>\n",
       "      <td>1440917793838</td>\n",
       "      <td>6</td>\n",
       "      <td>view</td>\n",
       "      <td>344723</td>\n",
       "      <td>NaN</td>\n",
       "      <td>1</td>\n",
       "    </tr>\n",
       "    <tr>\n",
       "      <th>1137104</th>\n",
       "      <td>1440991285697</td>\n",
       "      <td>6</td>\n",
       "      <td>view</td>\n",
       "      <td>344723</td>\n",
       "      <td>NaN</td>\n",
       "      <td>1</td>\n",
       "    </tr>\n",
       "    <tr>\n",
       "      <th>2093364</th>\n",
       "      <td>1435878975173</td>\n",
       "      <td>22</td>\n",
       "      <td>view</td>\n",
       "      <td>86411</td>\n",
       "      <td>NaN</td>\n",
       "      <td>1</td>\n",
       "    </tr>\n",
       "    <tr>\n",
       "      <th>2082774</th>\n",
       "      <td>1435878998785</td>\n",
       "      <td>22</td>\n",
       "      <td>view</td>\n",
       "      <td>86411</td>\n",
       "      <td>NaN</td>\n",
       "      <td>1</td>\n",
       "    </tr>\n",
       "    <tr>\n",
       "      <th>229950</th>\n",
       "      <td>1434075948023</td>\n",
       "      <td>23</td>\n",
       "      <td>view</td>\n",
       "      <td>283916</td>\n",
       "      <td>NaN</td>\n",
       "      <td>1</td>\n",
       "    </tr>\n",
       "    <tr>\n",
       "      <th>229992</th>\n",
       "      <td>1434077771188</td>\n",
       "      <td>23</td>\n",
       "      <td>view</td>\n",
       "      <td>283916</td>\n",
       "      <td>NaN</td>\n",
       "      <td>1</td>\n",
       "    </tr>\n",
       "    <tr>\n",
       "      <th>2321366</th>\n",
       "      <td>1436804963786</td>\n",
       "      <td>36</td>\n",
       "      <td>view</td>\n",
       "      <td>176286</td>\n",
       "      <td>NaN</td>\n",
       "      <td>1</td>\n",
       "    </tr>\n",
       "    <tr>\n",
       "      <th>2325454</th>\n",
       "      <td>1436805168853</td>\n",
       "      <td>36</td>\n",
       "      <td>view</td>\n",
       "      <td>176286</td>\n",
       "      <td>NaN</td>\n",
       "      <td>1</td>\n",
       "    </tr>\n",
       "    <tr>\n",
       "      <th>729155</th>\n",
       "      <td>1438980041693</td>\n",
       "      <td>37</td>\n",
       "      <td>view</td>\n",
       "      <td>168952</td>\n",
       "      <td>NaN</td>\n",
       "      <td>1</td>\n",
       "    </tr>\n",
       "    <tr>\n",
       "      <th>734817</th>\n",
       "      <td>1439003073785</td>\n",
       "      <td>37</td>\n",
       "      <td>view</td>\n",
       "      <td>168952</td>\n",
       "      <td>NaN</td>\n",
       "      <td>1</td>\n",
       "    </tr>\n",
       "    <tr>\n",
       "      <th>731044</th>\n",
       "      <td>1439003257154</td>\n",
       "      <td>37</td>\n",
       "      <td>view</td>\n",
       "      <td>168952</td>\n",
       "      <td>NaN</td>\n",
       "      <td>1</td>\n",
       "    </tr>\n",
       "    <tr>\n",
       "      <th>747525</th>\n",
       "      <td>1439062713781</td>\n",
       "      <td>37</td>\n",
       "      <td>view</td>\n",
       "      <td>168952</td>\n",
       "      <td>NaN</td>\n",
       "      <td>1</td>\n",
       "    </tr>\n",
       "    <tr>\n",
       "      <th>795840</th>\n",
       "      <td>1439302214447</td>\n",
       "      <td>37</td>\n",
       "      <td>view</td>\n",
       "      <td>168952</td>\n",
       "      <td>NaN</td>\n",
       "      <td>1</td>\n",
       "    </tr>\n",
       "    <tr>\n",
       "      <th>792712</th>\n",
       "      <td>1439303936763</td>\n",
       "      <td>37</td>\n",
       "      <td>view</td>\n",
       "      <td>168952</td>\n",
       "      <td>NaN</td>\n",
       "      <td>1</td>\n",
       "    </tr>\n",
       "    <tr>\n",
       "      <th>841653</th>\n",
       "      <td>1439481275366</td>\n",
       "      <td>37</td>\n",
       "      <td>view</td>\n",
       "      <td>168952</td>\n",
       "      <td>NaN</td>\n",
       "      <td>1</td>\n",
       "    </tr>\n",
       "    <tr>\n",
       "      <th>2446113</th>\n",
       "      <td>1437274886274</td>\n",
       "      <td>39</td>\n",
       "      <td>view</td>\n",
       "      <td>76740</td>\n",
       "      <td>NaN</td>\n",
       "      <td>1</td>\n",
       "    </tr>\n",
       "    <tr>\n",
       "      <th>846480</th>\n",
       "      <td>1439613027084</td>\n",
       "      <td>39</td>\n",
       "      <td>view</td>\n",
       "      <td>76740</td>\n",
       "      <td>NaN</td>\n",
       "      <td>1</td>\n",
       "    </tr>\n",
       "    <tr>\n",
       "      <th>2690066</th>\n",
       "      <td>1438121170617</td>\n",
       "      <td>46</td>\n",
       "      <td>view</td>\n",
       "      <td>3780</td>\n",
       "      <td>NaN</td>\n",
       "      <td>1</td>\n",
       "    </tr>\n",
       "    <tr>\n",
       "      <th>773600</th>\n",
       "      <td>1439242743761</td>\n",
       "      <td>46</td>\n",
       "      <td>view</td>\n",
       "      <td>3780</td>\n",
       "      <td>NaN</td>\n",
       "      <td>1</td>\n",
       "    </tr>\n",
       "    <tr>\n",
       "      <th>1241247</th>\n",
       "      <td>1441495318252</td>\n",
       "      <td>51</td>\n",
       "      <td>view</td>\n",
       "      <td>198762</td>\n",
       "      <td>NaN</td>\n",
       "      <td>1</td>\n",
       "    </tr>\n",
       "    <tr>\n",
       "      <th>1245088</th>\n",
       "      <td>1441495582729</td>\n",
       "      <td>51</td>\n",
       "      <td>view</td>\n",
       "      <td>198762</td>\n",
       "      <td>NaN</td>\n",
       "      <td>1</td>\n",
       "    </tr>\n",
       "    <tr>\n",
       "      <th>...</th>\n",
       "      <td>...</td>\n",
       "      <td>...</td>\n",
       "      <td>...</td>\n",
       "      <td>...</td>\n",
       "      <td>...</td>\n",
       "      <td>...</td>\n",
       "    </tr>\n",
       "    <tr>\n",
       "      <th>2024172</th>\n",
       "      <td>1432954161462</td>\n",
       "      <td>1407512</td>\n",
       "      <td>view</td>\n",
       "      <td>398091</td>\n",
       "      <td>NaN</td>\n",
       "      <td>1</td>\n",
       "    </tr>\n",
       "    <tr>\n",
       "      <th>2023974</th>\n",
       "      <td>1432954196910</td>\n",
       "      <td>1407512</td>\n",
       "      <td>addtocart</td>\n",
       "      <td>398091</td>\n",
       "      <td>NaN</td>\n",
       "      <td>5</td>\n",
       "    </tr>\n",
       "    <tr>\n",
       "      <th>2022702</th>\n",
       "      <td>1432954261052</td>\n",
       "      <td>1407512</td>\n",
       "      <td>view</td>\n",
       "      <td>398533</td>\n",
       "      <td>NaN</td>\n",
       "      <td>1</td>\n",
       "    </tr>\n",
       "    <tr>\n",
       "      <th>2022592</th>\n",
       "      <td>1432954281393</td>\n",
       "      <td>1407512</td>\n",
       "      <td>addtocart</td>\n",
       "      <td>398533</td>\n",
       "      <td>NaN</td>\n",
       "      <td>5</td>\n",
       "    </tr>\n",
       "    <tr>\n",
       "      <th>1762485</th>\n",
       "      <td>1431924883248</td>\n",
       "      <td>1407513</td>\n",
       "      <td>view</td>\n",
       "      <td>285527</td>\n",
       "      <td>NaN</td>\n",
       "      <td>1</td>\n",
       "    </tr>\n",
       "    <tr>\n",
       "      <th>1749623</th>\n",
       "      <td>1431924942968</td>\n",
       "      <td>1407513</td>\n",
       "      <td>view</td>\n",
       "      <td>285527</td>\n",
       "      <td>NaN</td>\n",
       "      <td>1</td>\n",
       "    </tr>\n",
       "    <tr>\n",
       "      <th>1747047</th>\n",
       "      <td>1431924969369</td>\n",
       "      <td>1407513</td>\n",
       "      <td>view</td>\n",
       "      <td>285527</td>\n",
       "      <td>NaN</td>\n",
       "      <td>1</td>\n",
       "    </tr>\n",
       "    <tr>\n",
       "      <th>1195351</th>\n",
       "      <td>1441258211923</td>\n",
       "      <td>1407516</td>\n",
       "      <td>view</td>\n",
       "      <td>371906</td>\n",
       "      <td>NaN</td>\n",
       "      <td>1</td>\n",
       "    </tr>\n",
       "    <tr>\n",
       "      <th>1195217</th>\n",
       "      <td>1441258428605</td>\n",
       "      <td>1407516</td>\n",
       "      <td>view</td>\n",
       "      <td>371906</td>\n",
       "      <td>NaN</td>\n",
       "      <td>1</td>\n",
       "    </tr>\n",
       "    <tr>\n",
       "      <th>2576754</th>\n",
       "      <td>1437762415769</td>\n",
       "      <td>1407521</td>\n",
       "      <td>view</td>\n",
       "      <td>419862</td>\n",
       "      <td>NaN</td>\n",
       "      <td>1</td>\n",
       "    </tr>\n",
       "    <tr>\n",
       "      <th>2575373</th>\n",
       "      <td>1437762432472</td>\n",
       "      <td>1407521</td>\n",
       "      <td>view</td>\n",
       "      <td>419862</td>\n",
       "      <td>NaN</td>\n",
       "      <td>1</td>\n",
       "    </tr>\n",
       "    <tr>\n",
       "      <th>106317</th>\n",
       "      <td>1433566111151</td>\n",
       "      <td>1407526</td>\n",
       "      <td>view</td>\n",
       "      <td>418619</td>\n",
       "      <td>NaN</td>\n",
       "      <td>1</td>\n",
       "    </tr>\n",
       "    <tr>\n",
       "      <th>106294</th>\n",
       "      <td>1433566135044</td>\n",
       "      <td>1407526</td>\n",
       "      <td>view</td>\n",
       "      <td>418619</td>\n",
       "      <td>NaN</td>\n",
       "      <td>1</td>\n",
       "    </tr>\n",
       "    <tr>\n",
       "      <th>337403</th>\n",
       "      <td>1434585232543</td>\n",
       "      <td>1407527</td>\n",
       "      <td>view</td>\n",
       "      <td>85307</td>\n",
       "      <td>NaN</td>\n",
       "      <td>1</td>\n",
       "    </tr>\n",
       "    <tr>\n",
       "      <th>339600</th>\n",
       "      <td>1434585451071</td>\n",
       "      <td>1407527</td>\n",
       "      <td>view</td>\n",
       "      <td>85307</td>\n",
       "      <td>NaN</td>\n",
       "      <td>1</td>\n",
       "    </tr>\n",
       "    <tr>\n",
       "      <th>331264</th>\n",
       "      <td>1434585145087</td>\n",
       "      <td>1407527</td>\n",
       "      <td>view</td>\n",
       "      <td>254432</td>\n",
       "      <td>NaN</td>\n",
       "      <td>1</td>\n",
       "    </tr>\n",
       "    <tr>\n",
       "      <th>346677</th>\n",
       "      <td>1434585240943</td>\n",
       "      <td>1407527</td>\n",
       "      <td>view</td>\n",
       "      <td>254432</td>\n",
       "      <td>NaN</td>\n",
       "      <td>1</td>\n",
       "    </tr>\n",
       "    <tr>\n",
       "      <th>346680</th>\n",
       "      <td>1434585284740</td>\n",
       "      <td>1407527</td>\n",
       "      <td>view</td>\n",
       "      <td>254432</td>\n",
       "      <td>NaN</td>\n",
       "      <td>1</td>\n",
       "    </tr>\n",
       "    <tr>\n",
       "      <th>1390821</th>\n",
       "      <td>1442173028715</td>\n",
       "      <td>1407528</td>\n",
       "      <td>view</td>\n",
       "      <td>195083</td>\n",
       "      <td>NaN</td>\n",
       "      <td>1</td>\n",
       "    </tr>\n",
       "    <tr>\n",
       "      <th>1394755</th>\n",
       "      <td>1442175833921</td>\n",
       "      <td>1407528</td>\n",
       "      <td>view</td>\n",
       "      <td>195083</td>\n",
       "      <td>NaN</td>\n",
       "      <td>1</td>\n",
       "    </tr>\n",
       "    <tr>\n",
       "      <th>2627077</th>\n",
       "      <td>1437942607857</td>\n",
       "      <td>1407530</td>\n",
       "      <td>view</td>\n",
       "      <td>455539</td>\n",
       "      <td>NaN</td>\n",
       "      <td>1</td>\n",
       "    </tr>\n",
       "    <tr>\n",
       "      <th>2648574</th>\n",
       "      <td>1437964161007</td>\n",
       "      <td>1407530</td>\n",
       "      <td>view</td>\n",
       "      <td>455539</td>\n",
       "      <td>NaN</td>\n",
       "      <td>1</td>\n",
       "    </tr>\n",
       "    <tr>\n",
       "      <th>2498021</th>\n",
       "      <td>1437503740977</td>\n",
       "      <td>1407537</td>\n",
       "      <td>view</td>\n",
       "      <td>156770</td>\n",
       "      <td>NaN</td>\n",
       "      <td>1</td>\n",
       "    </tr>\n",
       "    <tr>\n",
       "      <th>2504914</th>\n",
       "      <td>1437505896838</td>\n",
       "      <td>1407537</td>\n",
       "      <td>view</td>\n",
       "      <td>156770</td>\n",
       "      <td>NaN</td>\n",
       "      <td>1</td>\n",
       "    </tr>\n",
       "    <tr>\n",
       "      <th>2135872</th>\n",
       "      <td>1436072303991</td>\n",
       "      <td>1407560</td>\n",
       "      <td>view</td>\n",
       "      <td>240708</td>\n",
       "      <td>NaN</td>\n",
       "      <td>1</td>\n",
       "    </tr>\n",
       "    <tr>\n",
       "      <th>2130211</th>\n",
       "      <td>1436072351277</td>\n",
       "      <td>1407560</td>\n",
       "      <td>view</td>\n",
       "      <td>240708</td>\n",
       "      <td>NaN</td>\n",
       "      <td>1</td>\n",
       "    </tr>\n",
       "    <tr>\n",
       "      <th>1603999</th>\n",
       "      <td>1431311689814</td>\n",
       "      <td>1407572</td>\n",
       "      <td>view</td>\n",
       "      <td>122041</td>\n",
       "      <td>NaN</td>\n",
       "      <td>1</td>\n",
       "    </tr>\n",
       "    <tr>\n",
       "      <th>1713816</th>\n",
       "      <td>1431738322384</td>\n",
       "      <td>1407572</td>\n",
       "      <td>view</td>\n",
       "      <td>122041</td>\n",
       "      <td>NaN</td>\n",
       "      <td>1</td>\n",
       "    </tr>\n",
       "    <tr>\n",
       "      <th>656195</th>\n",
       "      <td>1438648367715</td>\n",
       "      <td>1407573</td>\n",
       "      <td>view</td>\n",
       "      <td>82278</td>\n",
       "      <td>NaN</td>\n",
       "      <td>1</td>\n",
       "    </tr>\n",
       "    <tr>\n",
       "      <th>645052</th>\n",
       "      <td>1438648495146</td>\n",
       "      <td>1407573</td>\n",
       "      <td>view</td>\n",
       "      <td>82278</td>\n",
       "      <td>NaN</td>\n",
       "      <td>1</td>\n",
       "    </tr>\n",
       "  </tbody>\n",
       "</table>\n",
       "<p>943960 rows × 6 columns</p>\n",
       "</div>"
      ],
      "text/plain": [
       "             timestamp  visitorid      event  itemid  transactionid  score\n",
       "726292   1438970468920          2       view  216305            NaN      1\n",
       "742485   1438971463170          2       view  216305            NaN      1\n",
       "742616   1438969904567          2       view  325215            NaN      1\n",
       "735273   1438970013790          2       view  325215            NaN      1\n",
       "728288   1438971657845          2       view  325215            NaN      1\n",
       "737615   1438970905669          2       view  342816            NaN      1\n",
       "735202   1438971444375          2       view  342816            NaN      1\n",
       "1130136  1440916823805          6       view  344723            NaN      1\n",
       "1130169  1440917649385          6       view  344723            NaN      1\n",
       "1143479  1440917793838          6       view  344723            NaN      1\n",
       "1137104  1440991285697          6       view  344723            NaN      1\n",
       "2093364  1435878975173         22       view   86411            NaN      1\n",
       "2082774  1435878998785         22       view   86411            NaN      1\n",
       "229950   1434075948023         23       view  283916            NaN      1\n",
       "229992   1434077771188         23       view  283916            NaN      1\n",
       "2321366  1436804963786         36       view  176286            NaN      1\n",
       "2325454  1436805168853         36       view  176286            NaN      1\n",
       "729155   1438980041693         37       view  168952            NaN      1\n",
       "734817   1439003073785         37       view  168952            NaN      1\n",
       "731044   1439003257154         37       view  168952            NaN      1\n",
       "747525   1439062713781         37       view  168952            NaN      1\n",
       "795840   1439302214447         37       view  168952            NaN      1\n",
       "792712   1439303936763         37       view  168952            NaN      1\n",
       "841653   1439481275366         37       view  168952            NaN      1\n",
       "2446113  1437274886274         39       view   76740            NaN      1\n",
       "846480   1439613027084         39       view   76740            NaN      1\n",
       "2690066  1438121170617         46       view    3780            NaN      1\n",
       "773600   1439242743761         46       view    3780            NaN      1\n",
       "1241247  1441495318252         51       view  198762            NaN      1\n",
       "1245088  1441495582729         51       view  198762            NaN      1\n",
       "...                ...        ...        ...     ...            ...    ...\n",
       "2024172  1432954161462    1407512       view  398091            NaN      1\n",
       "2023974  1432954196910    1407512  addtocart  398091            NaN      5\n",
       "2022702  1432954261052    1407512       view  398533            NaN      1\n",
       "2022592  1432954281393    1407512  addtocart  398533            NaN      5\n",
       "1762485  1431924883248    1407513       view  285527            NaN      1\n",
       "1749623  1431924942968    1407513       view  285527            NaN      1\n",
       "1747047  1431924969369    1407513       view  285527            NaN      1\n",
       "1195351  1441258211923    1407516       view  371906            NaN      1\n",
       "1195217  1441258428605    1407516       view  371906            NaN      1\n",
       "2576754  1437762415769    1407521       view  419862            NaN      1\n",
       "2575373  1437762432472    1407521       view  419862            NaN      1\n",
       "106317   1433566111151    1407526       view  418619            NaN      1\n",
       "106294   1433566135044    1407526       view  418619            NaN      1\n",
       "337403   1434585232543    1407527       view   85307            NaN      1\n",
       "339600   1434585451071    1407527       view   85307            NaN      1\n",
       "331264   1434585145087    1407527       view  254432            NaN      1\n",
       "346677   1434585240943    1407527       view  254432            NaN      1\n",
       "346680   1434585284740    1407527       view  254432            NaN      1\n",
       "1390821  1442173028715    1407528       view  195083            NaN      1\n",
       "1394755  1442175833921    1407528       view  195083            NaN      1\n",
       "2627077  1437942607857    1407530       view  455539            NaN      1\n",
       "2648574  1437964161007    1407530       view  455539            NaN      1\n",
       "2498021  1437503740977    1407537       view  156770            NaN      1\n",
       "2504914  1437505896838    1407537       view  156770            NaN      1\n",
       "2135872  1436072303991    1407560       view  240708            NaN      1\n",
       "2130211  1436072351277    1407560       view  240708            NaN      1\n",
       "1603999  1431311689814    1407572       view  122041            NaN      1\n",
       "1713816  1431738322384    1407572       view  122041            NaN      1\n",
       "656195   1438648367715    1407573       view   82278            NaN      1\n",
       "645052   1438648495146    1407573       view   82278            NaN      1\n",
       "\n",
       "[943960 rows x 6 columns]"
      ]
     },
     "execution_count": 5,
     "metadata": {},
     "output_type": "execute_result"
    }
   ],
   "source": [
    "event_df[event_df[['visitorid', 'itemid']].duplicated(keep=False)].sort_values(['visitorid', 'itemid', 'timestamp'])"
   ]
  },
  {
   "cell_type": "code",
   "execution_count": 6,
   "metadata": {
    "ExecuteTime": {
     "end_time": "2020-06-08T13:34:45.902257Z",
     "start_time": "2020-06-08T13:34:43.839436Z"
    }
   },
   "outputs": [
    {
     "name": "stdout",
     "output_type": "stream",
     "text": [
      "Before: (2756101, 6)\n",
      "After: (2145179, 5)\n"
     ]
    }
   ],
   "source": [
    "print('Before:', event_df.shape)\n",
    "event_df = event_df.groupby(['visitorid', 'itemid']).agg({'score':max, 'timestamp':min}).reset_index()\n",
    "event_df['event'] = event_df.score.map({v:k for k, v in score_map.items()})\n",
    "print('After:', event_df.shape)"
   ]
  },
  {
   "cell_type": "code",
   "execution_count": 7,
   "metadata": {
    "ExecuteTime": {
     "end_time": "2020-06-08T13:34:45.929918Z",
     "start_time": "2020-06-08T13:34:45.905306Z"
    }
   },
   "outputs": [
    {
     "data": {
      "text/html": [
       "<div>\n",
       "<style scoped>\n",
       "    .dataframe tbody tr th:only-of-type {\n",
       "        vertical-align: middle;\n",
       "    }\n",
       "\n",
       "    .dataframe tbody tr th {\n",
       "        vertical-align: top;\n",
       "    }\n",
       "\n",
       "    .dataframe thead th {\n",
       "        text-align: right;\n",
       "    }\n",
       "</style>\n",
       "<table border=\"1\" class=\"dataframe\">\n",
       "  <thead>\n",
       "    <tr style=\"text-align: right;\">\n",
       "      <th></th>\n",
       "      <th>visitorid</th>\n",
       "      <th>itemid</th>\n",
       "      <th>score</th>\n",
       "      <th>timestamp</th>\n",
       "      <th>event</th>\n",
       "    </tr>\n",
       "  </thead>\n",
       "  <tbody>\n",
       "    <tr>\n",
       "      <th>0</th>\n",
       "      <td>0</td>\n",
       "      <td>67045</td>\n",
       "      <td>1</td>\n",
       "      <td>1442004917175</td>\n",
       "      <td>view</td>\n",
       "    </tr>\n",
       "    <tr>\n",
       "      <th>1</th>\n",
       "      <td>0</td>\n",
       "      <td>285930</td>\n",
       "      <td>1</td>\n",
       "      <td>1442004589439</td>\n",
       "      <td>view</td>\n",
       "    </tr>\n",
       "    <tr>\n",
       "      <th>2</th>\n",
       "      <td>0</td>\n",
       "      <td>357564</td>\n",
       "      <td>1</td>\n",
       "      <td>1442004759591</td>\n",
       "      <td>view</td>\n",
       "    </tr>\n",
       "    <tr>\n",
       "      <th>3</th>\n",
       "      <td>1</td>\n",
       "      <td>72028</td>\n",
       "      <td>1</td>\n",
       "      <td>1439487966444</td>\n",
       "      <td>view</td>\n",
       "    </tr>\n",
       "    <tr>\n",
       "      <th>4</th>\n",
       "      <td>2</td>\n",
       "      <td>216305</td>\n",
       "      <td>1</td>\n",
       "      <td>1438970468920</td>\n",
       "      <td>view</td>\n",
       "    </tr>\n",
       "  </tbody>\n",
       "</table>\n",
       "</div>"
      ],
      "text/plain": [
       "   visitorid  itemid  score      timestamp event\n",
       "0          0   67045      1  1442004917175  view\n",
       "1          0  285930      1  1442004589439  view\n",
       "2          0  357564      1  1442004759591  view\n",
       "3          1   72028      1  1439487966444  view\n",
       "4          2  216305      1  1438970468920  view"
      ]
     },
     "execution_count": 7,
     "metadata": {},
     "output_type": "execute_result"
    }
   ],
   "source": [
    "event_df.head()"
   ]
  },
  {
   "cell_type": "markdown",
   "metadata": {},
   "source": [
    "# Remove customers with <5 actions"
   ]
  },
  {
   "cell_type": "code",
   "execution_count": 8,
   "metadata": {
    "ExecuteTime": {
     "end_time": "2020-06-08T13:34:45.950308Z",
     "start_time": "2020-06-08T13:34:45.932531Z"
    },
    "scrolled": false
   },
   "outputs": [],
   "source": [
    "# actions_by_user = event_df.groupby(\"visitorid\").visitorid.count()\n",
    "# print('Before: ', event_df.shape)\n",
    "# event_df = event_df[~event_df.visitorid.isin(actions_by_user[actions_by_user<5].index.values)]\n",
    "# print('After: ', event_df.shape)"
   ]
  },
  {
   "cell_type": "code",
   "execution_count": 9,
   "metadata": {
    "ExecuteTime": {
     "end_time": "2020-06-08T13:34:45.972855Z",
     "start_time": "2020-06-08T13:34:45.952102Z"
    }
   },
   "outputs": [],
   "source": [
    "# from gc import collect\n",
    "# del actions_by_user\n",
    "# collect()"
   ]
  },
  {
   "cell_type": "markdown",
   "metadata": {},
   "source": [
    "# Remove customers only views and views too often (20+ views)"
   ]
  },
  {
   "cell_type": "code",
   "execution_count": 10,
   "metadata": {
    "ExecuteTime": {
     "end_time": "2020-06-08T13:34:47.994506Z",
     "start_time": "2020-06-08T13:34:45.974628Z"
    }
   },
   "outputs": [
    {
     "data": {
      "text/html": [
       "<div>\n",
       "<style scoped>\n",
       "    .dataframe tbody tr th:only-of-type {\n",
       "        vertical-align: middle;\n",
       "    }\n",
       "\n",
       "    .dataframe tbody tr th {\n",
       "        vertical-align: top;\n",
       "    }\n",
       "\n",
       "    .dataframe thead tr th {\n",
       "        text-align: left;\n",
       "    }\n",
       "\n",
       "    .dataframe thead tr:last-of-type th {\n",
       "        text-align: right;\n",
       "    }\n",
       "</style>\n",
       "<table border=\"1\" class=\"dataframe\">\n",
       "  <thead>\n",
       "    <tr>\n",
       "      <th></th>\n",
       "      <th colspan=\"2\" halign=\"left\">view</th>\n",
       "      <th colspan=\"2\" halign=\"left\">addtocart</th>\n",
       "      <th colspan=\"2\" halign=\"left\">transaction</th>\n",
       "    </tr>\n",
       "    <tr>\n",
       "      <th></th>\n",
       "      <th>sum</th>\n",
       "      <th>mean</th>\n",
       "      <th>sum</th>\n",
       "      <th>mean</th>\n",
       "      <th>sum</th>\n",
       "      <th>mean</th>\n",
       "    </tr>\n",
       "    <tr>\n",
       "      <th>visitorid</th>\n",
       "      <th></th>\n",
       "      <th></th>\n",
       "      <th></th>\n",
       "      <th></th>\n",
       "      <th></th>\n",
       "      <th></th>\n",
       "    </tr>\n",
       "  </thead>\n",
       "  <tbody>\n",
       "    <tr>\n",
       "      <th>0</th>\n",
       "      <td>3.0</td>\n",
       "      <td>1.0</td>\n",
       "      <td>0.0</td>\n",
       "      <td>0.0</td>\n",
       "      <td>0.0</td>\n",
       "      <td>0.0</td>\n",
       "    </tr>\n",
       "    <tr>\n",
       "      <th>1</th>\n",
       "      <td>1.0</td>\n",
       "      <td>1.0</td>\n",
       "      <td>0.0</td>\n",
       "      <td>0.0</td>\n",
       "      <td>0.0</td>\n",
       "      <td>0.0</td>\n",
       "    </tr>\n",
       "    <tr>\n",
       "      <th>2</th>\n",
       "      <td>4.0</td>\n",
       "      <td>1.0</td>\n",
       "      <td>0.0</td>\n",
       "      <td>0.0</td>\n",
       "      <td>0.0</td>\n",
       "      <td>0.0</td>\n",
       "    </tr>\n",
       "    <tr>\n",
       "      <th>3</th>\n",
       "      <td>1.0</td>\n",
       "      <td>1.0</td>\n",
       "      <td>0.0</td>\n",
       "      <td>0.0</td>\n",
       "      <td>0.0</td>\n",
       "      <td>0.0</td>\n",
       "    </tr>\n",
       "    <tr>\n",
       "      <th>4</th>\n",
       "      <td>1.0</td>\n",
       "      <td>1.0</td>\n",
       "      <td>0.0</td>\n",
       "      <td>0.0</td>\n",
       "      <td>0.0</td>\n",
       "      <td>0.0</td>\n",
       "    </tr>\n",
       "  </tbody>\n",
       "</table>\n",
       "</div>"
      ],
      "text/plain": [
       "          view      addtocart      transaction     \n",
       "           sum mean       sum mean         sum mean\n",
       "visitorid                                          \n",
       "0          3.0  1.0       0.0  0.0         0.0  0.0\n",
       "1          1.0  1.0       0.0  0.0         0.0  0.0\n",
       "2          4.0  1.0       0.0  0.0         0.0  0.0\n",
       "3          1.0  1.0       0.0  0.0         0.0  0.0\n",
       "4          1.0  1.0       0.0  0.0         0.0  0.0"
      ]
     },
     "execution_count": 10,
     "metadata": {},
     "output_type": "execute_result"
    }
   ],
   "source": [
    "for v in event_df.event.unique():\n",
    "    event_df[v] = event_df.event == v\n",
    "actions_by_user = event_df.groupby(\"visitorid\")[['view', 'addtocart','transaction']].agg([sum, 'mean'])\n",
    "actions_by_user.head()"
   ]
  },
  {
   "cell_type": "code",
   "execution_count": 11,
   "metadata": {
    "ExecuteTime": {
     "end_time": "2020-06-08T13:34:48.097403Z",
     "start_time": "2020-06-08T13:34:47.996355Z"
    }
   },
   "outputs": [
    {
     "data": {
      "text/plain": [
       "0.0015225960115875109"
      ]
     },
     "execution_count": 11,
     "metadata": {},
     "output_type": "execute_result"
    }
   ],
   "source": [
    "views_by_user = actions_by_user['view']\n",
    "(views_by_user[views_by_user['mean']==1]['sum']>15).mean()"
   ]
  },
  {
   "cell_type": "code",
   "execution_count": 12,
   "metadata": {
    "ExecuteTime": {
     "end_time": "2020-06-08T13:34:48.954210Z",
     "start_time": "2020-06-08T13:34:48.099383Z"
    }
   },
   "outputs": [
    {
     "data": {
      "text/plain": [
       "<matplotlib.axes._subplots.AxesSubplot at 0x12159ccc0>"
      ]
     },
     "execution_count": 12,
     "metadata": {},
     "output_type": "execute_result"
    },
    {
     "data": {
      "image/png": "[encoded data removed]",
      "text/plain": [
       "<Figure size 432x288 with 1 Axes>"
      ]
     },
     "metadata": {
      "needs_background": "light"
     },
     "output_type": "display_data"
    }
   ],
   "source": [
    "plt.yscale('log')\n",
    "views_by_user[views_by_user['mean']==1]['sum'].hist(bins=50)"
   ]
  },
  {
   "cell_type": "code",
   "execution_count": 13,
   "metadata": {
    "ExecuteTime": {
     "end_time": "2020-06-08T13:34:49.222127Z",
     "start_time": "2020-06-08T13:34:48.956343Z"
    }
   },
   "outputs": [
    {
     "name": "stdout",
     "output_type": "stream",
     "text": [
      "Before:  (2145179, 8)\n",
      "After:  (2127616, 8)\n"
     ]
    }
   ],
   "source": [
    "print('Before: ', event_df.shape)\n",
    "event_df = event_df[~event_df.visitorid.isin(views_by_user[(views_by_user['sum']>59)&(views_by_user['mean']==1)].index.values)]\n",
    "print('After: ', event_df.shape)"
   ]
  },
  {
   "cell_type": "code",
   "execution_count": 14,
   "metadata": {
    "ExecuteTime": {
     "end_time": "2020-06-08T13:34:49.291704Z",
     "start_time": "2020-06-08T13:34:49.223867Z"
    }
   },
   "outputs": [
    {
     "data": {
      "text/plain": [
       "5246"
      ]
     },
     "execution_count": 14,
     "metadata": {},
     "output_type": "execute_result"
    }
   ],
   "source": [
    "from gc import collect\n",
    "collect()"
   ]
  },
  {
   "cell_type": "markdown",
   "metadata": {},
   "source": [
    "# Remove customers never buys but view/add-to-cart too often"
   ]
  },
  {
   "cell_type": "code",
   "execution_count": 15,
   "metadata": {
    "ExecuteTime": {
     "end_time": "2020-06-08T13:34:49.324416Z",
     "start_time": "2020-06-08T13:34:49.293459Z"
    },
    "scrolled": true
   },
   "outputs": [
    {
     "data": {
      "text/html": [
       "<div>\n",
       "<style scoped>\n",
       "    .dataframe tbody tr th:only-of-type {\n",
       "        vertical-align: middle;\n",
       "    }\n",
       "\n",
       "    .dataframe tbody tr th {\n",
       "        vertical-align: top;\n",
       "    }\n",
       "\n",
       "    .dataframe thead tr th {\n",
       "        text-align: left;\n",
       "    }\n",
       "\n",
       "    .dataframe thead tr:last-of-type th {\n",
       "        text-align: right;\n",
       "    }\n",
       "</style>\n",
       "<table border=\"1\" class=\"dataframe\">\n",
       "  <thead>\n",
       "    <tr>\n",
       "      <th></th>\n",
       "      <th colspan=\"2\" halign=\"left\">view</th>\n",
       "      <th colspan=\"2\" halign=\"left\">addtocart</th>\n",
       "      <th colspan=\"2\" halign=\"left\">transaction</th>\n",
       "    </tr>\n",
       "    <tr>\n",
       "      <th></th>\n",
       "      <th>sum</th>\n",
       "      <th>mean</th>\n",
       "      <th>sum</th>\n",
       "      <th>mean</th>\n",
       "      <th>sum</th>\n",
       "      <th>mean</th>\n",
       "    </tr>\n",
       "    <tr>\n",
       "      <th>visitorid</th>\n",
       "      <th></th>\n",
       "      <th></th>\n",
       "      <th></th>\n",
       "      <th></th>\n",
       "      <th></th>\n",
       "      <th></th>\n",
       "    </tr>\n",
       "  </thead>\n",
       "  <tbody>\n",
       "    <tr>\n",
       "      <th>0</th>\n",
       "      <td>3.0</td>\n",
       "      <td>1.0</td>\n",
       "      <td>0.0</td>\n",
       "      <td>0.0</td>\n",
       "      <td>0.0</td>\n",
       "      <td>0.0</td>\n",
       "    </tr>\n",
       "    <tr>\n",
       "      <th>1</th>\n",
       "      <td>1.0</td>\n",
       "      <td>1.0</td>\n",
       "      <td>0.0</td>\n",
       "      <td>0.0</td>\n",
       "      <td>0.0</td>\n",
       "      <td>0.0</td>\n",
       "    </tr>\n",
       "    <tr>\n",
       "      <th>2</th>\n",
       "      <td>4.0</td>\n",
       "      <td>1.0</td>\n",
       "      <td>0.0</td>\n",
       "      <td>0.0</td>\n",
       "      <td>0.0</td>\n",
       "      <td>0.0</td>\n",
       "    </tr>\n",
       "    <tr>\n",
       "      <th>3</th>\n",
       "      <td>1.0</td>\n",
       "      <td>1.0</td>\n",
       "      <td>0.0</td>\n",
       "      <td>0.0</td>\n",
       "      <td>0.0</td>\n",
       "      <td>0.0</td>\n",
       "    </tr>\n",
       "    <tr>\n",
       "      <th>4</th>\n",
       "      <td>1.0</td>\n",
       "      <td>1.0</td>\n",
       "      <td>0.0</td>\n",
       "      <td>0.0</td>\n",
       "      <td>0.0</td>\n",
       "      <td>0.0</td>\n",
       "    </tr>\n",
       "  </tbody>\n",
       "</table>\n",
       "</div>"
      ],
      "text/plain": [
       "          view      addtocart      transaction     \n",
       "           sum mean       sum mean         sum mean\n",
       "visitorid                                          \n",
       "0          3.0  1.0       0.0  0.0         0.0  0.0\n",
       "1          1.0  1.0       0.0  0.0         0.0  0.0\n",
       "2          4.0  1.0       0.0  0.0         0.0  0.0\n",
       "3          1.0  1.0       0.0  0.0         0.0  0.0\n",
       "4          1.0  1.0       0.0  0.0         0.0  0.0"
      ]
     },
     "execution_count": 15,
     "metadata": {},
     "output_type": "execute_result"
    }
   ],
   "source": [
    "actions_by_user.head()"
   ]
  },
  {
   "cell_type": "code",
   "execution_count": 16,
   "metadata": {
    "ExecuteTime": {
     "end_time": "2020-06-08T13:34:49.357597Z",
     "start_time": "2020-06-08T13:34:49.326511Z"
    }
   },
   "outputs": [],
   "source": [
    "actions_by_user['non_transaction'] = actions_by_user['view']['sum'] + actions_by_user['addtocart']['sum']"
   ]
  },
  {
   "cell_type": "code",
   "execution_count": 17,
   "metadata": {
    "ExecuteTime": {
     "end_time": "2020-06-08T13:34:50.146057Z",
     "start_time": "2020-06-08T13:34:49.360602Z"
    }
   },
   "outputs": [
    {
     "data": {
      "text/plain": [
       "<matplotlib.axes._subplots.AxesSubplot at 0x120f0d908>"
      ]
     },
     "execution_count": 17,
     "metadata": {},
     "output_type": "execute_result"
    },
    {
     "data": {
      "image/png": "[encoded data removed]",
      "text/plain": [
       "<Figure size 432x288 with 1 Axes>"
      ]
     },
     "metadata": {
      "needs_background": "light"
     },
     "output_type": "display_data"
    }
   ],
   "source": [
    "plt.yscale('log')\n",
    "actions_by_user[actions_by_user['transaction']['sum']==0].non_transaction.hist(bins=50)"
   ]
  },
  {
   "cell_type": "code",
   "execution_count": 18,
   "metadata": {
    "ExecuteTime": {
     "end_time": "2020-06-08T13:34:50.219997Z",
     "start_time": "2020-06-08T13:34:50.148377Z"
    }
   },
   "outputs": [
    {
     "data": {
      "text/plain": [
       "0.00028083025458838665"
      ]
     },
     "execution_count": 18,
     "metadata": {},
     "output_type": "execute_result"
    }
   ],
   "source": [
    "(actions_by_user[actions_by_user['transaction']['sum']==0].non_transaction>39).mean()"
   ]
  },
  {
   "cell_type": "code",
   "execution_count": 19,
   "metadata": {
    "ExecuteTime": {
     "end_time": "2020-06-08T13:34:50.501900Z",
     "start_time": "2020-06-08T13:34:50.222081Z"
    }
   },
   "outputs": [
    {
     "name": "stdout",
     "output_type": "stream",
     "text": [
      "Before:  (2127616, 8)\n",
      "After:  (2105221, 8)\n"
     ]
    }
   ],
   "source": [
    "print('Before: ', event_df.shape)\n",
    "event_df = event_df[~event_df.visitorid.isin(actions_by_user[(actions_by_user['transaction']['sum']==0)&(actions_by_user['non_transaction']>39)].index.values)]\n",
    "print('After: ', event_df.shape)\n"
   ]
  },
  {
   "cell_type": "code",
   "execution_count": 20,
   "metadata": {
    "ExecuteTime": {
     "end_time": "2020-06-08T13:34:50.568406Z",
     "start_time": "2020-06-08T13:34:50.503797Z"
    }
   },
   "outputs": [
    {
     "data": {
      "text/plain": [
       "3100"
      ]
     },
     "execution_count": 20,
     "metadata": {},
     "output_type": "execute_result"
    }
   ],
   "source": [
    "collect()"
   ]
  },
  {
   "cell_type": "markdown",
   "metadata": {},
   "source": [
    "# Remove user-item that do not have view"
   ]
  },
  {
   "cell_type": "code",
   "execution_count": 21,
   "metadata": {
    "ExecuteTime": {
     "end_time": "2020-06-08T13:34:51.600894Z",
     "start_time": "2020-06-08T13:34:50.570672Z"
    }
   },
   "outputs": [
    {
     "data": {
      "text/plain": [
       "62887"
      ]
     },
     "execution_count": 21,
     "metadata": {},
     "output_type": "execute_result"
    }
   ],
   "source": [
    "views_by_visitor_item = event_df.groupby(['visitorid', 'itemid']).view.sum()\n",
    "sum(views_by_visitor_item==0)"
   ]
  },
  {
   "cell_type": "code",
   "execution_count": 22,
   "metadata": {
    "ExecuteTime": {
     "end_time": "2020-06-08T13:34:51.621770Z",
     "start_time": "2020-06-08T13:34:51.605346Z"
    }
   },
   "outputs": [],
   "source": [
    "# print('Before: ', event_df.shape)\n",
    "# views_by_visitor_item = views_by_visitor_item[views_by_visitor_item>0].reset_index()\n",
    "# event_df = event_df.merge(views_by_visitor_item, \n",
    "#                                 on=['visitorid', 'itemid'], how='inner')\n",
    "# print('After: ', event_df.shape)"
   ]
  },
  {
   "cell_type": "code",
   "execution_count": 23,
   "metadata": {
    "ExecuteTime": {
     "end_time": "2020-06-08T13:34:51.680083Z",
     "start_time": "2020-06-08T13:34:51.623807Z"
    }
   },
   "outputs": [
    {
     "data": {
      "text/plain": [
       "60"
      ]
     },
     "execution_count": 23,
     "metadata": {},
     "output_type": "execute_result"
    }
   ],
   "source": [
    "collect()"
   ]
  },
  {
   "cell_type": "markdown",
   "metadata": {},
   "source": [
    "# Remove too infrequent users/items"
   ]
  },
  {
   "cell_type": "code",
   "execution_count": 24,
   "metadata": {
    "ExecuteTime": {
     "end_time": "2020-06-08T13:34:52.077228Z",
     "start_time": "2020-06-08T13:34:51.682632Z"
    },
    "scrolled": true
   },
   "outputs": [
    {
     "data": {
      "text/plain": [
       "visitorid      0\n",
       "itemid         0\n",
       "score          0\n",
       "timestamp      0\n",
       "event          0\n",
       "view           0\n",
       "addtocart      0\n",
       "transaction    0\n",
       "dtype: int64"
      ]
     },
     "execution_count": 24,
     "metadata": {},
     "output_type": "execute_result"
    }
   ],
   "source": [
    "event_df.isnull().sum()"
   ]
  },
  {
   "cell_type": "code",
   "execution_count": 25,
   "metadata": {
    "ExecuteTime": {
     "end_time": "2020-06-08T13:34:52.226489Z",
     "start_time": "2020-06-08T13:34:52.078853Z"
    }
   },
   "outputs": [
    {
     "data": {
      "text/plain": [
       "0.9721124682700535"
      ]
     },
     "execution_count": 25,
     "metadata": {},
     "output_type": "execute_result"
    }
   ],
   "source": [
    "visitor_score = event_df.groupby('visitorid').score.count()\n",
    "(visitor_score<5).mean()"
   ]
  },
  {
   "cell_type": "code",
   "execution_count": 26,
   "metadata": {
    "ExecuteTime": {
     "end_time": "2020-06-08T13:34:52.394639Z",
     "start_time": "2020-06-08T13:34:52.228200Z"
    }
   },
   "outputs": [
    {
     "data": {
      "text/plain": [
       "0.6514113609907871"
      ]
     },
     "execution_count": 26,
     "metadata": {},
     "output_type": "execute_result"
    }
   ],
   "source": [
    "item_score = event_df.groupby('itemid').score.count()\n",
    "(item_score<5).mean()"
   ]
  },
  {
   "cell_type": "code",
   "execution_count": 27,
   "metadata": {
    "ExecuteTime": {
     "end_time": "2020-06-08T13:34:52.746512Z",
     "start_time": "2020-06-08T13:34:52.396376Z"
    }
   },
   "outputs": [
    {
     "name": "stdout",
     "output_type": "stream",
     "text": [
      "Before:  (2105221, 8)\n"
     ]
    },
    {
     "ename": "NameError",
     "evalue": "name 'thres' is not defined",
     "output_type": "error",
     "traceback": [
      "\u001b[0;31m---------------------------------------------------------------------------\u001b[0m",
      "\u001b[0;31mNameError\u001b[0m                                 Traceback (most recent call last)",
      "\u001b[0;32m<ipython-input-27-a4c4c293b3fd>\u001b[0m in \u001b[0;36m<module>\u001b[0;34m\u001b[0m\n\u001b[1;32m      8\u001b[0m     \u001b[0mitem_score\u001b[0m \u001b[0;34m=\u001b[0m \u001b[0mevent_df\u001b[0m\u001b[0;34m.\u001b[0m\u001b[0mgroupby\u001b[0m\u001b[0;34m(\u001b[0m\u001b[0;34m'itemid'\u001b[0m\u001b[0;34m)\u001b[0m\u001b[0;34m.\u001b[0m\u001b[0mscore\u001b[0m\u001b[0;34m.\u001b[0m\u001b[0mcount\u001b[0m\u001b[0;34m(\u001b[0m\u001b[0;34m)\u001b[0m\u001b[0;34m\u001b[0m\u001b[0;34m\u001b[0m\u001b[0m\n\u001b[1;32m      9\u001b[0m     \u001b[0mprint\u001b[0m\u001b[0;34m(\u001b[0m\u001b[0;34m'Before: '\u001b[0m\u001b[0;34m,\u001b[0m \u001b[0mevent_df\u001b[0m\u001b[0;34m.\u001b[0m\u001b[0mshape\u001b[0m\u001b[0;34m)\u001b[0m\u001b[0;34m\u001b[0m\u001b[0;34m\u001b[0m\u001b[0m\n\u001b[0;32m---> 10\u001b[0;31m     event_df = event_df[event_df.visitorid.isin(visitor_score.index.values[visitor_score>thres])&\n\u001b[0m\u001b[1;32m     11\u001b[0m                         \u001b[0mevent_df\u001b[0m\u001b[0;34m.\u001b[0m\u001b[0mitemid\u001b[0m\u001b[0;34m.\u001b[0m\u001b[0misin\u001b[0m\u001b[0;34m(\u001b[0m\u001b[0mitem_score\u001b[0m\u001b[0;34m.\u001b[0m\u001b[0mindex\u001b[0m\u001b[0;34m.\u001b[0m\u001b[0mvalues\u001b[0m\u001b[0;34m[\u001b[0m\u001b[0mitem_score\u001b[0m\u001b[0;34m>\u001b[0m\u001b[0mthres\u001b[0m\u001b[0;34m]\u001b[0m\u001b[0;34m)\u001b[0m\u001b[0;34m\u001b[0m\u001b[0;34m\u001b[0m\u001b[0m\n\u001b[1;32m     12\u001b[0m                        ]\n",
      "\u001b[0;31mNameError\u001b[0m: name 'thres' is not defined"
     ]
    }
   ],
   "source": [
    "b = 1e10\n",
    "a = event_df.shape[0]\n",
    "thres_v = 20\n",
    "thres_i = 20\n",
    "while a < b:\n",
    "    b = a\n",
    "    visitor_score = event_df.groupby('visitorid').score.count()\n",
    "    item_score = event_df.groupby('itemid').score.count()\n",
    "    print('Before: ', event_df.shape)\n",
    "    event_df = event_df[event_df.visitorid.isin(visitor_score.index.values[visitor_score>thres])&\n",
    "                        event_df.itemid.isin(item_score.index.values[item_score>thres])\n",
    "                       ]\n",
    "    print('After: ', event_df.shape)\n",
    "    a = event_df.shape[0]"
   ]
  },
  {
   "cell_type": "markdown",
   "metadata": {},
   "source": [
    "# Final "
   ]
  },
  {
   "cell_type": "code",
   "execution_count": null,
   "metadata": {
    "ExecuteTime": {
     "end_time": "2020-06-08T13:34:52.749024Z",
     "start_time": "2020-06-08T13:34:38.887Z"
    },
    "scrolled": true
   },
   "outputs": [],
   "source": [
    "# display(event_df.groupby('dataset')[['visitorid', 'itemid']].nunique())\n",
    "display(event_df[['visitorid', 'itemid']].nunique())\n",
    "# display(event_df.dataset.value_counts())"
   ]
  },
  {
   "cell_type": "code",
   "execution_count": null,
   "metadata": {
    "ExecuteTime": {
     "end_time": "2020-06-08T13:34:52.750494Z",
     "start_time": "2020-06-08T13:34:38.891Z"
    }
   },
   "outputs": [],
   "source": [
    "event_df = event_df.sort_values('timestamp')\n",
    "def categorize_rows(df):\n",
    "    len_test = max(1, int(0.2*len(df)))\n",
    "    df['dataset'][-len_test:] = 'test'\n",
    "    return df\n",
    "\n",
    "event_df['dataset'] = 'train'\n",
    "event_df = event_df.groupby('visitorid').apply(categorize_rows)\n",
    "event_df.head()"
   ]
  },
  {
   "cell_type": "code",
   "execution_count": null,
   "metadata": {
    "ExecuteTime": {
     "end_time": "2020-06-08T13:34:52.752066Z",
     "start_time": "2020-06-08T13:34:38.894Z"
    }
   },
   "outputs": [],
   "source": [
    "event_df.visitorid[event_df.dataset=='test'].nunique()"
   ]
  },
  {
   "cell_type": "code",
   "execution_count": null,
   "metadata": {
    "ExecuteTime": {
     "end_time": "2020-06-08T13:34:52.753750Z",
     "start_time": "2020-06-08T13:34:38.897Z"
    }
   },
   "outputs": [],
   "source": [
    "from helpers import df_to_matrix\n",
    "# event_df = event_df[(event_df['dataset'] == 'train')|(event_df.score>4)]\n",
    "train, test, uid_to_idx, idx_to_uid,\\\n",
    "mid_to_idx, idx_to_mid = df_to_matrix(event_df, 'visitorid', 'itemid')"
   ]
  },
  {
   "cell_type": "code",
   "execution_count": null,
   "metadata": {
    "ExecuteTime": {
     "end_time": "2020-06-08T13:34:52.755169Z",
     "start_time": "2020-06-08T13:34:38.900Z"
    }
   },
   "outputs": [],
   "source": [
    "train, test"
   ]
  },
  {
   "cell_type": "code",
   "execution_count": null,
   "metadata": {
    "ExecuteTime": {
     "end_time": "2020-06-08T13:34:52.756615Z",
     "start_time": "2020-06-08T13:34:38.903Z"
    },
    "scrolled": true
   },
   "outputs": [],
   "source": [
    "model = LightFM(no_components=30,loss='warp')\n",
    "\n",
    "model.fit(train, epochs=15)\n",
    "\n",
    "train_precision = precision_at_k(model, train, k=100).mean()\n",
    "test_precision = precision_at_k(model, test, k=100, train_interactions=train).mean()\n",
    "\n",
    "train_auc = auc_score(model, train).mean()\n",
    "test_auc = auc_score(model, test, train_interactions=train).mean()\n",
    "\n",
    "print('Precision: train %.4f, test %.4f.' % (train_precision, test_precision))\n",
    "print('AUC: train %.2f, test %.2f.' % (train_auc, test_auc))"
   ]
  },
  {
   "cell_type": "code",
   "execution_count": null,
   "metadata": {
    "ExecuteTime": {
     "end_time": "2020-06-08T13:34:52.757925Z",
     "start_time": "2020-06-08T13:34:38.906Z"
    }
   },
   "outputs": [],
   "source": [
    "from helpers import patk_learning_curve, plot_patk\n",
    "model = LightFM(loss='warp', random_state=2016)\n",
    "# Initialize model.\n",
    "model.fit(train, epochs=200);\n",
    "\n",
    "iterarray = range(5, 200, 5)\n",
    "\n",
    "model, train_patk, test_patk = patk_learning_curve(\n",
    "    model, train, test, iterarray, k=100, **{'num_threads': 4}\n",
    ")"
   ]
  },
  {
   "cell_type": "code",
   "execution_count": null,
   "metadata": {
    "ExecuteTime": {
     "end_time": "2020-06-08T13:34:52.759347Z",
     "start_time": "2020-06-08T13:34:38.910Z"
    }
   },
   "outputs": [],
   "source": [
    "from helpers import patk_learning_curve, plot_patk\n",
    "import seaborn as sns\n",
    "import matplotlib.pyplot as plt\n",
    "# Plot train on left\n",
    "ax = plt.subplot(1, 2, 1)\n",
    "fig = ax.get_figure();\n",
    "sns.despine(fig);\n",
    "plot_patk(iterarray, train_patk,\n",
    "         'Train', k=5)\n",
    "\n",
    "# Plot test on right\n",
    "ax = plt.subplot(1, 2, 2)\n",
    "fig = ax.get_figure();\n",
    "sns.despine(fig);\n",
    "plot_patk(iterarray, test_patk,\n",
    "         'Test', k=5)\n",
    "\n",
    "plt.tight_layout();\n"
   ]
  },
  {
   "cell_type": "markdown",
   "metadata": {},
   "source": [
    "# Add item features"
   ]
  },
  {
   "cell_type": "code",
   "execution_count": null,
   "metadata": {
    "ExecuteTime": {
     "end_time": "2020-06-08T13:34:52.760719Z",
     "start_time": "2020-06-08T13:34:38.913Z"
    }
   },
   "outputs": [],
   "source": [
    "item_df = []\n",
    "for f in ['item_properties_part1.csv.zip', 'item_properties_part2.csv.zip']:\n",
    "    df = pd.read_csv(f)\n",
    "    df = df[df.itemid.isin(mid_to_idx.keys())]\n",
    "    item_df.append(df)\n",
    "item_df = pd.concat(item_df)\n",
    "print(item_df.shape)\n",
    "item_df.head()"
   ]
  },
  {
   "cell_type": "code",
   "execution_count": null,
   "metadata": {
    "ExecuteTime": {
     "end_time": "2020-06-08T13:34:52.762098Z",
     "start_time": "2020-06-08T13:34:38.916Z"
    }
   },
   "outputs": [],
   "source": [
    "collect()"
   ]
  },
  {
   "cell_type": "code",
   "execution_count": null,
   "metadata": {
    "ExecuteTime": {
     "end_time": "2020-06-08T13:34:52.763422Z",
     "start_time": "2020-06-08T13:34:38.919Z"
    }
   },
   "outputs": [],
   "source": [
    "category_tree = pd.read_csv('category_tree.csv')\n",
    "category_tree.head()"
   ]
  },
  {
   "cell_type": "code",
   "execution_count": null,
   "metadata": {
    "ExecuteTime": {
     "end_time": "2020-06-08T13:34:52.765333Z",
     "start_time": "2020-06-08T13:34:38.921Z"
    }
   },
   "outputs": [],
   "source": [
    "last_node = set()\n",
    "def nest_graph(node, node_key):\n",
    "    if not sum(category_tree.parentid == node_key):\n",
    "        last_node.add(node_key)\n",
    "        return {}\n",
    "    node[node_key] = {}\n",
    "    for k in category_tree.categoryid[category_tree.parentid == node_key]:\n",
    "        node[node_key][k] = nest_graph(node[node_key], k)\n",
    "    return node[node_key]\n",
    "\n",
    "category_tree_graph = {}   \n",
    "for k in category_tree.categoryid[category_tree.parentid.isnull()]:\n",
    "    category_tree_graph[k] = nest_graph(category_tree_graph, k)\n",
    "    \n",
    "category_tree = category_tree.set_index('categoryid')\n",
    "def search_tree(cate):\n",
    "    path = []\n",
    "    while not pd.isnull(category_tree.parentid.loc[cate]):\n",
    "        cate = category_tree.parentid.loc[cate]\n",
    "        path.append(cate)\n",
    "    return path\n",
    "search_tree(799)   "
   ]
  },
  {
   "cell_type": "code",
   "execution_count": null,
   "metadata": {
    "ExecuteTime": {
     "end_time": "2020-06-08T13:34:52.767070Z",
     "start_time": "2020-06-08T13:34:38.931Z"
    }
   },
   "outputs": [],
   "source": [
    "fake_itemid = []\n",
    "fake_timestamp = []\n",
    "fake_property = []\n",
    "fake_value = []\n",
    "all_items_with_property = set(item_df.itemid)\n",
    "for itx in mid_to_idx.keys():\n",
    "    if itx not in all_items_with_property:\n",
    "        fake_itemid.insert(0, itx)\n",
    "        fake_timestamp.insert(0, 0)\n",
    "        fake_property.insert(0, 888)\n",
    "        fake_value.insert(0, 0)\n",
    "    \n",
    "fake_property_dict = {'itemid':fake_itemid, 'timestamp':fake_timestamp, 'property':fake_property,\n",
    "                     'value':fake_value}\n",
    "\n",
    "fake_df = pd.DataFrame(fake_property_dict, columns=item_df.columns.values)\n",
    "filtered_items = pd.concat([item_df, fake_df])\n",
    "filtered_items['itemid'] = filtered_items['itemid'].apply(lambda x: mid_to_idx[x])\n",
    "filtered_items = filtered_items.sort_values('timestamp', ascending=False).drop_duplicates(['itemid','property'])\n",
    "filtered_items.sort_values(by='itemid', inplace=True)\n",
    "item_to_property_matrix = filtered_items.pivot(index='itemid', columns='property', values='value')\n",
    "item_to_property_matrix"
   ]
  },
  {
   "cell_type": "code",
   "execution_count": null,
   "metadata": {
    "ExecuteTime": {
     "end_time": "2020-06-08T13:34:52.768471Z",
     "start_time": "2020-06-08T13:34:38.933Z"
    }
   },
   "outputs": [],
   "source": [
    "def search_tree(cate):\n",
    "    if not pd.isna(cate):\n",
    "        cate = int(cate)\n",
    "        return category_tree.parentid.loc[cate]\n",
    "    return    \n",
    "\n",
    "item_to_property_matrix = item_to_property_matrix.rename(columns={'categoryid':'categoryid0'})\n",
    "\n",
    "for i in range(1,5):\n",
    "    item_to_property_matrix['categoryid'+str(i)] = item_to_property_matrix['categoryid'+str(i-1)].apply(search_tree)\n",
    "    item_to_property_matrix['categoryid'+str(i)] = np.where(item_to_property_matrix['categoryid'+str(i)].isnull(),\n",
    "                                                      item_to_property_matrix['categoryid'+str(i-1)],\n",
    "                                                      item_to_property_matrix['categoryid'+str(i)]\n",
    "                                                     )\n",
    "\n",
    "t = item_to_property_matrix.isnull().mean()\n",
    "t = set(t[t<.2].index.values)\n",
    "\n",
    "t1 = item_to_property_matrix.nunique()\n",
    "t1 = set(t1[(t1<100)&(t1>1)].index.values)\n",
    "\n",
    "useful_item_properties = t&t1\n",
    "useful_item_properties.add('790')\n",
    "\n",
    "# item_to_property_matrix = item_to_property_matrix[useful_item_properties]\n",
    "collect()"
   ]
  },
  {
   "cell_type": "code",
   "execution_count": null,
   "metadata": {
    "ExecuteTime": {
     "end_time": "2020-06-08T13:34:52.769929Z",
     "start_time": "2020-06-08T13:34:38.936Z"
    }
   },
   "outputs": [],
   "source": [
    "item_to_property_matrix = item_to_property_matrix[useful_item_properties]"
   ]
  },
  {
   "cell_type": "code",
   "execution_count": null,
   "metadata": {
    "ExecuteTime": {
     "end_time": "2020-06-08T13:34:52.771145Z",
     "start_time": "2020-06-08T13:34:38.938Z"
    }
   },
   "outputs": [],
   "source": [
    "def check_numerical(x):\n",
    "    if not pd.isnull(x):\n",
    "        t = x.split()\n",
    "        if (len(t)==1) & (t[0].startswith('n')):\n",
    "            return True\n",
    "        else:\n",
    "            return False\n",
    "    return True\n",
    "item_to_property_matrix.astype(str).applymap(check_numerical).mean()"
   ]
  },
  {
   "cell_type": "code",
   "execution_count": null,
   "metadata": {
    "ExecuteTime": {
     "end_time": "2020-06-08T13:34:52.772361Z",
     "start_time": "2020-06-08T13:34:38.941Z"
    }
   },
   "outputs": [],
   "source": [
    "item_to_property_matrix.nunique()"
   ]
  },
  {
   "cell_type": "code",
   "execution_count": null,
   "metadata": {
    "ExecuteTime": {
     "end_time": "2020-06-08T13:34:52.773923Z",
     "start_time": "2020-06-08T13:34:38.943Z"
    }
   },
   "outputs": [],
   "source": [
    "from sklearn.preprocessing import MinMaxScaler\n",
    "scaler = MinMaxScaler()\n",
    "item_to_property_matrix['790'] = scaler.fit_transform(item_to_property_matrix['790'].str[1:]\\\n",
    "                                                      .astype(float).apply(np.log).values.reshape(-1, 1)).reshape(-1)"
   ]
  },
  {
   "cell_type": "code",
   "execution_count": null,
   "metadata": {
    "ExecuteTime": {
     "end_time": "2020-06-08T13:34:52.775299Z",
     "start_time": "2020-06-08T13:34:38.947Z"
    }
   },
   "outputs": [],
   "source": [
    "item_to_property_matrix"
   ]
  },
  {
   "cell_type": "code",
   "execution_count": null,
   "metadata": {
    "ExecuteTime": {
     "end_time": "2020-06-08T13:34:52.776636Z",
     "start_time": "2020-06-08T13:34:38.956Z"
    }
   },
   "outputs": [],
   "source": [
    "item_to_property_matrix_one_hot_sparse = pd.get_dummies(item_to_property_matrix, \n",
    "                                                        columns = ['categoryid4','categoryid3','categoryid2']\n",
    "                                                       )\n",
    "item_to_property_matrix_one_hot_sparse"
   ]
  },
  {
   "cell_type": "code",
   "execution_count": null,
   "metadata": {
    "ExecuteTime": {
     "end_time": "2020-06-08T13:34:52.778022Z",
     "start_time": "2020-06-08T13:34:38.958Z"
    }
   },
   "outputs": [],
   "source": [
    "cols = item_to_property_matrix_one_hot_sparse.columns\n",
    "for i in range(len(cols)-1):\n",
    "    to_del = []\n",
    "    for j in range(i, len(cols)):\n",
    "        if (item_to_property_matrix_one_hot_sparse[cols[j]] == item_to_property_matrix_one_hot_sparse[cols[i]]).mean()==1:\n",
    "            to_del.append(cols[j])\n",
    "    for c in to_del:\n",
    "        del item_to_property_matrix_one_hot_sparse[c]\n",
    "    cols = item_to_property_matrix_one_hot_sparse.columns\n",
    "item_to_property_matrix_one_hot_sparse.shape"
   ]
  },
  {
   "cell_type": "code",
   "execution_count": null,
   "metadata": {
    "ExecuteTime": {
     "end_time": "2020-06-08T13:34:52.779360Z",
     "start_time": "2020-06-08T13:34:38.960Z"
    }
   },
   "outputs": [],
   "source": [
    "from lightfm import LightFM\n",
    "import scipy.sparse as sp\n",
    "from scipy.sparse import vstack\n"
   ]
  },
  {
   "cell_type": "code",
   "execution_count": null,
   "metadata": {
    "ExecuteTime": {
     "end_time": "2020-06-08T13:34:52.781151Z",
     "start_time": "2020-06-08T13:34:38.963Z"
    }
   },
   "outputs": [],
   "source": [
    "item_to_property_matrix_one_hot_sparse.dtypes"
   ]
  },
  {
   "cell_type": "code",
   "execution_count": null,
   "metadata": {
    "ExecuteTime": {
     "end_time": "2020-06-08T13:34:52.783272Z",
     "start_time": "2020-06-08T13:34:38.965Z"
    }
   },
   "outputs": [],
   "source": [
    "item_to_property_matrix_one_hot_sparse.available.value_counts(dropna=False)"
   ]
  },
  {
   "cell_type": "code",
   "execution_count": null,
   "metadata": {
    "ExecuteTime": {
     "end_time": "2020-06-08T13:34:52.785237Z",
     "start_time": "2020-06-08T13:34:38.968Z"
    }
   },
   "outputs": [],
   "source": [
    "eye.shape,item_to_property_matrix_sparse"
   ]
  },
  {
   "cell_type": "code",
   "execution_count": null,
   "metadata": {
    "ExecuteTime": {
     "end_time": "2020-06-08T13:34:52.787189Z",
     "start_time": "2020-06-08T13:34:38.970Z"
    }
   },
   "outputs": [],
   "source": [
    "from scipy.sparse import csr_matrix\n",
    "import scipy as sp\n",
    "\n",
    "item_to_property_matrix_one_hot_sparse['available'] = item_to_property_matrix_one_hot_sparse['available'].astype(float)\n",
    "# item_to_property_matrix_sparse = csr_matrix(item_to_property_matrix_one_hot_sparse.fillna(0).values)\n",
    "item_to_property_matrix_sparse = item_to_property_matrix_one_hot_sparse.fillna(0)\n",
    "\n",
    "eye = sp.eye(item_to_property_matrix_sparse.shape[0], item_to_property_matrix_sparse.shape[0])#.tocsr()\n",
    "item_features_concat = sp.hstack((eye, item_to_property_matrix_sparse))\n",
    "item_features_concat = csr_matrix(item_features_concat).astype(np.float32)"
   ]
  },
  {
   "cell_type": "code",
   "execution_count": null,
   "metadata": {
    "ExecuteTime": {
     "end_time": "2020-06-08T13:34:52.789313Z",
     "start_time": "2020-06-08T13:34:38.973Z"
    }
   },
   "outputs": [],
   "source": [
    "item_features_concat.shape, eye.shape, item_to_property_matrix_sparse.shape"
   ]
  },
  {
   "cell_type": "code",
   "execution_count": null,
   "metadata": {
    "ExecuteTime": {
     "end_time": "2020-06-08T13:34:52.791253Z",
     "start_time": "2020-06-08T13:34:38.976Z"
    }
   },
   "outputs": [],
   "source": [
    "no_comp, lr, ep = 10, 0.05, 10\n",
    "from helpers import patk_learning_curve, plot_patk\n",
    "model2 = LightFM(loss='warp', random_state=2016)\n",
    "# Initialize model.\n",
    "model2.fit(train, epochs=0);\n",
    "\n",
    "iterarray = range(5, 200, 5)\n",
    "\n",
    "model2, train_patk, test_patk = patk_learning_curve(\n",
    "    model2, train, test, iterarray, k=5, item_features=csr_matrix(item_to_property_matrix_sparse),**{'num_threads': 4}\n",
    ")"
   ]
  },
  {
   "cell_type": "code",
   "execution_count": null,
   "metadata": {
    "ExecuteTime": {
     "end_time": "2020-06-08T13:34:52.792932Z",
     "start_time": "2020-06-08T13:34:38.978Z"
    }
   },
   "outputs": [],
   "source": [
    "train_precision = precision_at_k(model2, train, k=3, item_features=item_to_property_matrix_sparse).mean()\n",
    "test_precision = precision_at_k(model2, test, k=3, item_features=item_to_property_matrix_sparse, train_interactions=train).mean()\n",
    "\n",
    "train_auc = auc_score(model2, train, item_features=item_to_property_matrix_sparse).mean()\n",
    "test_auc = auc_score(model2, test, item_features=item_to_property_matrix_sparse, train_interactions=train).mean()\n",
    "\n",
    "print('Precision: train %.4f, test %.4f.' % (train_precision, test_precision))\n",
    "print('AUC: train %.2f, test %.2f.' % (train_auc, test_auc))"
   ]
  },
  {
   "cell_type": "code",
   "execution_count": null,
   "metadata": {},
   "outputs": [],
   "source": []
  }
 ],
 "metadata": {
  "kernelspec": {
   "display_name": "Python 3",
   "language": "python",
   "name": "python3"
  },
  "language_info": {
   "codemirror_mode": {
    "name": "ipython",
    "version": 3
   },
   "file_extension": ".py",
   "mimetype": "text/x-python",
   "name": "python",
   "nbconvert_exporter": "python",
   "pygments_lexer": "ipython3",
   "version": "3.7.3"
  },
  "toc": {
   "base_numbering": 1,
   "nav_menu": {},
   "number_sections": true,
   "sideBar": true,
   "skip_h1_title": false,
   "title_cell": "Table of Contents",
   "title_sidebar": "Contents",
   "toc_cell": false,
   "toc_position": {},
   "toc_section_display": true,
   "toc_window_display": true
  }
 },
 "nbformat": 4,
 "nbformat_minor": 2
}
